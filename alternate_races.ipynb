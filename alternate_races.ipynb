{
 "cells": [
  {
   "cell_type": "code",
   "execution_count": 1,
   "metadata": {
    "collapsed": false
   },
   "outputs": [],
   "source": [
    "import json, pandas as pd, pprint \n",
    "\n",
    "cdir = \"/media/jsaxon/brobdingnag/data/s3/res/\"\n",
    "jdir = \"/media/jsaxon/brobdingnag/data/c4_redux/\"\n",
    "\n",
    "def write_alternate_votes(s, vote_mod):\n",
    "\n",
    "    votes = pd.read_csv(\"voting/votes/{}_{}.csv\".format(s, vote_mod), index_col = \"rn\")\n",
    "    years = set(votes.columns.str.replace(\"R\", \"\").str.replace(\"D\", \"\").astype(int) + 2000)\n",
    "\n",
    "    json_output = open(jdir + \"/{}_{}_redux.json\".format(s, vote_mod), \"w\")\n",
    "    with open(jdir + \"/{}_redux.json\".format(s)) as fi:\n",
    "        for li, line in enumerate(fi):\n",
    "\n",
    "            if not li % 1000: print(li//1000, end = \" \", flush = True)\n",
    "            j = json.loads(line)\n",
    "\n",
    "            fcsv = cdir + j[\"UID\"] + \"/final.csv\"\n",
    "            df = pd.read_csv(fcsv, names = [\"rn\", \"cd\"], index_col = \"rn\")\n",
    "            df = df.join(votes).groupby(\"cd\").sum()\n",
    "\n",
    "            DemSeats, RepFrac = {}, []\n",
    "            for y in years:\n",
    "\n",
    "                y = \"{:02d}\".format(y - 2000)\n",
    "\n",
    "                DemSeats[\"20\" + y] = (df[\"D\" + y] > df[\"R\" + y]).sum()\n",
    "\n",
    "                df[\"T\" + y] = df[\"D\" + y] + df[\"R\" + y]\n",
    "                RepFrac.extend(list((df[\"R\" + y] / df[\"T\" + y]).round(3)))\n",
    "\n",
    "\n",
    "            jout = {\"UID\"                 : j[\"UID\"],\n",
    "                    \"Score\"               : round(j[\"Score\"], 3),\n",
    "                    \"PopulationDeviation\" : round(j[\"PopulationDeviation\"], 3),\n",
    "                    \"DemSeats\" : DemSeats, \"RepFrac\": RepFrac}\n",
    "\n",
    "            json_output.write(str(jout).replace(\"'\", '\"') + \"\\n\")\n",
    "\n",
    "\n",
    "    json_output.close()"
   ]
  },
  {
   "cell_type": "code",
   "execution_count": 2,
   "metadata": {
    "collapsed": false
   },
   "outputs": [
    {
     "name": "stdout",
     "output_type": "stream",
     "text": [
      "0 1 2 3 4 5 6 7 8 9 10 11 12 13 14 15 16 17 18 19 20 21 22 23 24 25 26 27 28 29 "
     ]
    }
   ],
   "source": [
    "# write_alternate_votes(\"tx\", \"senate\")\n",
    "write_alternate_votes(\"tx\", \"presidential\")\n",
    "write_alternate_votes(\"va\", \"presidential\")"
   ]
  },
  {
   "cell_type": "code",
   "execution_count": null,
   "metadata": {
    "collapsed": true
   },
   "outputs": [],
   "source": []
  }
 ],
 "metadata": {
  "anaconda-cloud": {},
  "kernelspec": {
   "display_name": "Python [conda root]",
   "language": "python",
   "name": "conda-root-py"
  },
  "language_info": {
   "codemirror_mode": {
    "name": "ipython",
    "version": 3
   },
   "file_extension": ".py",
   "mimetype": "text/x-python",
   "name": "python",
   "nbconvert_exporter": "python",
   "pygments_lexer": "ipython3",
   "version": "3.5.6"
  }
 },
 "nbformat": 4,
 "nbformat_minor": 2
}
