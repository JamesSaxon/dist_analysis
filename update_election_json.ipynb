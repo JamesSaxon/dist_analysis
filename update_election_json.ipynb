{
 "cells": [
  {
   "cell_type": "code",
   "execution_count": 1,
   "metadata": {
    "collapsed": false
   },
   "outputs": [],
   "source": [
    "import os, datetime, json, pandas as pd, pprint \n",
    "\n",
    "# Save and tag created versions of the data.\n",
    "today = datetime.datetime.now().strftime(\"%y%m%d\")\n",
    "\n",
    "# Intermediate json directory\n",
    "jdir = \"data/c4_redux/\"\n",
    "\n",
    "# Raw S3 directory -- CSV files\n",
    "cdir = \"/media/jsaxon/brobdingnag/data/s3/res/\"\n",
    "\n",
    "os.makedirs(jdir + today, exist_ok = True)\n",
    "\n",
    "\n",
    "# This function calculates/updates election outcomes \n",
    "# by merging tract to distrct assignments from simulation\n",
    "# with tract-level voting data saved to voting/votes/*csv\n",
    "def update_election_json(s, vote_mod = \"\", cut_mod = \"\"):\n",
    "    \n",
    "    # Options for modified files -- NC race and TX senate.\n",
    "    if vote_mod: vote_mod = \"_\" + vote_mod\n",
    "    if cut_mod:  cut_mod  = \"_\" + cut_mod\n",
    "\n",
    "    print (s + vote_mod, \"::\", end = \" \")\n",
    "\n",
    "    # Pre-load all voting data for this state.\n",
    "    votes = pd.read_csv(\"voting/votes/{}{}.csv\".format(s, vote_mod), index_col = \"rn\")\n",
    "    \n",
    "    # Use that file to figure out the available years: e.g., D08 --> 2008.\n",
    "    years = set(votes.columns.str.replace(\"R\", \"\").str.replace(\"D\", \"\").astype(int) + 2000)\n",
    "\n",
    "    # Prepare the output directory.\n",
    "    json_output = open(jdir + \"/{}/{}{}{}_redux.json\".format(today, s, cut_mod, vote_mod), \"w\")\n",
    "\n",
    "    # This function will read in a json file of simulated districts.\n",
    "    with open(jdir + \"/{}{}_redux.json\".format(s, cut_mod)) as fi:\n",
    "        for li, line in enumerate(fi):\n",
    "\n",
    "            if not li % 1000: print(li//1000, end = \" \", flush = True)\n",
    "            j = json.loads(line)\n",
    "\n",
    "            # For each line, it uses the UID to access the appropriate CSV file from S3.\n",
    "            fcsv = cdir + j[\"UID\"] + \"/final.csv\"\n",
    "\n",
    "            # It reads in this data, and join this with votes -- \n",
    "            #   the state's voting returns, at the tract level.\n",
    "            # Aggregate by district to get vote and sat shares.\n",
    "            df = pd.read_csv(fcsv, names = [\"rn\", \"cd\"], index_col = \"rn\")\n",
    "            df = df.join(votes).groupby(\"cd\").sum()\n",
    "\n",
    "            DemSeats, RepFrac = {}, []\n",
    "            for y in years:\n",
    "\n",
    "                y = \"{:02d}\".format(y % 100)\n",
    "\n",
    "                # Democratic Seats -- where Dems got more votes than Reps.\n",
    "                DemSeats[\"20\" + y] = (df[\"D\" + y] > df[\"R\" + y]).sum()\n",
    "\n",
    "                # Total 2-party votes cast, per district...\n",
    "                # This is for the N seats tables.\n",
    "                df[\"T\" + y] = df[\"D\" + y] + df[\"R\" + y]\n",
    "                \n",
    "                # Vote shares per race, over all seats (and years).\n",
    "                # This is for the competitiveness table.\n",
    "                RepFrac.extend(list((df[\"R\" + y] / df[\"T\" + y]).round(3)))\n",
    "\n",
    "\n",
    "            # Prepare the dictionary\n",
    "            jout = {\"UID\"                 : j[\"UID\"],\n",
    "                    \"Score\"               : round(j[\"Score\"], 3),\n",
    "                    \"PopulationDeviation\" : round(j[\"PopulationDeviation\"], 3),\n",
    "                    \"DemSeats\" : DemSeats, \"RepFrac\": RepFrac}\n",
    "\n",
    "            # Write to file as json.\n",
    "            json_output.write(str(jout).replace(\"'\", '\"') + \"\\n\")\n",
    "\n",
    "    json_output.close()\n",
    "    \n",
    "    print()\n",
    "    "
   ]
  },
  {
   "cell_type": "code",
   "execution_count": 2,
   "metadata": {
    "collapsed": false
   },
   "outputs": [
    {
     "name": "stdout",
     "output_type": "stream",
     "text": [
      "fl :: 0 1 2 3 4 5 6 7 8 9 10 11 12 13 14 15 16 17 18 19 20 21 22 23 24 25 26 27 28 29 30 \n",
      "il :: 0 1 2 3 4 5 6 7 8 9 10 11 12 13 14 15 16 17 18 19 20 21 22 23 24 25 26 27 28 29 30 31 \n",
      "la :: 0 1 2 3 4 5 6 7 8 9 10 11 12 13 14 15 16 17 18 19 20 21 22 23 24 25 26 27 28 29 30 31 32 \n",
      "md :: 0 1 2 3 4 5 6 7 8 9 10 11 12 13 14 15 16 17 18 19 20 21 22 23 24 25 26 27 28 29 30 31 32 \n",
      "mn :: 0 1 2 3 4 5 6 7 8 9 10 11 12 13 14 15 16 17 18 19 20 21 22 23 24 25 26 27 28 29 30 31 32 \n",
      "nc :: 0 1 2 3 4 5 6 7 8 9 10 11 12 13 14 15 16 17 18 19 20 21 22 23 24 25 26 27 28 29 30 31 \n",
      "pa :: 0 1 2 3 4 5 6 7 8 9 10 11 12 13 14 15 16 17 18 19 20 21 22 23 24 25 26 27 28 29 30 31 \n",
      "tn :: 0 1 2 3 4 5 6 7 8 9 10 11 12 13 14 15 16 17 18 19 20 21 22 23 24 25 26 27 28 29 30 31 32 \n",
      "tx :: 0 1 2 3 4 5 6 7 8 9 10 11 12 13 14 15 16 17 18 19 20 21 22 23 24 25 26 27 28 29 \n",
      "va :: 0 1 2 3 4 5 6 7 8 9 10 11 12 13 14 15 16 17 18 19 20 21 22 23 24 25 26 27 28 29 30 31 32 \n",
      "wi :: 0 1 2 3 4 5 6 7 8 9 10 11 12 13 14 15 16 17 18 19 20 21 22 23 24 25 26 27 28 29 30 31 32 \n"
     ]
    }
   ],
   "source": [
    "pol_states = ['fl', 'il', 'la', 'md', 'mn', 'nc', 'pa', 'tn', 'tx', 'va', 'wi']\n",
    "\n",
    "for s in pol_states: update_election_json(s)"
   ]
  },
  {
   "cell_type": "code",
   "execution_count": 3,
   "metadata": {
    "collapsed": false
   },
   "outputs": [
    {
     "name": "stdout",
     "output_type": "stream",
     "text": [
      "nc :: 0 1 2 3 4 5 6 7 8 9 10 11 12 \n",
      "tx_senate :: 0 1 2 3 4 5 6 7 8 9 10 11 12 13 14 15 16 17 18 19 20 21 22 23 24 25 26 27 28 29 \n"
     ]
    }
   ],
   "source": [
    "update_election_json(\"nc\", cut_mod = \"race\")\n",
    "update_election_json(\"tx\", vote_mod = \"senate\")"
   ]
  }
 ],
 "metadata": {
  "anaconda-cloud": {},
  "kernelspec": {
   "display_name": "Python [conda root]",
   "language": "python",
   "name": "conda-root-py"
  },
  "language_info": {
   "codemirror_mode": {
    "name": "ipython",
    "version": 3
   },
   "file_extension": ".py",
   "mimetype": "text/x-python",
   "name": "python",
   "nbconvert_exporter": "python",
   "pygments_lexer": "ipython3",
   "version": "3.5.6"
  }
 },
 "nbformat": 4,
 "nbformat_minor": 2
}
