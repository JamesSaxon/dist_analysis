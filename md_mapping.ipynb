{
 "cells": [
  {
   "cell_type": "code",
   "execution_count": 1,
   "metadata": {
    "collapsed": false
   },
   "outputs": [],
   "source": [
    "from dist_tools import *\n",
    "\n",
    "%matplotlib inline"
   ]
  },
  {
   "cell_type": "code",
   "execution_count": 2,
   "metadata": {
    "collapsed": true
   },
   "outputs": [],
   "source": [
    "pd.options.display.max_rows = 10000"
   ]
  },
  {
   "cell_type": "code",
   "execution_count": 3,
   "metadata": {
    "collapsed": true
   },
   "outputs": [],
   "source": [
    "fips, epsg, seats = 24, 3559, 8"
   ]
  },
  {
   "cell_type": "code",
   "execution_count": 4,
   "metadata": {
    "collapsed": false
   },
   "outputs": [],
   "source": [
    "md_co_map = pd.read_csv(\"/media/jsaxon/brobdingnag/data/el_dv/md_site/md_precinct_reference_2000.csv\")\n",
    "md_co_map = md_co_map.rename(columns = {\"County ID\" : \"md_id\", \"County Name\" : \"county\"})[[\"md_id\", \"county\"]]\n",
    "md_co_map.drop_duplicates(keep = \"first\", inplace = True)\n",
    "md_co_map.county = md_co_map.county.str.upper()\n",
    "\n",
    "md_co_census = pd.read_sql(\"\"\"SELECT DISTINCT \n",
    "                                  county cid, \n",
    "                                  REGEXP_REPLACE(REGEXP_REPLACE(\n",
    "                                      UPPER(name), ' PRECINCT.*', ''), \n",
    "                                                   'ST\\.', 'SAINT') county\n",
    "                              FROM vtd_2010\n",
    "                              WHERE state = 24 AND vtd != 'ZZZZZZ'\n",
    "                              ORDER BY cid;\"\"\",\n",
    "                           con = psycopg2.connect(database = \"census\", user = user, password = passwd,\n",
    "                                                  host = \"saxon.harris.uchicago.edu\", port = 5432))\n",
    "\n",
    "md_co_map = pd.merge(md_co_map, md_co_census, on = \"county\", how = \"outer\")[[\"cid\", \"md_id\"]] # , \"county\"]]"
   ]
  },
  {
   "cell_type": "code",
   "execution_count": 5,
   "metadata": {
    "collapsed": false
   },
   "outputs": [],
   "source": [
    "query = \"\"\"SELECT \n",
    "              DISTINCT ON (vtd.county, ed, precinct)\n",
    "              vtd.county cid,\n",
    "              REGEXP_REPLACE(vtd, '-.*', '')::int ed,\n",
    "              REGEXP_REPLACE(vtd, '.*-', '')::int precinct, vtd.geoid,\n",
    "              rn, ST_Transform(vtd.geom, epsg) geometry\n",
    "           FROM vtd_2010 AS vtd\n",
    "           JOIN census_tracts_2015 AS tr ON\n",
    "               tr.state = vtd.state AND \n",
    "               (tr.county = vtd.county OR\n",
    "                (tr.county = 5 AND vtd.county = 510))\n",
    "           JOIN (SELECT state, county, tract,\n",
    "                        row_number() over \n",
    "                          (PARTITION BY state ORDER BY county, tract NULLS LAST) - 1 as rn\n",
    "                 FROM census_tracts_2015) rn ON\n",
    "                   tr.state  = rn.state  AND\n",
    "                   tr.county = rn.county AND\n",
    "                   tr.tract  = rn.tract\n",
    "           JOIN states AS st ON st.fips = vtd.state\n",
    "           WHERE\n",
    "              vtd.state = 24 AND vtd != 'ZZZZZZ'\n",
    "           ORDER BY vtd.county, ed, precinct, vtd.centroid <-> tr.centroid;\n",
    "           \"\"\"\n",
    "\n",
    "\n",
    "con = psycopg2.connect(database = \"census\", user = user, password = passwd,\n",
    "                       host = \"saxon.harris.uchicago.edu\", port = 5432)\n",
    "\n",
    "pr_tr = gpd.GeoDataFrame.from_postgis(query, con, geom_col = \"geometry\", crs = from_epsg(epsg))\n",
    "\n",
    "pcts = pr_tr[['cid', 'ed', 'precinct', 'geoid']]"
   ]
  },
  {
   "cell_type": "code",
   "execution_count": 6,
   "metadata": {
    "collapsed": false
   },
   "outputs": [],
   "source": [
    "votes = {}\n",
    "for y in [2000, 2004, 2008]:\n",
    "    yv = \"{:02d}\".format(y%100)\n",
    "    votes[y] = pd.read_csv(\"/media/jsaxon/brobdingnag/data/el_dv/precincts/MD_%d.tab\" % y, sep = \"\\t\")\n",
    "    votes[y] = votes[y][[\"county\", \"ed\", \"precinct\", \"g%d_USP_dv\" % y, \"g%d_USP_rv\" % y]].astype(int)\n",
    "    votes[y].rename(inplace = True, columns = {\"g%d_USP_dv\" % y : \"D\" + yv, \"g%d_USP_rv\" % y : \"R\" + yv,\n",
    "                                               \"county\" : \"md_id\"})\n",
    "    votes[y] = votes[y][(votes[y][\"D\" + yv] > 0) | (votes[y][\"D\" + yv] > 0)]\n",
    "\n",
    "    votes[y] = pd.merge(votes[y], md_co_map, on = \"md_id\")[[\"cid\", \"ed\", \"precinct\", \"D\" + yv, \"R\" + yv]]\n",
    "    votes[y].sort_values(by = [\"cid\", \"ed\", \"precinct\"], inplace = True)\n",
    "    if y == 2004: votes[y].loc[votes[y].cid == 1, \"precinct\"] //= 10\n",
    "        \n",
    "    if y == 2008:\n",
    "        votes[y].loc[((votes[y].cid == 23) | (votes[y].cid == 43)) & (votes[y].precinct == 0), \"precinct\"] = 1\n",
    "        \n",
    "        votes[y] = pd.merge(votes[y], pcts, on = [\"cid\", \"ed\", \"precinct\"], how = \"left\")\n",
    "        votes[y].loc[(votes[y].cid == 13) & votes[y].geoid.isnull(), \"precinct\"] = 1\n",
    "        votes[y] = votes[y][[\"cid\", \"ed\", \"precinct\", \"D08\", \"R08\"]]\n",
    "        \n",
    "    votes[y] = pr_tr.merge(votes[y], on = [\"cid\", \"ed\", \"precinct\"], how = \"right\")\n",
    "    \n",
    "    \n",
    "votes[2008][\"D08 Fr\"] = votes[2008].D08 / (votes[2008].D08 + votes[2008].R08)\n",
    "votes[2008].to_file(\"md_2008.shp\")"
   ]
  },
  {
   "cell_type": "code",
   "execution_count": 7,
   "metadata": {
    "collapsed": true
   },
   "outputs": [],
   "source": [
    "gdf = gpd.read_file(\"md_2008.shp\")"
   ]
  },
  {
   "cell_type": "code",
   "execution_count": 8,
   "metadata": {
    "collapsed": false,
    "scrolled": false
   },
   "outputs": [],
   "source": [
    "# ax = votes[2008].plot(column = \"D08 Fr\", cmap = \"RdBu\", linewidth = 0,\n",
    "#                       scheme = \"EQUAL_INTERVAL\", k = 9, figsize = (10, 10))\n",
    "# ax.set_axis_off()"
   ]
  },
  {
   "cell_type": "markdown",
   "metadata": {},
   "source": [
    "The census geocoder gives a really low match rate, here.  Use google's -- 2.5k per day, so one shot per day!"
   ]
  },
  {
   "cell_type": "code",
   "execution_count": 9,
   "metadata": {
    "collapsed": false
   },
   "outputs": [],
   "source": [
    "md_precincts_2016 = pd.read_excel(\"/media/jsaxon/brobdingnag/data/el_dv/md_site/md_precinct_reference_2016.xls\",\n",
    "                                  skiprows = [1], usecols = [\"COUNTY\", \"ELECTION_DISTRICT\", \"PRECINCT\", \"ADDRESS1\", \"CITY\", \"ST\", \"ZIP\"])\n",
    "md_precincts_2016.rename(columns = {\"COUNTY\" : \"md_id\", \"ELECTION_DISTRICT\" : \"ed\", \"PRECINCT\" : \"precinct\",\n",
    "                                    \"ADDRESS1\" : \"address\", \"CITY\" : \"city\", \"ST\" : \"st\",  \"ZIP\" : \"zip\"}, \n",
    "                         inplace = True)\n",
    "md_precincts_2016 = md_precincts_2016[  ~md_precincts_2016.zip.isnull() \\\n",
    "                                      & ~md_precincts_2016.ed.isnull() \\\n",
    "                                      & ~md_precincts_2016.precinct.isnull() \\\n",
    "                                      & ~md_precincts_2016.address.isnull()]\n",
    "md_precincts_2016.ed = md_precincts_2016.ed.astype(int)\n",
    "md_precincts_2016.precinct = md_precincts_2016.precinct.astype(int)\n",
    "md_precincts_2016.zip = abs(md_precincts_2016.zip.fillna(0).astype(int))\n",
    "md_precincts_2016 = pd.merge(md_precincts_2016, md_co_map, on = \"md_id\")\n",
    "md_precincts_2016 = md_precincts_2016.sort_values(by = [\"cid\", \"ed\", \"precinct\"])\n",
    "md_precincts_2016 = md_precincts_2016.reset_index()[[\"md_id\", \"cid\", \"ed\", \"precinct\", \"address\", \"city\", \"st\", \"zip\"]]\n",
    "md_precincts_2016 = md_precincts_2016.drop_duplicates()\n",
    "\n",
    "md_precincts_2016[[\"address\", \"city\", \"st\", \"zip\"]].to_csv(\"/media/jsaxon/brobdingnag/data/el_dv/md_site/md_precinct_addr_2016.csv\",\n",
    "                                                           index = False, header = False)"
   ]
  },
  {
   "cell_type": "code",
   "execution_count": 10,
   "metadata": {
    "collapsed": false
   },
   "outputs": [],
   "source": [
    "md_bak = pd.read_csv(\"md_2016_geocoded.csv\", usecols = [\"cid\", \"ed\", \"precinct\", \"lat\", \"lon\"],\n",
    "                     dtype = {\"cid\" : int, \"ed\" : float, \"precinct\" : float, \"lat\" : float, \"lon\" : float})"
   ]
  },
  {
   "cell_type": "code",
   "execution_count": 11,
   "metadata": {
    "collapsed": false
   },
   "outputs": [],
   "source": [
    "md_2016 = pd.read_csv(\"/media/jsaxon/brobdingnag/data/el_dv/md_site/md_state_2016.csv\", \n",
    "                      usecols = [\"County\", \"Election District\", \"Election Precinct\", \n",
    "                                 \"Candidate Name\", \"Election Night Votes\", \"Office Name\"], low_memory = False)\n",
    "md_2016.rename(columns = {\"County\" : \"md_id\", \"Election District\" : \"ed\", \"Election Precinct\" : \"precinct\",\n",
    "                          \"Candidate Name\" : \"candidate\", \"Office Name\" : \"office\", \"Election Night Votes\" : \"votes\"}, \n",
    "               inplace = True)\n",
    "md_2016 = md_2016[(md_2016.candidate == \"Donald J. Trump\") | (md_2016.candidate == \"Hillary Clinton\")]\n",
    "md_2016[\"party\"] = \"R16\"\n",
    "md_2016.loc[md_2016.candidate == \"Hillary Clinton\", \"party\"] = \"D16\"\n",
    "md_2016 = pd.pivot_table(md_2016, values = \"votes\", index = [\"md_id\", \"ed\", \"precinct\"], columns = [\"party\"])\n",
    "md_2016 = md_2016[(md_2016.D16 > 0) | (md_2016.R16 > 0)]\n",
    "md_2016 = md_2016.reset_index()\n",
    "md_2016 = pd.merge(md_2016, md_precincts_2016, on = [\"md_id\", \"ed\", \"precinct\"], how = \"outer\")\n",
    "md_2016 = md_2016[[\"cid\", \"ed\", \"precinct\", \"D16\", \"R16\", \"address\", \"city\", \"st\", \"zip\"]]\n",
    "md_2016 = md_2016.sort_values(by = [\"cid\", \"ed\", \"precinct\"])\n",
    "md_2016.D16 = md_2016.D16.fillna(0)\n",
    "md_2016.R16 = md_2016.R16.fillna(0)\n",
    "# md_2016[\"lat\"] = 0\n",
    "# md_2016[\"lon\"] = 0\n",
    "\n",
    "md_2016 = md_2016.merge(md_bak[[\"cid\", \"ed\", \"precinct\", \"lat\", \"lon\"]], on = [\"cid\", \"ed\", \"precinct\"], how = \"outer\")"
   ]
  },
  {
   "cell_type": "code",
   "execution_count": 12,
   "metadata": {
    "collapsed": false
   },
   "outputs": [
    {
     "data": {
      "text/html": [
       "<div>\n",
       "<table border=\"1\" class=\"dataframe\">\n",
       "  <thead>\n",
       "    <tr style=\"text-align: right;\">\n",
       "      <th>party</th>\n",
       "      <th>cid</th>\n",
       "      <th>ed</th>\n",
       "      <th>precinct</th>\n",
       "      <th>D16</th>\n",
       "      <th>R16</th>\n",
       "      <th>address</th>\n",
       "      <th>city</th>\n",
       "      <th>st</th>\n",
       "      <th>zip</th>\n",
       "      <th>lat</th>\n",
       "      <th>lon</th>\n",
       "    </tr>\n",
       "  </thead>\n",
       "  <tbody>\n",
       "  </tbody>\n",
       "</table>\n",
       "</div>"
      ],
      "text/plain": [
       "Empty DataFrame\n",
       "Columns: [cid, ed, precinct, D16, R16, address, city, st, zip, lat, lon]\n",
       "Index: []"
      ]
     },
     "execution_count": 12,
     "metadata": {},
     "output_type": "execute_result"
    }
   ],
   "source": [
    "md_2016.loc[md_2016.address == \"310 Governor William Stone Parkway\", \"address\"] = \"310 Governor Stone Pkwy\"\n",
    "md_2016.loc[md_2016.address == \"5752 Rhodes-Eldorado Road\",          \"address\"] = \"5752 Rhodesdale Eldorado Rd\"\n",
    "md_2016.loc[md_2016.address == \"5745 Cloverdale Road\",               \"city\"   ] = \"Hurlock\"\n",
    "md_2016.loc[md_2016.address == \"1330 Route 94 Woodbine Rd\",          \"address\"] = \"1330 Woodbine Rd\"\n",
    "md_2016.loc[md_2016.address == \"12101 Route 108 Clarksville Pike\",   \"address\"] = \"12101 Clarksville Pike\"\n",
    "md_2016.loc[md_2016.address == \"302 University & Academy Avenues\",   \"address\"] = \"302 University Ave N\"\n",
    "md_2016.loc[md_2016.address == \"ROUTE 1 & ROSSBOROUGH LANE\",         \"address\"] = \"7675 Baltimore Ave\"\n",
    "md_2016[md_2016.lat.isnull() | (md_2016.lat == 0)]"
   ]
  },
  {
   "cell_type": "code",
   "execution_count": 13,
   "metadata": {
    "collapsed": false
   },
   "outputs": [],
   "source": [
    "google_user, google_acct, google_key = netrc().authenticators(\"google\")\n",
    "\n",
    "gmaps_api = \"https://maps.googleapis.com/maps/api/geocode/json?address={}&key=%s\" % google_key\n",
    "\n",
    "import math\n",
    "import time\n",
    "import requests\n",
    "\n",
    "for ri, row in md_2016.iterrows():\n",
    "    \n",
    "    if not math.isnan(row.lat): continue\n",
    "\n",
    "    addr = \", \".join([row.address, row.city, row.st, str(row.zip)]).replace(\" \", \"+\")\n",
    "    print(ri, gmaps_api.format(addr))\n",
    "    resp = None # requests.get(gmaps_api.format(addr))\n",
    "    try:\n",
    "        md_2016.loc[ri, \"lat\"] = resp.json()[\"results\"][0][\"geometry\"][\"location\"][\"lat\"]\n",
    "        md_2016.loc[ri, \"lon\"] = resp.json()[\"results\"][0][\"geometry\"][\"location\"][\"lng\"]\n",
    "    except: pass\n",
    "    \n",
    "    if (ri % 40) == 0: time.sleep(1)\n"
   ]
  },
  {
   "cell_type": "code",
   "execution_count": 14,
   "metadata": {
    "collapsed": true
   },
   "outputs": [],
   "source": [
    "# md_2016.to_csv(\"md_2016_geocoded.csv\")"
   ]
  },
  {
   "cell_type": "code",
   "execution_count": 15,
   "metadata": {
    "collapsed": false
   },
   "outputs": [],
   "source": [
    "from shapely.geometry import Point\n",
    "\n",
    "geometry = [Point(xy) for xy in zip(md_2016.lon, md_2016.lat)]\n",
    "md_2016_geo = gpd.GeoDataFrame(md_2016, crs = from_epsg(4269), geometry = geometry)"
   ]
  },
  {
   "cell_type": "code",
   "execution_count": 16,
   "metadata": {
    "collapsed": false
   },
   "outputs": [
    {
     "data": {
      "text/html": [
       "<div>\n",
       "<table border=\"1\" class=\"dataframe\">\n",
       "  <thead>\n",
       "    <tr style=\"text-align: right;\">\n",
       "      <th>party</th>\n",
       "      <th>cid</th>\n",
       "      <th>ed</th>\n",
       "      <th>precinct</th>\n",
       "      <th>D16</th>\n",
       "      <th>R16</th>\n",
       "      <th>address</th>\n",
       "      <th>city</th>\n",
       "      <th>st</th>\n",
       "      <th>zip</th>\n",
       "      <th>lat</th>\n",
       "      <th>lon</th>\n",
       "      <th>geometry</th>\n",
       "    </tr>\n",
       "  </thead>\n",
       "  <tbody>\n",
       "    <tr>\n",
       "      <th>0</th>\n",
       "      <td>1</td>\n",
       "      <td>1.0</td>\n",
       "      <td>0.0</td>\n",
       "      <td>43.0</td>\n",
       "      <td>350.0</td>\n",
       "      <td>12210 Orleans Road, NE</td>\n",
       "      <td>Little Orleans</td>\n",
       "      <td>MD</td>\n",
       "      <td>21766</td>\n",
       "      <td>39.695048</td>\n",
       "      <td>-78.381316</td>\n",
       "      <td>POINT (-78.381316 39.695048)</td>\n",
       "    </tr>\n",
       "    <tr>\n",
       "      <th>1</th>\n",
       "      <td>1</td>\n",
       "      <td>2.0</td>\n",
       "      <td>0.0</td>\n",
       "      <td>53.0</td>\n",
       "      <td>380.0</td>\n",
       "      <td>18712 Oldtown Road, SE</td>\n",
       "      <td>Oldtown</td>\n",
       "      <td>MD</td>\n",
       "      <td>21555</td>\n",
       "      <td>39.544686</td>\n",
       "      <td>-78.619405</td>\n",
       "      <td>POINT (-78.6194053 39.5446862)</td>\n",
       "    </tr>\n",
       "    <tr>\n",
       "      <th>2</th>\n",
       "      <td>1</td>\n",
       "      <td>3.0</td>\n",
       "      <td>0.0</td>\n",
       "      <td>55.0</td>\n",
       "      <td>370.0</td>\n",
       "      <td>22000 National Pike, NE</td>\n",
       "      <td>Flintstone</td>\n",
       "      <td>MD</td>\n",
       "      <td>21530</td>\n",
       "      <td>39.698980</td>\n",
       "      <td>-78.563864</td>\n",
       "      <td>POINT (-78.563864 39.69898)</td>\n",
       "    </tr>\n",
       "    <tr>\n",
       "      <th>3</th>\n",
       "      <td>1</td>\n",
       "      <td>4.0</td>\n",
       "      <td>2.0</td>\n",
       "      <td>86.0</td>\n",
       "      <td>166.0</td>\n",
       "      <td>114 N. Cedar Street</td>\n",
       "      <td>Cumberland</td>\n",
       "      <td>MD</td>\n",
       "      <td>21502</td>\n",
       "      <td>39.637063</td>\n",
       "      <td>-78.764425</td>\n",
       "      <td>POINT (-78.764425 39.637063)</td>\n",
       "    </tr>\n",
       "    <tr>\n",
       "      <th>4</th>\n",
       "      <td>1</td>\n",
       "      <td>4.0</td>\n",
       "      <td>3.0</td>\n",
       "      <td>143.0</td>\n",
       "      <td>305.0</td>\n",
       "      <td>500 E. Second Street</td>\n",
       "      <td>Cumberland</td>\n",
       "      <td>MD</td>\n",
       "      <td>21502</td>\n",
       "      <td>39.635903</td>\n",
       "      <td>-78.756724</td>\n",
       "      <td>POINT (-78.75672370000002 39.6359035)</td>\n",
       "    </tr>\n",
       "  </tbody>\n",
       "</table>\n",
       "</div>"
      ],
      "text/plain": [
       "party  cid   ed  precinct    D16    R16                  address  \\\n",
       "0        1  1.0       0.0   43.0  350.0   12210 Orleans Road, NE   \n",
       "1        1  2.0       0.0   53.0  380.0   18712 Oldtown Road, SE   \n",
       "2        1  3.0       0.0   55.0  370.0  22000 National Pike, NE   \n",
       "3        1  4.0       2.0   86.0  166.0      114 N. Cedar Street   \n",
       "4        1  4.0       3.0  143.0  305.0     500 E. Second Street   \n",
       "\n",
       "party            city  st    zip        lat        lon  \\\n",
       "0      Little Orleans  MD  21766  39.695048 -78.381316   \n",
       "1             Oldtown  MD  21555  39.544686 -78.619405   \n",
       "2          Flintstone  MD  21530  39.698980 -78.563864   \n",
       "3          Cumberland  MD  21502  39.637063 -78.764425   \n",
       "4          Cumberland  MD  21502  39.635903 -78.756724   \n",
       "\n",
       "party                               geometry  \n",
       "0               POINT (-78.381316 39.695048)  \n",
       "1             POINT (-78.6194053 39.5446862)  \n",
       "2                POINT (-78.563864 39.69898)  \n",
       "3               POINT (-78.764425 39.637063)  \n",
       "4      POINT (-78.75672370000002 39.6359035)  "
      ]
     },
     "execution_count": 16,
     "metadata": {},
     "output_type": "execute_result"
    }
   ],
   "source": [
    "md_2016_geo.head()"
   ]
  },
  {
   "cell_type": "code",
   "execution_count": 17,
   "metadata": {
    "collapsed": false
   },
   "outputs": [
    {
     "data": {
      "image/png": "[encoded data removed]",
      "text/plain": [
       "<matplotlib.figure.Figure at 0x7fcf465d5c50>"
      ]
     },
     "metadata": {},
     "output_type": "display_data"
    }
   ],
   "source": [
    "ax = md_2016_geo.plot(color = \"red\")\n",
    "ax.set_axis_off()"
   ]
  },
  {
   "cell_type": "markdown",
   "metadata": {},
   "source": [
    "Now merge the geocoded polling locations onto the overlapping census tract shapes."
   ]
  },
  {
   "cell_type": "code",
   "execution_count": 18,
   "metadata": {
    "collapsed": false
   },
   "outputs": [],
   "source": [
    "query = \"\"\"SELECT rn, ST_Transform(tr.geom, epsg) geometry\n",
    "           FROM census_tracts_2015 AS tr\n",
    "           JOIN (SELECT state, county, tract,\n",
    "                        row_number() over (PARTITION BY state ORDER BY county, tract NULLS LAST) - 1 as rn\n",
    "                 FROM census_tracts_2015) rn ON\n",
    "              tr.state  = rn.state AND tr.county = rn.county AND tr.tract  = rn.tract\n",
    "           JOIN states AS st ON st.fips = tr.state\n",
    "           WHERE tr.state = 24;\"\"\"\n",
    "\n",
    "con = psycopg2.connect(database = \"census\", user = user, password = passwd,\n",
    "                       host = \"saxon.harris.uchicago.edu\", port = 5432)\n",
    "\n",
    "tr_map = gpd.GeoDataFrame.from_postgis(query, con, geom_col = \"geometry\", crs = from_epsg(epsg))\n",
    "\n",
    "md_2016_merged = gpd.tools.sjoin(md_2016_geo, tr_map.to_crs(epsg = 4269), op = \"within\")\n",
    "md_votes_2016 = md_2016_merged[[\"rn\", \"D16\", \"R16\"]].groupby(\"rn\").sum()"
   ]
  },
  {
   "cell_type": "code",
   "execution_count": 20,
   "metadata": {
    "collapsed": false
   },
   "outputs": [],
   "source": [
    "md_votes_2008 = gpd.read_file(\"md_2008.shp\").groupby(\"rn\").sum()[[\"D08\", \"R08\"]]"
   ]
  },
  {
   "cell_type": "code",
   "execution_count": 21,
   "metadata": {
    "collapsed": false
   },
   "outputs": [],
   "source": [
    "md_votes = md_votes_2008.join(md_votes_2016, how = \"outer\").fillna(0).astype(int)\n",
    "md_votes.index = md_votes.index.astype(int)"
   ]
  },
  {
   "cell_type": "code",
   "execution_count": 22,
   "metadata": {
    "collapsed": false
   },
   "outputs": [],
   "source": [
    "md_votes.to_csv(\"md_votes.csv\")"
   ]
  },
  {
   "cell_type": "markdown",
   "metadata": {},
   "source": [
    "Sanity check: did we preserve all of the votes from beginning to end?"
   ]
  },
  {
   "cell_type": "code",
   "execution_count": 23,
   "metadata": {
    "collapsed": false
   },
   "outputs": [
    {
     "name": "stdout",
     "output_type": "stream",
     "text": [
      "nice work, stud.\n"
     ]
    }
   ],
   "source": [
    "test08 = pd.read_csv(\"/media/jsaxon/brobdingnag/data/el_dv/precincts/MD_%d.tab\" % y, sep = \"\\t\")\n",
    "test16 = pd.read_csv(\"/media/jsaxon/brobdingnag/data/el_dv/md_site/md_state_2016.csv\", \n",
    "                   usecols = [\"County\", \"Election District\", \"Election Precinct\", \n",
    "                              \"Candidate Name\", \"Election Night Votes\", \"Office Name\"], low_memory = False)\n",
    "\n",
    "if not votes[2008].D08.sum() == test08.g2008_USP_dv.sum():\n",
    "    print(\"problems in paradise -- 2008!!\")\n",
    "if not md_votes.D16.sum() == test16[test16[\"Candidate Name\"] == \"Hillary Clinton\"][\"Election Night Votes\"].sum():\n",
    "    print(\"2016 is fucked.\")\n",
    "else: print(\"nice work, stud.\")"
   ]
  },
  {
   "cell_type": "markdown",
   "metadata": {},
   "source": [
    "### Alternative: match unmatched precincts to the tract closest to the centroid of the election district."
   ]
  },
  {
   "cell_type": "code",
   "execution_count": 256,
   "metadata": {
    "collapsed": false
   },
   "outputs": [],
   "source": [
    "md_2016 = pd.read_csv(\"/media/jsaxon/brobdingnag/data/el_dv/md_site/md_state_2016.csv\", \n",
    "                      usecols = [\"County\", \"Election District\", \"Election Precinct\", \n",
    "                                 \"Candidate Name\", \"Election Night Votes\", \"Office Name\"], low_memory = False)\n",
    "md_2016.rename(columns = {\"County\" : \"md_id\", \"Election District\" : \"ed\", \"Election Precinct\" : \"precinct\",\n",
    "                          \"Candidate Name\" : \"candidate\", \"Office Name\" : \"office\", \"Election Night Votes\" : \"votes\"}, \n",
    "               inplace = True)\n",
    "md_2016 = md_2016[(md_2016.candidate == \"Donald J. Trump\") | (md_2016.candidate == \"Hillary Clinton\")]\n",
    "md_2016[\"party\"] = \"R16\"\n",
    "md_2016.loc[md_2016.candidate == \"Hillary Clinton\", \"party\"] = \"D16\"\n",
    "md_2016 = pd.pivot_table(md_2016, values = \"votes\", index = [\"md_id\", \"ed\", \"precinct\"], columns = [\"party\"])\n",
    "md_2016 = md_2016.reset_index()\n",
    "md_2016 = pd.merge(md_2016, md_co_map, on = \"md_id\")\n",
    "# md_2016 = md_2016[[\"cid\", \"ed\", \"precinct\", \"D16\", \"R16\"]]"
   ]
  },
  {
   "cell_type": "code",
   "execution_count": 259,
   "metadata": {
    "collapsed": true
   },
   "outputs": [],
   "source": [
    "gdf = gpd.read_file(\"md_2008.shp\")"
   ]
  },
  {
   "cell_type": "code",
   "execution_count": 260,
   "metadata": {
    "collapsed": false
   },
   "outputs": [],
   "source": [
    "m = pd.merge(gdf, md_2016, on = [\"cid\", \"ed\", \"precinct\"], how = \"outer\")\n",
    "m = m.sort_values(by = [\"cid\", \"ed\", \"precinct\"])[[\"cid\", \"ed\", \"precinct\", \"rn\", \"geometry\", \"D08\", \"R08\", \"D16\", \"R16\"]]\n",
    "m.D08.fillna(0, inplace = True)\n",
    "m.R08.fillna(0, inplace = True)\n",
    "m.D16.fillna(0, inplace = True)\n",
    "m.R16.fillna(0, inplace = True)"
   ]
  },
  {
   "cell_type": "markdown",
   "metadata": {},
   "source": [
    "Because there are many more precincts in 2016 than in 2008 (it is growth in every case), I associate the extra precincts to the tract that is closest to the centroid of the election district.  Clearly, this is an imperfect solution, since in many cases the other precincts have moved or been renamed."
   ]
  },
  {
   "cell_type": "code",
   "execution_count": 261,
   "metadata": {
    "collapsed": true
   },
   "outputs": [],
   "source": [
    "query = \"\"\"SELECT DISTINCT ON (vtd.county, REGEXP_REPLACE(vtd, '-.*', '')::int)\n",
    "               vtd.county cid,\n",
    "               REGEXP_REPLACE(vtd, '-.*', '')::int ed,\n",
    "               rn\n",
    "            FROM vtd_2010 AS vtd\n",
    "            JOIN census_tracts_2015 AS tr ON\n",
    "               tr.state = vtd.state AND \n",
    "               (tr.county = vtd.county OR\n",
    "                (tr.county = 5 AND vtd.county = 510))\n",
    "            JOIN (SELECT state, county, tract,\n",
    "                         row_number() over \n",
    "                           (PARTITION BY state ORDER BY county, tract NULLS LAST) - 1 as rn\n",
    "                  FROM census_tracts_2015) rn ON\n",
    "                    tr.state  = rn.state  AND\n",
    "                    tr.county = rn.county AND\n",
    "                    tr.tract  = rn.tract\n",
    "            WHERE\n",
    "               vtd.state = 24 AND vtd != 'ZZZZZZ'\n",
    "            GROUP BY vtd.county, REGEXP_REPLACE(vtd, '-.*', '')::int,\n",
    "               tr.centroid, rn.rn\n",
    "            ORDER BY \n",
    "               vtd.county,\n",
    "               REGEXP_REPLACE(vtd, '-.*', '')::int,\n",
    "               ST_Centroid(ST_Collect(vtd.geom)) <-> tr.centroid\n",
    "            ;\n",
    "           \"\"\"\n",
    "\n",
    "con = psycopg2.connect(database = \"census\", user = user, password = passwd,\n",
    "                       host = \"saxon.harris.uchicago.edu\", port = 5432)\n",
    "\n",
    "ed_tr = pd.read_sql(query, con)"
   ]
  },
  {
   "cell_type": "code",
   "execution_count": 262,
   "metadata": {
    "collapsed": false
   },
   "outputs": [],
   "source": [
    "for mi, mrow in m[m.geometry.isnull()].iterrows():\n",
    "    m.loc[m.geometry.isnull() & (m.cid == mrow.cid) & (m.ed == mrow.ed), \"rn\"] = \\\n",
    "        ed_tr[(ed_tr.cid == mrow.cid) & (ed_tr.ed == mrow.ed)].rn.values[0]\n",
    "    # print(ed_tr[(ed_tr.cid == mrow.cid) & (ed_tr.ed == mrow.ed)].rn.values[0])"
   ]
  }
 ],
 "metadata": {
  "anaconda-cloud": {},
  "kernelspec": {
   "display_name": "Python [conda root]",
   "language": "python",
   "name": "conda-root-py"
  },
  "language_info": {
   "codemirror_mode": {
    "name": "ipython",
    "version": 3
   },
   "file_extension": ".py",
   "mimetype": "text/x-python",
   "name": "python",
   "nbconvert_exporter": "python",
   "pygments_lexer": "ipython3",
   "version": "3.5.2"
  }
 },
 "nbformat": 4,
 "nbformat_minor": 1
}
