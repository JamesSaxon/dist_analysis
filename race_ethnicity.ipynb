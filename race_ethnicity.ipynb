{
 "cells": [
  {
   "cell_type": "code",
   "execution_count": 2,
   "metadata": {
    "collapsed": true
   },
   "outputs": [],
   "source": [
    "from dist_tools import *\n",
    "\n",
    "%matplotlib inline"
   ]
  },
  {
   "cell_type": "code",
   "execution_count": 93,
   "metadata": {
    "collapsed": false
   },
   "outputs": [],
   "source": [
    "def get_minority_seats_cdmap(usps, year):\n",
    "\n",
    "    sessn = {1990 : 107, 2000 : 111, 2010 : 114}[year]\n",
    "\n",
    "    race = pd.read_sql(\"\"\"SELECT\n",
    "                             cd.state state, cd, \n",
    "                             CASE WHEN (1.*SUM(hispanic)/SUM(pop) > 0.5) THEN 'H'\n",
    "                             WHEN (1.*SUM(black)/SUM(pop) > 0.5) THEN 'B'\n",
    "                             ELSE 'W' END majority\n",
    "                          FROM census_tracts_{} as tr\n",
    "                          JOIN states s ON tr.state = s.fips\n",
    "                          JOIN cd ON cd.sessn = {} AND\n",
    "                             cd.state = tr.state AND\n",
    "                             ST_Covers(cd.geom, tr.centroid)\n",
    "                          WHERE s.usps = '{}'\n",
    "                          GROUP BY cd.state, cd, cd.geom\n",
    "                          ORDER BY cd.state, cd;\n",
    "                          \"\"\".format(year, sessn, usps),\n",
    "                          con = psycopg2.connect(database = \"census\", user = user, password = passwd,\n",
    "                                                 host = \"saxon.harris.uchicago.edu\", port = 5432))\n",
    "    \n",
    "    return usps, {\"H\" : sum(race.majority == \"H\"), \"B\" : sum(race.majority == \"B\"), \"T\" : race.shape[0]}"
   ]
  },
  {
   "cell_type": "code",
   "execution_count": 97,
   "metadata": {
    "collapsed": false
   },
   "outputs": [
    {
     "name": "stdout",
     "output_type": "stream",
     "text": [
      "('NC', {'H': 0, 'B': 0, 'T': 12})\n",
      "('NC', {'H': 0, 'B': 0, 'T': 13})\n",
      "('NC', {'H': 0, 'B': 1, 'T': 13})\n",
      "('VA', {'H': 0, 'B': 1, 'T': 11})\n",
      "('VA', {'H': 0, 'B': 1, 'T': 11})\n",
      "('VA', {'H': 0, 'B': 1, 'T': 11})\n",
      "('PA', {'H': 0, 'B': 2, 'T': 21})\n",
      "('PA', {'H': 0, 'B': 1, 'T': 19})\n",
      "('PA', {'H': 0, 'B': 1, 'T': 18})\n",
      "('CA', {'H': 6, 'B': 0, 'T': 52})\n",
      "('CA', {'H': 10, 'B': 0, 'T': 53})\n",
      "('CA', {'H': 13, 'B': 0, 'T': 53})\n",
      "('FL', {'H': 2, 'B': 1, 'T': 23})\n",
      "('FL', {'H': 3, 'B': 1, 'T': 25})\n",
      "('FL', {'H': 3, 'B': 1, 'T': 27})\n",
      "('TX', {'H': 6, 'B': 0, 'T': 30})\n",
      "('TX', {'H': 7, 'B': 0, 'T': 32})\n",
      "('TX', {'H': 10, 'B': 0, 'T': 36})\n"
     ]
    }
   ],
   "source": [
    "for usps in [\"NC\", \"VA\", \"PA\", \"CA\", \"FL\", \"TX\"]: \n",
    "    for year in [1990, 2000, 2010]:\n",
    "        print(get_minority_seats_cdmap(usps, year))"
   ]
  },
  {
   "cell_type": "code",
   "execution_count": 69,
   "metadata": {
    "collapsed": false
   },
   "outputs": [
    {
     "data": {
      "text/plain": [
       "40"
      ]
     },
     "execution_count": 69,
     "metadata": {},
     "output_type": "execute_result"
    }
   ],
   "source": [
    "sum(race_map.majority.isin([\"B\", \"H\"]))"
   ]
  },
  {
   "cell_type": "code",
   "execution_count": 4,
   "metadata": {
    "collapsed": false
   },
   "outputs": [],
   "source": [
    "race_query = \"\"\"SELECT\n",
    "                  rn.rn, d.state, d.county cid, d.tract,\n",
    "                  b01001_001e P, b01001a_001e W,\n",
    "                  b01001b_001e B, b01001i_001e H\n",
    "                FROM census_tracts_2015 AS g\n",
    "                JOIN states AS s ON\n",
    "                  g.state = s.fips\n",
    "                JOIN acssf5y2015 AS d ON\n",
    "                  d.state  = g.state  AND\n",
    "                  d.county = g.county AND\n",
    "                  d.tract  = g.tract\n",
    "                JOIN (SELECT state, county, tract,\n",
    "                             row_number() over (PARTITION BY state ORDER BY county, tract NULLS LAST) - 1 as rn\n",
    "                      FROM census_tracts_2015) rn ON\n",
    "                  g.state  = rn.state  AND\n",
    "                  g.county = rn.county AND\n",
    "                  g.tract  = rn.tract\n",
    "                WHERE s.usps = UPPER('{}')\n",
    "                ORDER BY d.state, d.county, d.tract;\"\"\"\n",
    "\n",
    "con = psycopg2.connect(database = \"census\", user = user, password = passwd,\n",
    "                       host = \"saxon.harris.uchicago.edu\", port = 5432)\n",
    "\n",
    "race_ethnicity_df = pd.read_sql(race_query.format(usps), con, index_col = \"rn\")"
   ]
  },
  {
   "cell_type": "code",
   "execution_count": 181,
   "metadata": {
    "collapsed": false
   },
   "outputs": [],
   "source": [
    "def tract_race(usps):\n",
    "    \n",
    "    return pd.read_sql(\"\"\"SELECT\n",
    "                            rn.rn, d.state, d.county cid, d.tract,\n",
    "                            b01001_001e pop, b01001a_001e white,\n",
    "                            b01001b_001e black, b01001i_001e hispanic\n",
    "                          FROM census_tracts_2015 AS g\n",
    "                          JOIN states AS s ON\n",
    "                            g.state = s.fips\n",
    "                          JOIN acssf5y2015 AS d ON\n",
    "                            d.state  = g.state  AND\n",
    "                            d.county = g.county AND\n",
    "                            d.tract  = g.tract\n",
    "                          JOIN (SELECT state, county, tract,\n",
    "                                       row_number() over (PARTITION BY state ORDER BY county, tract NULLS LAST) - 1 as rn\n",
    "                                FROM census_tracts_2015) rn ON\n",
    "                            g.state  = rn.state  AND\n",
    "                            g.county = rn.county AND\n",
    "                            g.tract  = rn.tract\n",
    "                          WHERE s.usps = UPPER('{}')\n",
    "                          ORDER BY d.state, d.county, d.tract;\n",
    "                          \"\"\".format(usps),\n",
    "                          con = psycopg2.connect(database = \"census\", user = user, password = passwd,\n",
    "                                                 host = \"saxon.harris.uchicago.edu\", port = 5432),\n",
    "                          index_col = \"rn\")\n",
    "\n",
    "\n",
    "def get_minority_seats_mymap(tract_votes, paths):\n",
    "\n",
    "    if not len(paths): return 0, 0\n",
    "\n",
    "    seats, nmaps = 0, len(paths)\n",
    "    outcomes = pd.DataFrame(columns = [\"hispanic\", \"black\", \"H Frac\", \"H Seat\", \"B Frac\", \"B Seat\", \"Minority Seat\"])\n",
    "    \n",
    "    for xi, xpath in enumerate(paths):\n",
    "\n",
    "        map_df = pd.read_csv(xpath, names = [\"rn\", \"region\"], header = None)\n",
    "        mapped_votes = tract_votes.join(map_df)\n",
    "        cd_seats = mapped_votes.groupby(\"region\").sum()\n",
    "        cd_seats[\"H Frac\"] = cd_seats[\"hispanic\"] / cd_seats[\"pop\"]\n",
    "        cd_seats[\"B Frac\"] = cd_seats[\"black\"]    / cd_seats[\"pop\"]\n",
    "        cd_seats[\"H Seat\"] = cd_seats[\"H Frac\"] > 0.5\n",
    "        cd_seats[\"B Seat\"] = cd_seats[\"B Frac\"] > 0.5\n",
    "\n",
    "        cd_seats[\"Minority Seat\"] = cd_seats[\"B Seat\"] | cd_seats[\"H Seat\"]\n",
    "        \n",
    "        outcomes = outcomes.append(cd_seats)\n",
    "        \n",
    "        seats = cd_seats.shape[0]\n",
    "\n",
    "    return outcomes[\"Minority Seat\"].astype(int).sum() / (seats * nmaps), outcomes\n"
   ]
  },
  {
   "cell_type": "code",
   "execution_count": 185,
   "metadata": {
    "collapsed": false
   },
   "outputs": [
    {
     "name": "stdout",
     "output_type": "stream",
     "text": [
      "fl Exchange 0.1164021164021164\n",
      "fl Population Hull 0.1111111111111111\n",
      "fl Rohrbach 0.11522633744855967\n",
      "fl Isoperimeter Quotient 0.1111111111111111\n",
      "fl Power Diagram 0\n",
      "fl Dynamic Radius 0.10648148148148148\n",
      "fl Circumscribing Circles 0.11574074074074074\n",
      "fl Split-Line 0\n",
      "fl Inscribed Circles 0.10699588477366255\n"
     ]
    }
   ],
   "source": [
    "stdir = \"../cluscious/res/{}/{}/*/*.csv\"\n",
    "\n",
    "metrics = {\"Dynamic Radius\"        : \"dyn_radius\",  \"Inscribed Circles\"      : \"ehrenburg\",\n",
    "           \"Exchange\"              : \"exchange\",    \"Population Hull\"        : \"hull_p\",\n",
    "           \"Isoperimeter Quotient\" : \"polsby\",      \"Circumscribing Circles\" : \"reock\",\n",
    "           \"Rohrbach\"              : \"rohrbach\",    \"Power Diagram\"          : \"power\",\n",
    "           \"Split-Line\"            : \"split\"}\n",
    "\n",
    "seat_res = {}\n",
    "for usps in [\"fl\"]:\n",
    "    seat_res[usps] = {}\n",
    "    for ti, m in metrics.items():\n",
    "\n",
    "        tr_race_df = tract_race(usps)\n",
    "        fr, seat_res[usps][m] = get_minority_seats_mymap(tr_race_df, glob.glob(stdir.format(usps, m)))\n",
    "        print(usps, ti, fr)"
   ]
  },
  {
   "cell_type": "code",
   "execution_count": 186,
   "metadata": {
    "collapsed": false
   },
   "outputs": [
    {
     "data": {
      "text/plain": [
       "<matplotlib.axes._subplots.AxesSubplot at 0x7f78df2d1080>"
      ]
     },
     "execution_count": 186,
     "metadata": {},
     "output_type": "execute_result"
    },
    {
     "data": {
      "image/png": "[encoded data removed]",
      "text/plain": [
       "<matplotlib.figure.Figure at 0x7f78dea73ac8>"
      ]
     },
     "metadata": {},
     "output_type": "display_data"
    }
   ],
   "source": [
    "seat_res[usps][\"ehrenburg\"][\"H Frac\"].hist()"
   ]
  },
  {
   "cell_type": "code",
   "execution_count": null,
   "metadata": {
    "collapsed": true
   },
   "outputs": [],
   "source": []
  }
 ],
 "metadata": {
  "anaconda-cloud": {},
  "kernelspec": {
   "display_name": "Python [conda root]",
   "language": "python",
   "name": "conda-root-py"
  },
  "language_info": {
   "codemirror_mode": {
    "name": "ipython",
    "version": 3
   },
   "file_extension": ".py",
   "mimetype": "text/x-python",
   "name": "python",
   "nbconvert_exporter": "python",
   "pygments_lexer": "ipython3",
   "version": "3.5.2"
  }
 },
 "nbformat": 4,
 "nbformat_minor": 1
}
