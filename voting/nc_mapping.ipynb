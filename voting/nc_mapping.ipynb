{
 "cells": [
  {
   "cell_type": "code",
   "execution_count": 1,
   "metadata": {
    "collapsed": false,
    "deletable": true,
    "editable": true
   },
   "outputs": [
    {
     "name": "stderr",
     "output_type": "stream",
     "text": [
      "/home/jsaxon/anaconda3/lib/python3.5/site-packages/statsmodels/compat/pandas.py:56: FutureWarning: The pandas.core.datetools module is deprecated and will be removed in a future version. Please use the pandas.tseries module instead.\n",
      "  from pandas.core import datetools\n"
     ]
    }
   ],
   "source": [
    "import sys; sys.path.insert(0,'../')\n",
    "from dist_tools import output_geojson, merge_tract_number\n",
    "\n",
    "import pandas as pd\n",
    "import geopandas as gpd\n",
    "from IPython.display import display\n",
    "\n",
    "%matplotlib inline\n",
    "pd.options.display.max_columns = 1000\n",
    "pd.options.display.max_rows = 10000"
   ]
  },
  {
   "cell_type": "code",
   "execution_count": 2,
   "metadata": {
    "collapsed": true
   },
   "outputs": [],
   "source": [
    "epsg = 3631"
   ]
  },
  {
   "cell_type": "code",
   "execution_count": 3,
   "metadata": {
    "collapsed": false,
    "deletable": true,
    "editable": true
   },
   "outputs": [],
   "source": [
    "ncf = \"/media/jsaxon/brobdingnag/data/el_dv/nc_site/\"\n",
    "votes_2008 = pd.read_csv(ncf + \"results_pct_20081104.txt\", usecols = [\"county\", \"precinct\", \"choice\", \"contest\", \"total votes\"])\n",
    "votes_2012 = pd.read_csv(ncf + \"results_pct_20121106.txt\", usecols = [\"county\", \"precinct\", \"choice\", \"contest\", \"total votes\"])\n",
    "votes_2016 = pd.read_csv(ncf + \"results_pct_20161108.txt\", usecols = [\"County\", \"Precinct\", \"Choice\", \"Contest Name\", \"Total Votes\"], low_memory=False, sep = \"\\t\")\n",
    "\n",
    "map_12 = gpd.read_file(ncf + \"map_2012/SBE_PRECINCTS_09012012.shp\")\n",
    "map_16 = gpd.read_file(ncf + \"map_2016/Precincts.shp\")"
   ]
  },
  {
   "cell_type": "code",
   "execution_count": 4,
   "metadata": {
    "collapsed": false,
    "deletable": true,
    "editable": true
   },
   "outputs": [],
   "source": [
    "votes_2004 = pd.read_csv(ncf + \"results_pct_20041102.txt\", usecols = [\"county\", \"precinct\", \"precinct_abbrv\", \"contest_name\", \"name_on_ballot\", \"ballot_count\"])\n",
    "\n",
    "votes_2004 = votes_2004[votes_2004['contest_name'] == \"PRESIDENT\"]\n",
    "votes_2004 = votes_2004.replace({\"name_on_ballot\" : {\"George W. Bush / Dick Cheney\" : \"R04\",\n",
    "                                                      \"John F. Kerry / John Edwards\" : \"D04\"}})\n",
    "votes_2004 = votes_2004.rename(columns = {\"name_on_ballot\" : \"party\", \"ballot_count\" : \"votes\", \n",
    "                                          \"precinct_abbrv\" : \"precinct_code\"})\n",
    "votes_2004 = votes_2004[(votes_2004.party == \"R04\") | (votes_2004.party == \"D04\")]\n",
    "votes_2004.precinct = votes_2004.precinct.str.replace(r'[ ]+$', r'')\n",
    "votes_2004.precinct_code = votes_2004.precinct_code.str.replace(r'[ ]+$', '')\n",
    "votes_2004 = votes_2004[[\"county\", \"precinct_code\", \"precinct\", \"party\", \"votes\"]]\n",
    "votes_2004 = pd.pivot_table(votes_2004, values = \"votes\", index = [\"county\", \"precinct\", \"precinct_code\"], columns = [\"party\"])\n",
    "votes_2004 = votes_2004.reset_index()\n",
    "\n",
    "map_06 = gpd.read_file(ncf + \"map_2006/Precincts2006Gen.shp\")\n",
    "map_06.Precinct  = map_06.Precinct.str.upper()\n",
    "map_06.County    = map_06.County.str.upper() \n",
    "map_06.rename(columns = {\"County\" : \"county\", \"Precinct\" : \"precinct\", \"SEIMS_Code\" : \"precinct_code\"}, inplace = True)\n",
    "map_06 = map_06[[\"county\", \"precinct\", \"precinct_code\", \"SEIMS_Desc\", \"geometry\"]]\n",
    "\n",
    "geo_votes_2004 = pd.merge(votes_2004, map_06, on = [\"county\", \"precinct_code\"], how = \"outer\")\n",
    "geo_votes_2004 = geo_votes_2004[(geo_votes_2004.precinct_x != \"PROV\") & (geo_votes_2004.precinct_x != \"CURBSIDE\") & \n",
    "                                (geo_votes_2004.precinct_x != \"ABSENTEE\") & (geo_votes_2004.precinct_x != \"TRANSFER\")]\n",
    "# geo_votes_2004[geo_votes_2004.geometry.isnull() | geo_votes_2004.D04.isnull()].sort_values(by = [\"county\", \"precinct_code\"]).shape"
   ]
  },
  {
   "cell_type": "markdown",
   "metadata": {},
   "source": [
    "### 2012 "
   ]
  },
  {
   "cell_type": "code",
   "execution_count": 5,
   "metadata": {
    "collapsed": false,
    "scrolled": false
   },
   "outputs": [
    {
     "name": "stdout",
     "output_type": "stream",
     "text": [
      "A OK -- but do remember the two unmatched guys: Chatham/CV and Henderson/73.\n"
     ]
    }
   ],
   "source": [
    "votes_2012 = pd.read_csv(ncf + \"results_pct_20121106.txt\", usecols = [\"county\", \"precinct\", \"choice\", \"contest\", \"total votes\",\n",
    "                                                                \"Election Day\", \"One Stop\", \"Absentee by Mail\", \"Provisional\"])\n",
    "\n",
    "votes_2012 = votes_2012[votes_2012.contest == \"PRESIDENT AND VICE PRESIDENT OF THE UNITED STATES\"]\n",
    "votes_2012 = votes_2012.replace({\"choice\" : {\"Romney/Ryan\" : \"R12\",\n",
    "                                             \"Obama/Biden\" : \"D12\"}})\n",
    "votes_2012 = votes_2012.rename(columns = {\"choice\" : \"party\", \"total votes\" : \"votes\"})\n",
    "votes_2012 = votes_2012[(votes_2012.party == \"R12\") | (votes_2012.party == \"D12\")]\n",
    "\n",
    "votes_2012.loc[votes_2012[\"Absentee by Mail\"] > 0, \"vtype\"] = \"Abs\"\n",
    "votes_2012.loc[votes_2012[\"One Stop\"] > 0,         \"vtype\"] = \"OS\"\n",
    "votes_2012.loc[votes_2012[\"Provisional\"] > 0,      \"vtype\"] = \"Prov\"\n",
    "votes_2012.loc[votes_2012[\"Election Day\"] > 0,     \"vtype\"] = \"Poll\"\n",
    "votes_2012.loc[votes_2012[\"precinct\"].str.contains(\"CURBSIDE\"), \"vtype\"] = \"Curb\"\n",
    "votes_2012.loc[votes_2012[\"precinct\"].str.contains(\"TRANSFER\"), \"vtype\"] = \"Tran\"\n",
    "\n",
    "votes_2012.loc[votes_2012.precinct.str.contains(\"ABSENTEE\"), \"vtype\"] = \"Abs\"\n",
    "votes_2012.loc[votes_2012.precinct.str.contains(\"ONE STOP\"), \"vtype\"] = \"OS\"\n",
    "\n",
    "votes_2012 = votes_2012[[\"county\", \"precinct\", \"party\", \"votes\", \"vtype\"]]\n",
    "votes_2012 = pd.pivot_table(votes_2012, values = \"votes\", index = [\"county\", \"precinct\", \"vtype\"], columns = [\"party\"])\n",
    "votes_2012 = votes_2012.reset_index()\n",
    "\n",
    "votes_2012.precinct_name = votes_2012.precinct.str.replace(r'([A-Z0-9\\-]+)_(.*)$', r'\\2')\n",
    "votes_2012.precinct = votes_2012.precinct.str.replace(r'([A-Z0-9\\-]+)_(.*)$', r'\\1')\n",
    "\n",
    "# votes_2016\n",
    "\n",
    "map_12 = gpd.read_file(ncf + \"map_2012/SBE_PRECINCTS_09012012.shp\")\n",
    "map_12.rename(columns = {\"COUNTY_NAM\" : \"county\", \"PREC_ID\" : \"precinct\"}, inplace = True)\n",
    "map_12 = map_12[[\"county\", \"precinct\", \"geometry\"]]\n",
    "map_12.county = map_12.county.str.replace(\"_\", \" \")\n",
    "map_12.loc[map_12.county == \"YANCEY\", \"precinct\"] = map_12[map_12.county == \"YANCEY\"].precinct.str.replace(\"-\", \" \")\n",
    "map_12.loc[(map_12.county == \"SWAIN\"), \"precinct\"] = map_12[map_12.county == \"SWAIN\"].precinct.str.upper()\n",
    "map_12.loc[(map_12.county == \"GREENE\") & \n",
    "           (map_12.precinct == \"SH1\"), \"precinct\"] = \"SH#1\"\n",
    "\n",
    "votes_2012.loc[(votes_2012.county == \"PAMLICO\"), \"precinct\"] = votes_2012[votes_2012.county == \"PAMLICO\"].precinct.str.replace(\" \", \"\")\n",
    "map_12.loc[(map_12.county == \"PAMLICO\") & (map_12.precinct == \"4VMSIC\"), \"precinct\"] = \"4MSIC\"\n",
    "\n",
    "\n",
    "votes_2012.loc[(votes_2012.county == \"DURHAM\") & votes_2012.precinct.str.contains(\"55-\"), \"precinct\"] = \"55\"\n",
    "votes_2012.loc[(votes_2012.county == \"BUNCOMBE\") & (votes_2012.precinct == \"681\"), \"precinct\"] = \"68.1\"\n",
    "votes_2012.loc[votes_2012.county == \"WAKE\", \"precinct\"] = votes_2012[votes_2012.county == \"WAKE\"].precinct.str.replace(r'07A$', r'07')\n",
    "votes_2012.loc[(votes_2012.county == \"GUILFORD\") & votes_2012.precinct.str.contains(\"G42\"), \"precinct\"] = \"G42\"\n",
    "votes_2012.loc[(votes_2012.county == \"GUILFORD\") & votes_2012.precinct.str.contains(\"H27\"), \"precinct\"] = \"H27\"\n",
    "votes_2012.loc[(votes_2012.county == \"ONSLOW\") & votes_2012.precinct.str.contains(\"NE22\"), \"precinct\"] = \"NE22\"\n",
    "votes_2012.loc[(votes_2012.county == \"ORANGE\") & votes_2012.precinct.str.contains(\"WDS\"), \"precinct\"] = \"WD\"\n",
    "\n",
    "\n",
    "map_12 = map_12.to_crs(epsg = 3358)\n",
    "\n",
    "# map_16.head()\n",
    "\n",
    "geo_votes_2012 = pd.merge(map_12, votes_2012, on = [\"county\", \"precinct\"], how = \"outer\")\n",
    "\n",
    "# geo_votes_2012[geo_votes_2012.vtype != \"Poll\"].sort_values(by = [\"county\", \"precinct\"]).head()\n",
    "\n",
    "## We have two unmatched precincts after all of this. \n",
    "## We'll reallocate them like absentee votes.\n",
    "\n",
    "geo_votes_2012.loc[(geo_votes_2012.county == \"CHATHAM\")   & (geo_votes_2012.precinct == \"73\"), \"vtype\"] = \"OS\"\n",
    "geo_votes_2012.loc[(geo_votes_2012.county == \"HENDERSON\") & (geo_votes_2012.precinct == \"CV\"), \"vtype\"] = \"OS\"\n",
    "\n",
    "if geo_votes_2012[geo_votes_2012.geometry.isnull() & (geo_votes_2012.vtype == \"Poll\")].shape[0]:\n",
    "    print(\"Trouble in paradise.\")\n",
    "    display(geo_votes_2012[geo_votes_2012.geometry.isnull() & (geo_votes_2012.vtype == \"Poll\")].sort_values(by = [\"county\", \"precinct\"]))\n",
    "else:\n",
    "    print(\"A OK -- but do remember the two unmatched guys: Chatham/CV and Henderson/73.\")\n",
    "    # display(geo_votes_2012.head(10))"
   ]
  },
  {
   "cell_type": "code",
   "execution_count": 6,
   "metadata": {
    "collapsed": false
   },
   "outputs": [],
   "source": [
    "# map_12.loc[map_12.county == \"HENDERSON\", ].sort_values(by = [\"county\", \"precinct\"])"
   ]
  },
  {
   "cell_type": "code",
   "execution_count": 7,
   "metadata": {
    "collapsed": false
   },
   "outputs": [],
   "source": [
    "county_poll_totals = geo_votes_2012[geo_votes_2012.vtype == \"Poll\"]\\\n",
    "                                   .groupby(\"county\").sum()[[\"D12\", \"R12\"]]\\\n",
    "                                   .rename(columns = {\"D12\" : \"D12_poll_tot\", \"R12\" : \"R12_poll_tot\"})\\\n",
    "                                   .reset_index()\n",
    "\n",
    "county_alt_totals = geo_votes_2012[geo_votes_2012.vtype != \"Poll\"]\\\n",
    "                                   .groupby(\"county\").sum()[[\"D12\", \"R12\"]]\\\n",
    "                                   .rename(columns = {\"D12\" : \"D12_alt_tot\", \"R12\" : \"R12_alt_tot\"})\\\n",
    "                                   .reset_index()            \n",
    "            \n",
    "geo_votes_2012 = pd.merge(geo_votes_2012, county_poll_totals, on = \"county\", how = \"outer\")\n",
    "geo_votes_2012 = pd.merge(geo_votes_2012, county_alt_totals,  on = \"county\", how = \"outer\")\n",
    "\n",
    "geo_votes_2012.D12_poll_tot = geo_votes_2012.D12_poll_tot.fillna(0)\n",
    "geo_votes_2012.R12_poll_tot = geo_votes_2012.R12_poll_tot.fillna(0)\n",
    "geo_votes_2012.D12_alt_tot  = geo_votes_2012.D12_alt_tot.fillna(0)\n",
    "geo_votes_2012.R12_alt_tot  = geo_votes_2012.R12_alt_tot.fillna(0)\n",
    "\n",
    "# geo_votes_2012.sort_values(by = [\"county\", \"precinct\"])\n",
    "\n",
    "geo_votes_2012[\"D12_poll_frac\"] = 0\n",
    "geo_votes_2012.loc[geo_votes_2012.vtype == \"Poll\", \"D12_poll_frac\"] = \\\n",
    "    geo_votes_2012.loc[geo_votes_2012.vtype == \"Poll\", \"D12\"] / \\\n",
    "    geo_votes_2012.loc[geo_votes_2012.vtype == \"Poll\", \"D12_poll_tot\"]\n",
    "    \n",
    "geo_votes_2012[\"D12_adj\"] = 0\n",
    "geo_votes_2012.loc[geo_votes_2012.vtype == \"Poll\", \"D12_adj\"] = \\\n",
    "    geo_votes_2012.loc[geo_votes_2012.vtype == \"Poll\", \"D12\"] + \\\n",
    "    geo_votes_2012.loc[geo_votes_2012.vtype == \"Poll\", \"D12_alt_tot\"] * \\\n",
    "    geo_votes_2012.loc[geo_votes_2012.vtype == \"Poll\", \"D12_poll_frac\"]\n",
    "\n",
    "geo_votes_2012[\"R12_poll_frac\"] = 0\n",
    "geo_votes_2012.loc[geo_votes_2012.vtype == \"Poll\", \"R12_poll_frac\"] = \\\n",
    "    geo_votes_2012.loc[geo_votes_2012.vtype == \"Poll\", \"R12\"] / \\\n",
    "    geo_votes_2012.loc[geo_votes_2012.vtype == \"Poll\", \"R12_poll_tot\"]\n",
    "\n",
    "geo_votes_2012[\"R12_adj\"] = 0\n",
    "geo_votes_2012.loc[geo_votes_2012.vtype == \"Poll\", \"R12_adj\"] = \\\n",
    "    geo_votes_2012.loc[geo_votes_2012.vtype == \"Poll\", \"R12\"] + \\\n",
    "    geo_votes_2012.loc[geo_votes_2012.vtype == \"Poll\", \"R12_alt_tot\"] * \\\n",
    "    geo_votes_2012.loc[geo_votes_2012.vtype == \"Poll\", \"R12_poll_frac\"]\n",
    "    \n",
    "# geo_votes_2012.head() # .groupby(\"county\").sum()\n",
    "# geo_votes_2012[geo_votes_2012.vtype == \"Poll\"].head(10)"
   ]
  },
  {
   "cell_type": "code",
   "execution_count": 8,
   "metadata": {
    "collapsed": false
   },
   "outputs": [],
   "source": [
    "geo_votes_2012 = geo_votes_2012.loc[geo_votes_2012.vtype == \"Poll\", [\"county\", \"precinct\", \"D12_adj\", \"R12_adj\", \"geometry\"]]\\\n",
    "                               .rename(columns = {\"R12_adj\" : \"R12\", \"D12_adj\" : \"D12\"}).copy()\n",
    "\n",
    "geo_votes_2012.to_crs(epsg = epsg).to_file(ncf + \"nc_2012.shp\")\n",
    "\n",
    "    \n",
    "geo_votes_2012[\"DFrac\"] = geo_votes_2012.D12 / (geo_votes_2012.D12 + geo_votes_2012.R12)\n",
    "    \n",
    "output_geojson(geo_votes_2012.set_geometry(geo_votes_2012.geometry.simplify(10)),\n",
    "               var = \"DFrac\", fname = \"mapped/nc_2012.geojson\")"
   ]
  },
  {
   "cell_type": "markdown",
   "metadata": {},
   "source": [
    "### 2016"
   ]
  },
  {
   "cell_type": "code",
   "execution_count": 9,
   "metadata": {
    "collapsed": false,
    "deletable": true,
    "editable": true
   },
   "outputs": [
    {
     "name": "stdout",
     "output_type": "stream",
     "text": [
      "A OK!\n"
     ]
    }
   ],
   "source": [
    "votes_2016 = pd.read_csv(ncf + \"results_pct_20161108.txt\", \n",
    "                         usecols = [\"County\", \"Precinct\", \"Choice\", \"Contest Name\", \"Total Votes\",\n",
    "                                    \"Election Day\", \"One Stop\", \"Absentee by Mail\", \"Provisional\"], \n",
    "                         low_memory=False, sep = \"\\t\")\n",
    "\n",
    "votes_2016 = votes_2016[votes_2016['Contest Name'] == \"US PRESIDENT\"]\n",
    "votes_2016 = votes_2016.replace({\"Choice\" : {\"Donald J. Trump\" : \"R16\",\n",
    "                                             \"Hillary Clinton\" : \"D16\"}})\n",
    "votes_2016 = votes_2016.rename(columns = {\"Choice\" : \"party\", \"Total Votes\" : \"votes\", \n",
    "                                          \"County\" : \"county\", \"Precinct\" : \"precinct\"})\n",
    "votes_2016 = votes_2016[(votes_2016.party == \"R16\") | (votes_2016.party == \"D16\")]\n",
    "votes_2016.precinct = votes_2016.precinct.str.replace(r'[ ]+$', r'')\n",
    "\n",
    "votes_2016.loc[votes_2016[\"Absentee by Mail\"] > 0, \"vtype\"] = \"Abs\"\n",
    "votes_2016.loc[votes_2016[\"One Stop\"] > 0,         \"vtype\"] = \"OS\"\n",
    "votes_2016.loc[votes_2016[\"Provisional\"] > 0,      \"vtype\"] = \"Prov\"\n",
    "votes_2016.loc[votes_2016[\"Election Day\"] > 0,     \"vtype\"] = \"Poll\"\n",
    "votes_2016.loc[votes_2016[\"precinct\"].str.contains(\"CURBSIDE\"), \"vtype\"] = \"Curb\"\n",
    "votes_2016.loc[votes_2016[\"precinct\"].str.contains(\"TRANSFER\"), \"vtype\"] = \"Tran\"\n",
    "\n",
    "votes_2016 = votes_2016[[\"county\", \"precinct\", \"party\", \"votes\", \"vtype\"]]\n",
    "votes_2016 = pd.pivot_table(votes_2016, values = \"votes\", index = [\"county\", \"precinct\", \"vtype\"], columns = [\"party\"])\n",
    "votes_2016 = votes_2016.reset_index()\n",
    "\n",
    "# votes_2016\n",
    "\n",
    "map_16 = gpd.read_file(ncf + \"map_2016/Precincts.shp\")\n",
    "map_16.rename(columns = {\"COUNTY_NAM\" : \"county\", \"PREC_ID\" : \"precinct\"}, inplace = True)\n",
    "map_16 = map_16[[\"county\", \"precinct\", \"geometry\"]]\n",
    "map_16 = map_16.to_crs(epsg = 3358)\n",
    "\n",
    "# map_16.head()\n",
    "\n",
    "geo_votes_2016 = pd.merge(map_16, votes_2016, on = [\"county\", \"precinct\"], how = \"outer\")\n",
    "\n",
    "# geo_votes_2016[geo_votes_2016.vtype != \"Poll\"].sort_values(by = [\"county\", \"precinct\"]).head()\n",
    "\n",
    "if geo_votes_2016[geo_votes_2016.geometry.isnull() & (geo_votes_2016.vtype == \"Poll\")].sort_values(by = [\"county\", \"precinct\"]).shape[0]: print(\"Problems in paradise.\")\n",
    "else: print(\"A OK!\")"
   ]
  },
  {
   "cell_type": "markdown",
   "metadata": {},
   "source": [
    "### Reallocate early, provisional, and absentee votes to precincts.\n",
    "Assign the non-election-day/non-precinct-level votes according to the precinct's share of the county's Democratic and Republican vote totals."
   ]
  },
  {
   "cell_type": "code",
   "execution_count": 10,
   "metadata": {
    "collapsed": false
   },
   "outputs": [],
   "source": [
    "county_poll_totals = geo_votes_2016[geo_votes_2016.vtype == \"Poll\"]\\\n",
    "                                   .groupby(\"county\").sum()[[\"D16\", \"R16\"]]\\\n",
    "                                   .rename(columns = {\"D16\" : \"D16_poll_tot\", \"R16\" : \"R16_poll_tot\"})\\\n",
    "                                   .reset_index()\n",
    "\n",
    "county_alt_totals = geo_votes_2016[geo_votes_2016.vtype != \"Poll\"]\\\n",
    "                                   .groupby(\"county\").sum()[[\"D16\", \"R16\"]]\\\n",
    "                                   .rename(columns = {\"D16\" : \"D16_alt_tot\", \"R16\" : \"R16_alt_tot\"})\\\n",
    "                                   .reset_index()            \n",
    "            \n",
    "geo_votes_2016 = pd.merge(geo_votes_2016, county_poll_totals, on = \"county\", how = \"outer\")\n",
    "geo_votes_2016 = pd.merge(geo_votes_2016, county_alt_totals,  on = \"county\", how = \"outer\")\n",
    "\n",
    "geo_votes_2016.D16_poll_tot = geo_votes_2016.D16_poll_tot.fillna(0)\n",
    "geo_votes_2016.R16_poll_tot = geo_votes_2016.R16_poll_tot.fillna(0)\n",
    "geo_votes_2016.D16_alt_tot  = geo_votes_2016.D16_alt_tot.fillna(0)\n",
    "geo_votes_2016.R16_alt_tot  = geo_votes_2016.R16_alt_tot.fillna(0)\n",
    "\n",
    "# geo_votes_2016.sort_values(by = [\"county\", \"precinct\"])\n",
    "\n",
    "geo_votes_2016[\"D16_poll_frac\"] = 0\n",
    "geo_votes_2016.loc[geo_votes_2016.vtype == \"Poll\", \"D16_poll_frac\"] = \\\n",
    "    geo_votes_2016.loc[geo_votes_2016.vtype == \"Poll\", \"D16\"] / \\\n",
    "    geo_votes_2016.loc[geo_votes_2016.vtype == \"Poll\", \"D16_poll_tot\"]\n",
    "    \n",
    "geo_votes_2016[\"D16_adj\"] = 0\n",
    "geo_votes_2016.loc[geo_votes_2016.vtype == \"Poll\", \"D16_adj\"] = \\\n",
    "    geo_votes_2016.loc[geo_votes_2016.vtype == \"Poll\", \"D16\"] + \\\n",
    "    geo_votes_2016.loc[geo_votes_2016.vtype == \"Poll\", \"D16_alt_tot\"] * \\\n",
    "    geo_votes_2016.loc[geo_votes_2016.vtype == \"Poll\", \"D16_poll_frac\"]\n",
    "\n",
    "geo_votes_2016[\"R16_poll_frac\"] = 0\n",
    "geo_votes_2016.loc[geo_votes_2016.vtype == \"Poll\", \"R16_poll_frac\"] = \\\n",
    "    geo_votes_2016.loc[geo_votes_2016.vtype == \"Poll\", \"R16\"] / \\\n",
    "    geo_votes_2016.loc[geo_votes_2016.vtype == \"Poll\", \"R16_poll_tot\"]\n",
    "\n",
    "geo_votes_2016[\"R16_adj\"] = 0\n",
    "geo_votes_2016.loc[geo_votes_2016.vtype == \"Poll\", \"R16_adj\"] = \\\n",
    "    geo_votes_2016.loc[geo_votes_2016.vtype == \"Poll\", \"R16\"] + \\\n",
    "    geo_votes_2016.loc[geo_votes_2016.vtype == \"Poll\", \"R16_alt_tot\"] * \\\n",
    "    geo_votes_2016.loc[geo_votes_2016.vtype == \"Poll\", \"R16_poll_frac\"]\n",
    "    \n",
    "# geo_votes_2016.head() # .groupby(\"county\").sum()\n",
    "# geo_votes_2016[geo_votes_2016.vtype == \"Poll\"].head(10)"
   ]
  },
  {
   "cell_type": "code",
   "execution_count": 11,
   "metadata": {
    "collapsed": false,
    "deletable": true,
    "editable": true
   },
   "outputs": [],
   "source": [
    "geo_votes_2016 = geo_votes_2016.loc[geo_votes_2016.vtype == \"Poll\", [\"county\", \"precinct\", \"D16_adj\", \"R16_adj\", \"geometry\"]]\\\n",
    "                               .rename(columns = {\"R16_adj\" : \"R16\", \"D16_adj\" : \"D16\"})\n",
    "geo_votes_2016.to_crs(epsg = epsg).to_file(ncf + \"nc_2016.shp\")\n",
    "\n",
    "geo_votes_2016[\"DFrac\"] = geo_votes_2016.D16 / (geo_votes_2016.D16 + geo_votes_2016.R16)\n",
    "    \n",
    "output_geojson(geo_votes_2016.set_geometry(geo_votes_2016.geometry.simplify(10)),\n",
    "               var = \"DFrac\", fname = \"mapped/nc_2016.geojson\")"
   ]
  },
  {
   "cell_type": "markdown",
   "metadata": {},
   "source": [
    "### Finally, merge each of these on to the census tracts."
   ]
  },
  {
   "cell_type": "code",
   "execution_count": 12,
   "metadata": {
    "collapsed": false
   },
   "outputs": [],
   "source": [
    "geo_votes_2012 = gpd.read_file(ncf + \"nc_2012.shp\").to_crs(epsg = epsg)\n",
    "geo_votes_2016 = gpd.read_file(ncf + \"nc_2016.shp\").to_crs(epsg = epsg)"
   ]
  },
  {
   "cell_type": "code",
   "execution_count": 13,
   "metadata": {
    "collapsed": false
   },
   "outputs": [],
   "source": [
    "import psycopg2\n",
    "from netrc import netrc\n",
    "from fiona.crs import from_epsg\n",
    "\n",
    "user, acct, passwd = netrc().authenticators(\"harris\")\n",
    "\n",
    "seats, fips, epsg = 13, 37, 3631\n",
    "\n",
    "query = \"\"\"SELECT \n",
    "              rn, ST_Transform(tr.geom, epsg) geometry\n",
    "           FROM census_tracts_2015 AS tr\n",
    "           JOIN (SELECT state, county, tract,\n",
    "                        row_number() over \n",
    "                          (PARTITION BY state ORDER BY county, tract NULLS LAST) - 1 as rn\n",
    "                 FROM census_tracts_2015) rn ON\n",
    "                   tr.state  = rn.state  AND\n",
    "                   tr.county = rn.county AND\n",
    "                   tr.tract  = rn.tract\n",
    "           JOIN states AS st ON st.fips = tr.state\n",
    "           WHERE tr.state = {} ORDER BY rn;\n",
    "           \"\"\"\n",
    "\n",
    "con = psycopg2.connect(database = \"census\", user = user, password = passwd,\n",
    "                       host = \"saxon.harris.uchicago.edu\", port = 5432)\n",
    "\n",
    "tr_rn = gpd.GeoDataFrame.from_postgis(query.format(fips), con, geom_col = \"geometry\", crs = from_epsg(epsg))\n",
    "\n",
    "# for xi, pt in enumerate(tr_rn.geometry): print(xi, pt)\n",
    "# tr_rn.tail()"
   ]
  },
  {
   "cell_type": "code",
   "execution_count": 14,
   "metadata": {
    "collapsed": false
   },
   "outputs": [
    {
     "data": {
      "image/png": "[encoded data removed]",
      "text/plain": [
       "<matplotlib.figure.Figure at 0x7f40b408feb8>"
      ]
     },
     "metadata": {},
     "output_type": "display_data"
    }
   ],
   "source": [
    "ax = tr_rn.plot(color = \"blue\")\n",
    "geo_votes_2012.set_geometry(geo_votes_2012.centroid).plot(color = \"red\", markersize = 1, ax = ax)\n",
    "ax.set_axis_off()"
   ]
  },
  {
   "cell_type": "code",
   "execution_count": 15,
   "metadata": {
    "collapsed": false
   },
   "outputs": [],
   "source": [
    "votes12 = merge_tract_number(tr_rn, geo_votes_2012)[[\"D12\", \"R12\"]]\n",
    "votes16 = merge_tract_number(tr_rn, geo_votes_2016)[[\"D16\", \"R16\"]]"
   ]
  },
  {
   "cell_type": "code",
   "execution_count": 16,
   "metadata": {
    "collapsed": false
   },
   "outputs": [],
   "source": [
    "nc_votes = votes12.join(votes16, how = \"outer\").fillna(0).astype(float).groupby(\"rn\").sum()\n",
    "nc_votes.to_csv(\"votes/nc.csv\")"
   ]
  },
  {
   "cell_type": "code",
   "execution_count": 19,
   "metadata": {
    "collapsed": false
   },
   "outputs": [
    {
     "data": {
      "text/html": [
       "<div>\n",
       "<style>\n",
       "    .dataframe thead tr:only-child th {\n",
       "        text-align: right;\n",
       "    }\n",
       "\n",
       "    .dataframe thead th {\n",
       "        text-align: left;\n",
       "    }\n",
       "\n",
       "    .dataframe tbody tr th {\n",
       "        vertical-align: top;\n",
       "    }\n",
       "</style>\n",
       "<table border=\"1\" class=\"dataframe\">\n",
       "  <thead>\n",
       "    <tr style=\"text-align: right;\">\n",
       "      <th></th>\n",
       "      <th>rn</th>\n",
       "      <th>D12</th>\n",
       "      <th>R12</th>\n",
       "      <th>D16</th>\n",
       "      <th>R16</th>\n",
       "    </tr>\n",
       "  </thead>\n",
       "  <tbody>\n",
       "    <tr>\n",
       "      <th>0</th>\n",
       "      <td>0</td>\n",
       "      <td>1444.0</td>\n",
       "      <td>1072.0</td>\n",
       "      <td>1494.0</td>\n",
       "      <td>943.0</td>\n",
       "    </tr>\n",
       "    <tr>\n",
       "      <th>1</th>\n",
       "      <td>1</td>\n",
       "      <td>594.0</td>\n",
       "      <td>344.0</td>\n",
       "      <td>552.0</td>\n",
       "      <td>322.0</td>\n",
       "    </tr>\n",
       "    <tr>\n",
       "      <th>2</th>\n",
       "      <td>2</td>\n",
       "      <td>987.0</td>\n",
       "      <td>570.0</td>\n",
       "      <td>996.0</td>\n",
       "      <td>528.0</td>\n",
       "    </tr>\n",
       "    <tr>\n",
       "      <th>3</th>\n",
       "      <td>3</td>\n",
       "      <td>2009.0</td>\n",
       "      <td>275.0</td>\n",
       "      <td>1777.0</td>\n",
       "      <td>289.0</td>\n",
       "    </tr>\n",
       "    <tr>\n",
       "      <th>4</th>\n",
       "      <td>5</td>\n",
       "      <td>1982.0</td>\n",
       "      <td>596.0</td>\n",
       "      <td>1831.0</td>\n",
       "      <td>637.0</td>\n",
       "    </tr>\n",
       "  </tbody>\n",
       "</table>\n",
       "</div>"
      ],
      "text/plain": [
       "   rn     D12     R12     D16    R16\n",
       "0   0  1444.0  1072.0  1494.0  943.0\n",
       "1   1   594.0   344.0   552.0  322.0\n",
       "2   2   987.0   570.0   996.0  528.0\n",
       "3   3  2009.0   275.0  1777.0  289.0\n",
       "4   5  1982.0   596.0  1831.0  637.0"
      ]
     },
     "execution_count": 19,
     "metadata": {},
     "output_type": "execute_result"
    }
   ],
   "source": [
    "pd.read_csv(\"votes/nc.csv\").head()"
   ]
  },
  {
   "cell_type": "code",
   "execution_count": null,
   "metadata": {
    "collapsed": true
   },
   "outputs": [],
   "source": []
  }
 ],
 "metadata": {
  "anaconda-cloud": {},
  "kernelspec": {
   "display_name": "Python [conda root]",
   "language": "python",
   "name": "conda-root-py"
  },
  "language_info": {
   "codemirror_mode": {
    "name": "ipython",
    "version": 3
   },
   "file_extension": ".py",
   "mimetype": "text/x-python",
   "name": "python",
   "nbconvert_exporter": "python",
   "pygments_lexer": "ipython3",
   "version": "3.5.2"
  }
 },
 "nbformat": 4,
 "nbformat_minor": 2
}
