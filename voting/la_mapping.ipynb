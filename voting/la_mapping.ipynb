{
 "cells": [
  {
   "cell_type": "code",
   "execution_count": 1,
   "metadata": {
    "collapsed": false,
    "deletable": true,
    "editable": true
   },
   "outputs": [
    {
     "name": "stderr",
     "output_type": "stream",
     "text": [
      "/home/jsaxon/anaconda3/lib/python3.5/site-packages/statsmodels/compat/pandas.py:56: FutureWarning: The pandas.core.datetools module is deprecated and will be removed in a future version. Please use the pandas.tseries module instead.\n",
      "  from pandas.core import datetools\n"
     ]
    }
   ],
   "source": [
    "import sys; sys.path.insert(0,'../')\n",
    "from dist_tools import *\n",
    "\n",
    "\n",
    "import pandas as pd\n",
    "import geopandas as gpd\n",
    "from IPython.display import display\n",
    "\n",
    "import requests\n",
    "\n",
    "import psycopg2\n",
    "from netrc import netrc\n",
    "from fiona.crs import from_epsg\n",
    "\n",
    "user, acct, passwd = netrc().authenticators(\"harris\")\n",
    "\n",
    "%matplotlib inline\n",
    "pd.options.display.max_columns = 1000\n",
    "pd.options.display.max_rows = 10000\n",
    "\n",
    "fips, epsg = 22, 3552\n",
    "laf = \"/media/jsaxon/brobdingnag/data/el_dv/la_site/\""
   ]
  },
  {
   "cell_type": "code",
   "execution_count": 2,
   "metadata": {
    "collapsed": false
   },
   "outputs": [
    {
     "name": "stdout",
     "output_type": "stream",
     "text": [
      "2012_LA_Precincts.dbf\t\t       LA_2016.cpg\t    la_geo_votes_16.shp\r\n",
      "2012_LA_Precincts.prj\t\t       LA_2016.dbf\t    la_geo_votes_16.shx\r\n",
      "2012_LA_Precincts.sbn\t\t       LA_2016.prj\t    la_geo_votes.cpg\r\n",
      "2012_LA_Precincts.sbx\t\t       LA_2016.shp\t    la_geo_votes.dbf\r\n",
      "2012_LA_Precincts.shp\t\t       LA_2016.shx\t    la_geo_votes.prj\r\n",
      "2012_LA_Precincts.shp.xml\t       la_geo_votes_12.cpg  la_geo_votes.shp\r\n",
      "2012_LA_Precincts.shx\t\t       la_geo_votes_12.dbf  la_geo_votes.shx\r\n",
      "2012 Louisiana Precinct Shapefile.zip  la_geo_votes_12.prj  la.qgs\r\n",
      "2016_LA_PRECINCTS.DBF\t\t       la_geo_votes_12.shp  la_votes_2012.csv\r\n",
      "2016_LA_Precincts.prj\t\t       la_geo_votes_12.shx  la_votes_2016.csv\r\n",
      "2016_LA_Precincts.shp\t\t       la_geo_votes_16.cpg  sources.txt\r\n",
      "2016_LA_Precincts.shx\t\t       la_geo_votes_16.dbf\r\n",
      "2016_LouisianaPrecinctShapefile.zip    la_geo_votes_16.prj\r\n"
     ]
    }
   ],
   "source": [
    "! ls /media/jsaxon/brobdingnag/data/el_dv/la_site/"
   ]
  },
  {
   "cell_type": "code",
   "execution_count": 3,
   "metadata": {
    "collapsed": false
   },
   "outputs": [
    {
     "name": "stdout",
     "output_type": "stream",
     "text": [
      "https://voterportal.sos.la.gov/static/#/\r\n",
      "https://voterportal.sos.la.gov/static/#/2016-11-08/resultsRegion/53898/01\r\n",
      "\r\n",
      ">> Get JSON here, by county (1-64)\r\n",
      "https://voterportal.sos.la.gov/ElectionResults/ElectionResults/Data?blob=20161108/VotesRaceByPrecinct/Votes_53898_01.htm\r\n",
      "\r\n",
      "http://house.louisiana.gov/H_Redistricting2011/default_LouisianaPrecinctShapefiles.htm\r\n"
     ]
    }
   ],
   "source": [
    "! cat /media/jsaxon/brobdingnag/data/el_dv/la_site/sources.txt"
   ]
  },
  {
   "cell_type": "code",
   "execution_count": 4,
   "metadata": {
    "collapsed": false
   },
   "outputs": [],
   "source": [
    "addr12 = \"https://voterportal.sos.la.gov/ElectionResults/ElectionResults/Data?blob=20121106/VotesRaceByPrecinct/Votes_46257_{:02d}.htm\"\n",
    "\n",
    "df12 = []\n",
    "for ci in []: # range(1, 65):\n",
    "\n",
    "    js = requests.get(addr12.format(ci)).json()\n",
    "\n",
    "    data = js[\"Precincts\"][\"Precinct\"]\n",
    "    for precinct in data:\n",
    "        for choice in precinct[\"Choice\"]:\n",
    "            precinct[int(choice[\"ID\"])] = int(choice[\"VoteTotal\"])\n",
    "\n",
    "    df = pd.DataFrame(data)\n",
    "    df = df.rename(columns = {\"Precinct\" : \"precinct\", 90532 : \"R12\", 90536 : \"D12\"})\n",
    "    df = df[[\"precinct\", \"D12\", \"R12\"]]\n",
    "    df[\"county\"] = ci*2-1\n",
    "    df12.append(df)\n",
    "    \n",
    "# df12 = pd.concat(df12)\n",
    "# df12.replace({\"precinct\" : {\"Early Voting\" : \"EV\", \"Provisional Votes\" : \"PR\"}}, inplace = True)\n",
    "# df12[[\"county\", \"precinct\", \"D12\", \"R12\"]].to_csv(laf + \"la_votes_2012.csv\", index = False)"
   ]
  },
  {
   "cell_type": "code",
   "execution_count": 5,
   "metadata": {
    "collapsed": false
   },
   "outputs": [],
   "source": [
    "addr16 = \"https://voterportal.sos.la.gov/ElectionResults/ElectionResults/Data?blob=20161108/VotesRaceByPrecinct/Votes_53898_{:02d}.htm\"\n",
    "\n",
    "df16 = []\n",
    "for ci in []: # range(1, 65):\n",
    "\n",
    "    js = requests.get(addr16.format(ci)).json()\n",
    "\n",
    "    data = js[\"Precincts\"][\"Precinct\"]\n",
    "    for precinct in data:\n",
    "        for choice in precinct[\"Choice\"]:\n",
    "            # print(choice)\n",
    "            precinct[int(choice[\"ID\"])] = int(choice[\"VoteTotal\"])\n",
    "\n",
    "    df = pd.DataFrame(data)\n",
    "    df = df.rename(columns = {\"Precinct\" : \"precinct\", 101869 : \"R16\", 101870 : \"D16\"})\n",
    "    df = df[[\"precinct\", \"D16\", \"R16\"]]\n",
    "    df[\"county\"] = ci*2-1\n",
    "    df16.append(df)\n",
    "    \n",
    "# df16 = pd.concat(df16)\n",
    "# df16.replace({\"precinct\" : {\"Early Voting\" : \"EV\", \"Provisional Votes\" : \"PR\"}}, inplace = True)\n",
    "# df16[[\"county\", \"precinct\", \"D16\", \"R16\"]].to_csv(laf + \"la_votes_2016.csv\", index = False)"
   ]
  },
  {
   "cell_type": "code",
   "execution_count": 6,
   "metadata": {
    "collapsed": false
   },
   "outputs": [],
   "source": [
    "votes_12 = pd.read_csv(laf + \"la_votes_2012.csv\")\n",
    "votes_16 = pd.read_csv(laf + \"la_votes_2016.csv\")"
   ]
  },
  {
   "cell_type": "code",
   "execution_count": 7,
   "metadata": {
    "collapsed": true
   },
   "outputs": [],
   "source": [
    "def allocate_prov_abs_votes(votes, yr):\n",
    "    \n",
    "    D, R = \"D{}\".format(yr%100), \"R{}\".format(yr%100)\n",
    "\n",
    "    poll_mask = ~votes.precinct.str.contains(\"EV\") & ~votes.precinct.str.contains(\"PR\")\n",
    "    \n",
    "    poll_totals = votes[poll_mask].groupby(\"county\").sum()[[D, R]].reset_index()\\\n",
    "                                  .rename(columns = {D : D + \"_poll_tot\", R : R + \"_poll_tot\"})\\\n",
    "\n",
    "    alt_totals = votes[~poll_mask].groupby(\"county\").sum()[[D, R]].reset_index()\\\n",
    "                                  .rename(columns = {D : D + \"_alt_tot\", R : R + \"_alt_tot\"})\\\n",
    "                                          \n",
    "    votes = pd.merge(votes, poll_totals, on = \"county\", how = \"outer\")\n",
    "    votes = pd.merge(votes, alt_totals,  on = \"county\", how = \"outer\")\n",
    "    votes.fillna(0, inplace = True)\n",
    "\n",
    "    votes[D + \"_poll_frac\"], votes[R + \"_poll_frac\"] = 0, 0\n",
    "    votes.loc[poll_mask, D + \"_poll_frac\"] = 1. * votes.loc[poll_mask, D] / votes.loc[poll_mask, D + \"_poll_tot\"]\n",
    "    votes.loc[poll_mask, R + \"_poll_frac\"] = 1. * votes.loc[poll_mask, R] / votes.loc[poll_mask, R + \"_poll_tot\"]\n",
    "\n",
    "    votes.loc[poll_mask, D] += votes.loc[poll_mask, D + \"_alt_tot\"] * votes.loc[poll_mask, D + \"_poll_frac\"]\n",
    "    votes.loc[poll_mask, R] += votes.loc[poll_mask, R + \"_alt_tot\"] * votes.loc[poll_mask, R + \"_poll_frac\"]\n",
    "        \n",
    "    votes = votes.loc[poll_mask, [\"county\", \"precinct\", D, R]]\n",
    "            \n",
    "    return votes\n"
   ]
  },
  {
   "cell_type": "markdown",
   "metadata": {},
   "source": [
    "### Gruesome merging for 2012"
   ]
  },
  {
   "cell_type": "code",
   "execution_count": 8,
   "metadata": {
    "collapsed": false
   },
   "outputs": [],
   "source": [
    "votes_12 = pd.read_csv(laf + \"la_votes_2012.csv\")\n",
    "\n",
    "votes_12.loc[votes_12.county.isin([5, 7, 17, 33, 55, 57, 87, 89, 97, 109]), \"precinct\"] = votes_12.loc[votes_12.county.isin([5, 7, 17, 33, 55, 57, 87, 89, 97, 109]), \"precinct\"].str.replace(r\" [ABCYZJKLM]\", \"\")\n",
    "votes_12.loc[votes_12.county.isin([15]), \"precinct\"] = votes_12.loc[votes_12.county.isin([15]), \"precinct\"].str.replace(r\" -*[1-2]$\", r\"\")\n",
    "votes_12.loc[votes_12.county.isin([25, 43, 75, 89, 91, 99, 127]), \"precinct\"] = votes_12.loc[votes_12.county.isin([25, 43, 75, 89, 91, 99, 127]), \"precinct\"].str.replace(r\"/\", r\"/0\")\n",
    "votes_12.loc[votes_12.county.isin([29]), \"precinct\"] = votes_12.loc[votes_12.county.isin([29]), \"precinct\"].str.replace(r\"00/\", r\"0\").str.replace(r\"-\", r\"/0\").str.replace(r\"[24][AB]\", \"2\")\n",
    "votes_12.loc[votes_12.county.isin([67]), \"precinct\"] = votes_12.loc[votes_12.county.isin([67]), \"precinct\"].str.replace(r\"00/([0-9]{2})-([12])\", r\"\\1/0\\2\")\n",
    "votes_12.loc[votes_12.county.isin([79]), \"precinct\"] = votes_12.loc[votes_12.county.isin([79]), \"precinct\"].str.replace(r\" [AL][KZ]\", \"\")\n",
    "\n",
    "votes_12.loc[(votes_12.county == 3)   & (votes_12.precinct == \"02/02A\"), \"precinct\"] = \"02/02-A\"\n",
    "votes_12.loc[(votes_12.county == 113) & (votes_12.precinct == \"00/49B-2\"), \"precinct\"] = \"00/49B-1\"\n",
    "votes_12.loc[(votes_12.county == 121) & (votes_12.precinct == \"00/02A\"), \"precinct\"] = \"00/02B\"\n",
    "votes_12.loc[(votes_12.county == 121) & (votes_12.precinct == \"00/11B\"), \"precinct\"] = \"00/11A\"\n",
    "\n",
    "# votes_12.loc[votes_12.county == 105, \"precinct\"] = votes_12.loc[votes_12.county == 105, \"precinct\"].str.replace(r\"0(28|40|42|45|70|72)A\", r\"0\\1\")\n",
    "\n",
    "\n",
    "votes_12 = allocate_prov_abs_votes(votes_12, 2012)\n",
    "votes_12 = votes_12.groupby(by = [\"county\", \"precinct\"]).sum().reset_index()"
   ]
  },
  {
   "cell_type": "code",
   "execution_count": 9,
   "metadata": {
    "collapsed": false
   },
   "outputs": [],
   "source": [
    "geo_12 = gpd.read_file(laf + \"2012_LA_Precincts.shp\") # Had to re-save on the Mac to get field data.\n",
    "geo_12[\"county\"] = geo_12.COUNTY.astype(int)\n",
    "geo_12 = geo_12[[\"county\", \"UNIT_NAME\", \"VTD\", \"VTDI10\", \"UNITNUM\", \"geometry\"]].sort_values(by = \"VTD\")"
   ]
  },
  {
   "cell_type": "code",
   "execution_count": 10,
   "metadata": {
    "collapsed": false
   },
   "outputs": [],
   "source": [
    "geo_12[\"precinct\"] = geo_12[\"VTD\"].str.replace(r'^([0-9]{,3}[A-FNSW]{,1})$', r'0-\\1')\\\n",
    "                                  .str.replace(r'^([0-9]*)-([0-9]*)', r'0\\1/0\\2')\\\n",
    "                                  .str.replace(r'0([0-9]{2})', r'\\1')\n",
    "\n",
    "geo_12.loc[geo_12.county.isin([17, 33, 51, 55, 105, 109]), \"precinct\"] = geo_12.loc[geo_12.county.isin([17, 33, 51, 55, 105, 109]), \"precinct\"].str.replace(r'(0[0-5])/([0-9]{2}[AB]*)$', r'\\1/0\\2')\n",
    "geo_12.loc[geo_12.county.isin([23]), \"precinct\"] = geo_12.loc[geo_12.county.isin([23]), \"precinct\"].str.replace(r\"[EW]\", \"\")\n",
    "geo_12.loc[geo_12.county.isin([23]), \"precinct\"] = geo_12.loc[geo_12.county.isin([23]), \"precinct\"].str.replace(r\"12[NS]\", \"12\")\n",
    "\n",
    "\n",
    "geo_12.loc[geo_12.county == 39, \"precinct\"] = geo_12.loc[geo_12.county == 39, \"UNIT_NAME\"].str.replace(r\"Precinct ([0-9]{2})-([0-9]{4})\", r\"\\1/\\2\")\n",
    "geo_12.loc[geo_12.UNIT_NAME == \"Precinct 2010A\", \"precinct\"] = \"02/2010A\"\n",
    "geo_12.loc[geo_12.UNIT_NAME == \"Precinct 5010A\", \"precinct\"] = \"05/5010A\"\n",
    "\n",
    "geo_12.loc[geo_12.precinct.str.contains(r\"1{,1}[89][AB]I\"), \"precinct\"] = (\"00/0\" + geo_12.loc[geo_12.precinct.str.contains(r\"1{,1}[89][AB]I\"), \"precinct\"]).str.replace(r\"/0([0-9]{2}[AB])\", r\"/\\1\")\n",
    "geo_12.loc[(geo_12.county == 51) & geo_12.VTD.str.contains(r'[GHKLW]'), \"precinct\"] = geo_12.loc[(geo_12.county == 51) & geo_12.VTD.str.contains(r'[GHKLW]'), \"VTD\"].str.replace(r\"^([0-9])\", r\"00\\1\").str.replace(r\"^0*([0-9]{3})-([GIHKLW]{,2})\", r\"00/\\2\\1\")\n",
    "geo_12.loc[geo_12.county == 79, \"precinct\"] = geo_12.loc[geo_12.county == 79, \"VTD\"].str.replace(r\"^([CNS])\", r\"00/\\g<1>00\").str.replace(r\"^(00/[CNS])0*([0-9]{2})\", r\"\\1\\2\")\n",
    "geo_12.loc[geo_12.county == 85, \"precinct\"] = \"00/\" + geo_12.loc[geo_12.county == 85, \"VTD\"]\n",
    "\n",
    "geo_12.loc[(geo_12.county == 3)   & geo_12.precinct.str.contains(\"05/01-A\"), \"precinct\"] = \"05/01A\"\n",
    "geo_12.loc[(geo_12.county == 15)  & geo_12.precinct.str.contains(\"02/05B\"), \"precinct\"] = \"02/05\"\n",
    "geo_12.loc[(geo_12.county == 103) & geo_12.precinct.str.contains(r'[ACFMPS]'), \"precinct\"] = \"00/\" + geo_12.loc[(geo_12.county == 103) & geo_12.precinct.str.contains(r'[ACFMPS]'), \"precinct\"]\n",
    "geo_12.loc[(geo_12.county == 113) & geo_12.precinct.str.contains(r'-'), \"precinct\"] = (\"00/\" + geo_12.loc[(geo_12.county == 113) & geo_12.precinct.str.contains(r'-'), \"precinct\"]).str.replace(\"00/7A-1\", \"00/07A-1\")\n",
    "geo_12.loc[(geo_12.county == 113) & geo_12.precinct.str.contains(\"00/5A-1\"), \"precinct\"] = \"00/05A-1\"\n",
    "geo_12.loc[(geo_12.county == 119) & geo_12.precinct.str.contains(r'33I'), \"precinct\"] = \"00/\" + geo_12.loc[(geo_12.county == 119) & geo_12.precinct.str.contains(r'33I'), \"precinct\"]\n",
    "\n",
    "geo_12.sort_values(by = [\"county\", \"precinct\"], inplace = True)"
   ]
  },
  {
   "cell_type": "code",
   "execution_count": 11,
   "metadata": {
    "collapsed": false,
    "scrolled": false
   },
   "outputs": [
    {
     "data": {
      "text/html": [
       "<div>\n",
       "<style>\n",
       "    .dataframe thead tr:only-child th {\n",
       "        text-align: right;\n",
       "    }\n",
       "\n",
       "    .dataframe thead th {\n",
       "        text-align: left;\n",
       "    }\n",
       "\n",
       "    .dataframe tbody tr th {\n",
       "        vertical-align: top;\n",
       "    }\n",
       "</style>\n",
       "<table border=\"1\" class=\"dataframe\">\n",
       "  <thead>\n",
       "    <tr style=\"text-align: right;\">\n",
       "      <th></th>\n",
       "      <th>county</th>\n",
       "      <th>precinct</th>\n",
       "      <th>D12</th>\n",
       "      <th>R12</th>\n",
       "      <th>geometry</th>\n",
       "    </tr>\n",
       "  </thead>\n",
       "  <tbody>\n",
       "  </tbody>\n",
       "</table>\n",
       "</div>"
      ],
      "text/plain": [
       "Empty GeoDataFrame\n",
       "Columns: [county, precinct, D12, R12, geometry]\n",
       "Index: []"
      ]
     },
     "metadata": {},
     "output_type": "display_data"
    }
   ],
   "source": [
    "geo_votes_12 = geo_12.merge(votes_12, on = [\"county\", \"precinct\"], how = \"right\")[[\"county\", \"precinct\", \"D12\", \"R12\", \"geometry\"]]\n",
    "display(geo_votes_12.loc[(geo_votes_12.D12.isnull() | geo_votes_12.geometry.isnull()) & ~geo_votes_12.precinct.str.contains(\"Z\")])\n",
    "geo_votes_12.to_file(laf + \"la_geo_votes_12.shp\")"
   ]
  },
  {
   "cell_type": "markdown",
   "metadata": {},
   "source": [
    "### Gruesome merging for 2016"
   ]
  },
  {
   "cell_type": "code",
   "execution_count": 12,
   "metadata": {
    "collapsed": false
   },
   "outputs": [],
   "source": [
    "votes_16 = pd.read_csv(laf + \"la_votes_2016.csv\")\n",
    "\n",
    "votes_16.loc[votes_16.county.isin([5, 7, 17, 33, 55, 57, 89, 97, 109]), \"precinct\"] = votes_16.loc[votes_16.county.isin([5, 7, 17, 33, 55, 57, 89, 97, 109]), \"precinct\"].str.replace(r\" [ABCYZJKLM]\", \"\")\n",
    "votes_16.loc[votes_16.county.isin([15]), \"precinct\"] = votes_16.loc[votes_16.county.isin([15]), \"precinct\"].str.replace(r\" -[1-2]$\", r\"\")\n",
    "votes_16.loc[votes_16.county.isin([25, 43, 75, 89, 91, 127]), \"precinct\"] = votes_16.loc[votes_16.county.isin([25, 43, 75, 89, 91, 127]), \"precinct\"].str.replace(r\"/\", r\"/0\")\n",
    "votes_16.loc[votes_16.county.isin([29]), \"precinct\"] = votes_16.loc[votes_16.county.isin([29]), \"precinct\"].str.replace(r\"00/\", r\"0\").str.replace(r\"-\", r\"/0\")\n",
    "votes_16.loc[votes_16.county.isin([67]), \"precinct\"] = votes_16.loc[votes_16.county.isin([67]), \"precinct\"].str.replace(r\"00/([0-9]{2})-([12])\", r\"\\1/0\\2\")\n",
    "votes_16.loc[votes_16.county.isin([79]), \"precinct\"] = votes_16.loc[votes_16.county.isin([79]), \"precinct\"].str.replace(r\" [AL][KZ]\", \"\")\n",
    "\n",
    "votes_16.loc[(votes_16.county == 3)   & (votes_16.precinct == \"02/02A\"), \"precinct\"] = \"02/02-A\"\n",
    "votes_16.loc[(votes_16.county == 113) & (votes_16.precinct == \"00/49B-2\"), \"precinct\"] = \"00/49B-1\"\n",
    "votes_16.loc[(votes_16.county == 121) & (votes_16.precinct == \"00/02A\"), \"precinct\"] = \"00/02B\"\n",
    "votes_16.loc[(votes_16.county == 121) & (votes_16.precinct == \"00/11B\"), \"precinct\"] = \"00/11A\"\n",
    "\n",
    "# votes_16.loc[votes_16.county == 105, \"precinct\"] = votes_16.loc[votes_16.county == 105, \"precinct\"].str.replace(r\"0(28|40|42|45|70|72)A\", r\"0\\1\")\n",
    "\n",
    "\n",
    "votes_16 = allocate_prov_abs_votes(votes_16, 2016)\n",
    "votes_16 = votes_16.groupby(by = [\"county\", \"precinct\"]).sum().reset_index()"
   ]
  },
  {
   "cell_type": "code",
   "execution_count": 13,
   "metadata": {
    "collapsed": true
   },
   "outputs": [],
   "source": [
    "geo_16 = gpd.read_file(laf + \"LA_2016.shp\") # Had to re-save on the Mac to get field data.\n",
    "geo_16[\"county\"] = geo_16.COUNTY.astype(int)\n",
    "geo_16 = geo_16[[\"county\", \"ID\", \"UNIT_NAME\", \"VTD\", \"VTDI10\", \"UNITNUM\", \"geometry\"]].sort_values(by = \"VTD\")\n",
    "geo_16[\"precinct\"] = \"\""
   ]
  },
  {
   "cell_type": "code",
   "execution_count": 14,
   "metadata": {
    "collapsed": false
   },
   "outputs": [],
   "source": [
    "geo_16[\"precinct\"] = geo_16[\"VTD\"].str.replace(r'^([0-9]{,3}[A-FNSW]{,1})$', r'0-\\1')\\\n",
    "                                  .str.replace(r'^([0-9]*)-([0-9]*)', r'0\\1/0\\2')\\\n",
    "                                  .str.replace(r'0([0-9]{2})', r'\\1')\n",
    "\n",
    "geo_16.loc[geo_16.county.isin([17, 33, 51, 55, 105, 109]), \"precinct\"] = geo_16.loc[geo_16.county.isin([17, 33, 51, 55, 105, 109]), \"precinct\"].str.replace(r'(0[0-5])/([0-9]{2}[A]*)$', r'\\1/0\\2')\n",
    "\n",
    "geo_16.loc[geo_16.county == 39, \"precinct\"] = geo_16.loc[geo_16.county == 39, \"UNIT_NAME\"].str.replace(r\"Precinct ([0-9]{2})-([0-9]{4})\", r\"\\1/\\2\")\n",
    "geo_16.loc[geo_16.UNIT_NAME == \"Precinct 2010A\", \"precinct\"] = \"02/2010A\"\n",
    "\n",
    "geo_16.loc[(geo_16.county == 49) & (geo_16.precinct == \"19AI\"), \"precinct\"] = \"00/19AI\"\n",
    "geo_16.loc[(geo_16.county == 51) & geo_16.VTD.str.contains(r'[GHKLW]'), \"precinct\"] = geo_16.loc[(geo_16.county == 51) & geo_16.VTD.str.contains(r'[GHKLW]'), \"VTD\"].str.replace(r\"^([0-9])\", r\"00\\1\").str.replace(r\"^0*([0-9]{3})-([GIHKLW]{,2})\", r\"00/\\2\\1\")\n",
    "geo_16.loc[geo_16.county == 79, \"precinct\"] = geo_16.loc[geo_16.county == 79, \"VTD\"].str.replace(r\"^([CNS])\", r\"00/\\g<1>00\").str.replace(r\"^(00/[CNS])0*([0-9]{2})\", r\"\\1\\2\")\n",
    "geo_16.loc[geo_16.county == 85, \"precinct\"] = \"00/\" + geo_16.loc[geo_16.county == 85, \"VTD\"]\n",
    "geo_16.loc[(geo_16.county == 87) & (geo_16.precinct == \"00/58\"), \"precinct\"] = \"00/51\" # This the sole non-match.\n",
    "geo_16.loc[(geo_16.county == 103) & geo_16.precinct.str.contains(r'[ACFMPS]'), \"precinct\"] = \"00/\" + geo_16.loc[(geo_16.county == 103) & geo_16.precinct.str.contains(r'[ACFMPS]'), \"precinct\"]\n",
    "geo_16.loc[(geo_16.county == 113) & geo_16.precinct.str.contains(r'-'), \"precinct\"] = (\"00/\" + geo_16.loc[(geo_16.county == 113) & geo_16.precinct.str.contains(r'-'), \"precinct\"]).str.replace(\"00/7A-1\", \"00/07A-1\")\n",
    "\n",
    "geo_16.sort_values(by = [\"county\", \"precinct\"], inplace = True)"
   ]
  },
  {
   "cell_type": "code",
   "execution_count": 15,
   "metadata": {
    "collapsed": false,
    "scrolled": false
   },
   "outputs": [],
   "source": [
    "geo_votes_16 = geo_16.merge(votes_16, on = [\"county\", \"precinct\"], how = \"outer\")[[\"county\", \"precinct\", \"D16\", \"R16\", \"geometry\"]]\n",
    "geo_votes_16.to_file(laf + \"la_geo_votes_16.shp\")"
   ]
  },
  {
   "cell_type": "markdown",
   "metadata": {},
   "source": [
    "### For sanity, output these as pannable maps..."
   ]
  },
  {
   "cell_type": "code",
   "execution_count": 16,
   "metadata": {
    "collapsed": false
   },
   "outputs": [],
   "source": [
    "geo_votes_12[\"DFrac\"] = geo_votes_12.D12 / (geo_votes_12.D12 + geo_votes_12.R12)\n",
    "geo_votes_16[\"DFrac\"] = geo_votes_16.D16 / (geo_votes_16.D16 + geo_votes_16.R16)\n",
    "\n",
    "output_geojson(geo_votes_12, var = \"DFrac\", fname = \"mapped/la_2012.geojson\")\n",
    "output_geojson(geo_votes_16, var = \"DFrac\", fname = \"mapped/la_2016.geojson\")"
   ]
  },
  {
   "cell_type": "markdown",
   "metadata": {},
   "source": [
    "### Now merge them to census tracts."
   ]
  },
  {
   "cell_type": "code",
   "execution_count": 17,
   "metadata": {
    "collapsed": false
   },
   "outputs": [],
   "source": [
    "geo_votes_2012 = gpd.read_file(laf + \"la_geo_votes_12.shp\").to_crs(epsg = epsg)\n",
    "geo_votes_2016 = gpd.read_file(laf + \"la_geo_votes_16.shp\").to_crs(epsg = epsg)"
   ]
  },
  {
   "cell_type": "code",
   "execution_count": 18,
   "metadata": {
    "collapsed": false
   },
   "outputs": [],
   "source": [
    "query = \"\"\"SELECT rn, ST_Transform(tr.geom, epsg) geometry\n",
    "           FROM census_tracts_2015 AS tr\n",
    "           JOIN (SELECT state, county, tract, row_number() over \n",
    "                          (PARTITION BY state ORDER BY county, tract NULLS LAST) - 1 as rn\n",
    "                 FROM census_tracts_2015) rn ON\n",
    "                   tr.state  = rn.state  AND\n",
    "                   tr.county = rn.county AND\n",
    "                   tr.tract  = rn.tract\n",
    "           JOIN states AS st ON st.fips = tr.state\n",
    "           WHERE tr.state = {} ORDER BY rn;\n",
    "           \"\"\"\n",
    "\n",
    "con = psycopg2.connect(database = \"census\", user = user, password = passwd,\n",
    "                       host = \"saxon.harris.uchicago.edu\", port = 5432)\n",
    "\n",
    "tr_rn = gpd.GeoDataFrame.from_postgis(query.format(fips), con, geom_col = \"geometry\", crs = from_epsg(epsg))"
   ]
  },
  {
   "cell_type": "code",
   "execution_count": 19,
   "metadata": {
    "collapsed": false
   },
   "outputs": [
    {
     "data": {
      "text/plain": [
       "<matplotlib.axes._subplots.AxesSubplot at 0x7f9d46247ac8>"
      ]
     },
     "execution_count": 19,
     "metadata": {},
     "output_type": "execute_result"
    },
    {
     "data": {
      "image/png": "[encoded data removed]",
      "text/plain": [
       "<matplotlib.figure.Figure at 0x7f9d462b7c88>"
      ]
     },
     "metadata": {},
     "output_type": "display_data"
    }
   ],
   "source": [
    "ax = tr_rn.plot(color = \"blue\")\n",
    "geo_votes_2016.centroid.plot(color = \"red\", ax = ax, markersize = 1)"
   ]
  },
  {
   "cell_type": "code",
   "execution_count": 23,
   "metadata": {
    "collapsed": false
   },
   "outputs": [
    {
     "data": {
      "text/html": [
       "<div>\n",
       "<style>\n",
       "    .dataframe thead tr:only-child th {\n",
       "        text-align: right;\n",
       "    }\n",
       "\n",
       "    .dataframe thead th {\n",
       "        text-align: left;\n",
       "    }\n",
       "\n",
       "    .dataframe tbody tr th {\n",
       "        vertical-align: top;\n",
       "    }\n",
       "</style>\n",
       "<table border=\"1\" class=\"dataframe\">\n",
       "  <thead>\n",
       "    <tr style=\"text-align: right;\">\n",
       "      <th></th>\n",
       "      <th>D12</th>\n",
       "      <th>R12</th>\n",
       "      <th>D16</th>\n",
       "      <th>R16</th>\n",
       "    </tr>\n",
       "    <tr>\n",
       "      <th>rn</th>\n",
       "      <th></th>\n",
       "      <th></th>\n",
       "      <th></th>\n",
       "      <th></th>\n",
       "    </tr>\n",
       "  </thead>\n",
       "  <tbody>\n",
       "    <tr>\n",
       "      <th>0</th>\n",
       "      <td>1154.628422</td>\n",
       "      <td>2052.217373</td>\n",
       "      <td>951.303406</td>\n",
       "      <td>2236.665808</td>\n",
       "    </tr>\n",
       "    <tr>\n",
       "      <th>1</th>\n",
       "      <td>274.911529</td>\n",
       "      <td>2420.192857</td>\n",
       "      <td>228.163202</td>\n",
       "      <td>2816.926757</td>\n",
       "    </tr>\n",
       "    <tr>\n",
       "      <th>2</th>\n",
       "      <td>174.721550</td>\n",
       "      <td>1452.598305</td>\n",
       "      <td>162.083149</td>\n",
       "      <td>1612.268679</td>\n",
       "    </tr>\n",
       "    <tr>\n",
       "      <th>3</th>\n",
       "      <td>252.918607</td>\n",
       "      <td>2739.909262</td>\n",
       "      <td>258.086245</td>\n",
       "      <td>2910.391608</td>\n",
       "    </tr>\n",
       "    <tr>\n",
       "      <th>4</th>\n",
       "      <td>346.999441</td>\n",
       "      <td>2355.043099</td>\n",
       "      <td>319.179124</td>\n",
       "      <td>2739.039382</td>\n",
       "    </tr>\n",
       "    <tr>\n",
       "      <th>5</th>\n",
       "      <td>533.939281</td>\n",
       "      <td>1538.258172</td>\n",
       "      <td>476.275100</td>\n",
       "      <td>1596.691204</td>\n",
       "    </tr>\n",
       "    <tr>\n",
       "      <th>6</th>\n",
       "      <td>1114.308065</td>\n",
       "      <td>1201.651090</td>\n",
       "      <td>1024.864219</td>\n",
       "      <td>1259.179242</td>\n",
       "    </tr>\n",
       "    <tr>\n",
       "      <th>7</th>\n",
       "      <td>326.228348</td>\n",
       "      <td>1609.440315</td>\n",
       "      <td>386.505971</td>\n",
       "      <td>1468.177033</td>\n",
       "    </tr>\n",
       "    <tr>\n",
       "      <th>8</th>\n",
       "      <td>745.315701</td>\n",
       "      <td>745.602785</td>\n",
       "      <td>694.463954</td>\n",
       "      <td>586.751564</td>\n",
       "    </tr>\n",
       "    <tr>\n",
       "      <th>9</th>\n",
       "      <td>1210.832557</td>\n",
       "      <td>957.942736</td>\n",
       "      <td>856.547103</td>\n",
       "      <td>912.580420</td>\n",
       "    </tr>\n",
       "  </tbody>\n",
       "</table>\n",
       "</div>"
      ],
      "text/plain": [
       "            D12          R12          D16          R16\n",
       "rn                                                    \n",
       "0   1154.628422  2052.217373   951.303406  2236.665808\n",
       "1    274.911529  2420.192857   228.163202  2816.926757\n",
       "2    174.721550  1452.598305   162.083149  1612.268679\n",
       "3    252.918607  2739.909262   258.086245  2910.391608\n",
       "4    346.999441  2355.043099   319.179124  2739.039382\n",
       "5    533.939281  1538.258172   476.275100  1596.691204\n",
       "6   1114.308065  1201.651090  1024.864219  1259.179242\n",
       "7    326.228348  1609.440315   386.505971  1468.177033\n",
       "8    745.315701   745.602785   694.463954   586.751564\n",
       "9   1210.832557   957.942736   856.547103   912.580420"
      ]
     },
     "execution_count": 23,
     "metadata": {},
     "output_type": "execute_result"
    }
   ],
   "source": [
    "tr_votes_2012 = merge_tract_number(tr_rn, geo_votes_2012)[[\"D12\", \"R12\"]]\n",
    "tr_votes_2016 = merge_tract_number(tr_rn, geo_votes_2016)[[\"D16\", \"R16\"]]\n",
    "\n",
    "la_votes = tr_votes_2012.join(tr_votes_2016).fillna(0).astype(float)\n",
    "\n",
    "la_votes.to_csv(\"votes/la.csv\")\n",
    "la_votes.head(10)"
   ]
  },
  {
   "cell_type": "code",
   "execution_count": 24,
   "metadata": {
    "collapsed": false
   },
   "outputs": [
    {
     "data": {
      "text/html": [
       "<div>\n",
       "<style>\n",
       "    .dataframe thead tr:only-child th {\n",
       "        text-align: right;\n",
       "    }\n",
       "\n",
       "    .dataframe thead th {\n",
       "        text-align: left;\n",
       "    }\n",
       "\n",
       "    .dataframe tbody tr th {\n",
       "        vertical-align: top;\n",
       "    }\n",
       "</style>\n",
       "<table border=\"1\" class=\"dataframe\">\n",
       "  <thead>\n",
       "    <tr style=\"text-align: right;\">\n",
       "      <th></th>\n",
       "      <th>rn</th>\n",
       "      <th>D12</th>\n",
       "      <th>R12</th>\n",
       "      <th>D16</th>\n",
       "      <th>R16</th>\n",
       "    </tr>\n",
       "  </thead>\n",
       "  <tbody>\n",
       "    <tr>\n",
       "      <th>0</th>\n",
       "      <td>0</td>\n",
       "      <td>1154.628422</td>\n",
       "      <td>2052.217373</td>\n",
       "      <td>951.303406</td>\n",
       "      <td>2236.665808</td>\n",
       "    </tr>\n",
       "    <tr>\n",
       "      <th>1</th>\n",
       "      <td>1</td>\n",
       "      <td>274.911529</td>\n",
       "      <td>2420.192857</td>\n",
       "      <td>228.163202</td>\n",
       "      <td>2816.926757</td>\n",
       "    </tr>\n",
       "    <tr>\n",
       "      <th>2</th>\n",
       "      <td>2</td>\n",
       "      <td>174.721550</td>\n",
       "      <td>1452.598305</td>\n",
       "      <td>162.083149</td>\n",
       "      <td>1612.268679</td>\n",
       "    </tr>\n",
       "    <tr>\n",
       "      <th>3</th>\n",
       "      <td>3</td>\n",
       "      <td>252.918607</td>\n",
       "      <td>2739.909262</td>\n",
       "      <td>258.086245</td>\n",
       "      <td>2910.391608</td>\n",
       "    </tr>\n",
       "    <tr>\n",
       "      <th>4</th>\n",
       "      <td>4</td>\n",
       "      <td>346.999441</td>\n",
       "      <td>2355.043099</td>\n",
       "      <td>319.179124</td>\n",
       "      <td>2739.039382</td>\n",
       "    </tr>\n",
       "    <tr>\n",
       "      <th>5</th>\n",
       "      <td>5</td>\n",
       "      <td>533.939281</td>\n",
       "      <td>1538.258172</td>\n",
       "      <td>476.275100</td>\n",
       "      <td>1596.691204</td>\n",
       "    </tr>\n",
       "    <tr>\n",
       "      <th>6</th>\n",
       "      <td>6</td>\n",
       "      <td>1114.308065</td>\n",
       "      <td>1201.651090</td>\n",
       "      <td>1024.864219</td>\n",
       "      <td>1259.179242</td>\n",
       "    </tr>\n",
       "    <tr>\n",
       "      <th>7</th>\n",
       "      <td>7</td>\n",
       "      <td>326.228348</td>\n",
       "      <td>1609.440315</td>\n",
       "      <td>386.505971</td>\n",
       "      <td>1468.177033</td>\n",
       "    </tr>\n",
       "    <tr>\n",
       "      <th>8</th>\n",
       "      <td>8</td>\n",
       "      <td>745.315701</td>\n",
       "      <td>745.602785</td>\n",
       "      <td>694.463954</td>\n",
       "      <td>586.751564</td>\n",
       "    </tr>\n",
       "    <tr>\n",
       "      <th>9</th>\n",
       "      <td>9</td>\n",
       "      <td>1210.832557</td>\n",
       "      <td>957.942736</td>\n",
       "      <td>856.547103</td>\n",
       "      <td>912.580420</td>\n",
       "    </tr>\n",
       "  </tbody>\n",
       "</table>\n",
       "</div>"
      ],
      "text/plain": [
       "   rn          D12          R12          D16          R16\n",
       "0   0  1154.628422  2052.217373   951.303406  2236.665808\n",
       "1   1   274.911529  2420.192857   228.163202  2816.926757\n",
       "2   2   174.721550  1452.598305   162.083149  1612.268679\n",
       "3   3   252.918607  2739.909262   258.086245  2910.391608\n",
       "4   4   346.999441  2355.043099   319.179124  2739.039382\n",
       "5   5   533.939281  1538.258172   476.275100  1596.691204\n",
       "6   6  1114.308065  1201.651090  1024.864219  1259.179242\n",
       "7   7   326.228348  1609.440315   386.505971  1468.177033\n",
       "8   8   745.315701   745.602785   694.463954   586.751564\n",
       "9   9  1210.832557   957.942736   856.547103   912.580420"
      ]
     },
     "execution_count": 24,
     "metadata": {},
     "output_type": "execute_result"
    }
   ],
   "source": [
    "pd.read_csv(\"votes/la.csv\").head(10)"
   ]
  },
  {
   "cell_type": "code",
   "execution_count": null,
   "metadata": {
    "collapsed": true
   },
   "outputs": [],
   "source": []
  }
 ],
 "metadata": {
  "anaconda-cloud": {},
  "kernelspec": {
   "display_name": "Python [conda root]",
   "language": "python",
   "name": "conda-root-py"
  },
  "language_info": {
   "codemirror_mode": {
    "name": "ipython",
    "version": 3
   },
   "file_extension": ".py",
   "mimetype": "text/x-python",
   "name": "python",
   "nbconvert_exporter": "python",
   "pygments_lexer": "ipython3",
   "version": "3.5.2"
  }
 },
 "nbformat": 4,
 "nbformat_minor": 2
}
