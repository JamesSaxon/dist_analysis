{
 "cells": [
  {
   "cell_type": "code",
   "execution_count": 1,
   "metadata": {
    "collapsed": false,
    "deletable": true,
    "editable": true
   },
   "outputs": [],
   "source": [
    "import pandas as pd\n",
    "import geopandas as gpd\n",
    "from IPython.display import display\n",
    "\n",
    "import requests\n",
    "\n",
    "import psycopg2\n",
    "from netrc import netrc\n",
    "from fiona.crs import from_epsg\n",
    "\n",
    "user, acct, passwd = netrc().authenticators(\"harris\")\n",
    "\n",
    "%matplotlib inline\n",
    "pd.options.display.max_columns = 1000\n",
    "pd.options.display.max_rows = 10000\n",
    "\n",
    "fips, epsg = 22, 3552\n",
    "laf = \"/media/jsaxon/brobdingnag/data/el_dv/la_site/\""
   ]
  },
  {
   "cell_type": "code",
   "execution_count": 2,
   "metadata": {
    "collapsed": false
   },
   "outputs": [
    {
     "name": "stdout",
     "output_type": "stream",
     "text": [
      "2012_LA_Precincts.dbf\t\t       LA_2016.cpg\t    la_geo_votes_16.shp\r\n",
      "2012_LA_Precincts.prj\t\t       LA_2016.dbf\t    la_geo_votes_16.shx\r\n",
      "2012_LA_Precincts.sbn\t\t       LA_2016.prj\t    la_geo_votes.cpg\r\n",
      "2012_LA_Precincts.sbx\t\t       LA_2016.shp\t    la_geo_votes.dbf\r\n",
      "2012_LA_Precincts.shp\t\t       LA_2016.shx\t    la_geo_votes.prj\r\n",
      "2012_LA_Precincts.shp.xml\t       la_geo_votes_12.cpg  la_geo_votes.shp\r\n",
      "2012_LA_Precincts.shx\t\t       la_geo_votes_12.dbf  la_geo_votes.shx\r\n",
      "2012 Louisiana Precinct Shapefile.zip  la_geo_votes_12.prj  la.qgs\r\n",
      "2016_LA_PRECINCTS.DBF\t\t       la_geo_votes_12.shp  la_votes_2012.csv\r\n",
      "2016_LA_Precincts.prj\t\t       la_geo_votes_12.shx  la_votes_2016.csv\r\n",
      "2016_LA_Precincts.shp\t\t       la_geo_votes_16.cpg  sources.txt\r\n",
      "2016_LA_Precincts.shx\t\t       la_geo_votes_16.dbf\r\n",
      "2016_LouisianaPrecinctShapefile.zip    la_geo_votes_16.prj\r\n"
     ]
    }
   ],
   "source": [
    "! ls /media/jsaxon/brobdingnag/data/el_dv/la_site/"
   ]
  },
  {
   "cell_type": "code",
   "execution_count": 3,
   "metadata": {
    "collapsed": false
   },
   "outputs": [
    {
     "name": "stdout",
     "output_type": "stream",
     "text": [
      "https://voterportal.sos.la.gov/static/#/\r\n",
      "https://voterportal.sos.la.gov/static/#/2016-11-08/resultsRegion/53898/01\r\n",
      "\r\n",
      ">> Get JSON here, by county (1-64)\r\n",
      "https://voterportal.sos.la.gov/ElectionResults/ElectionResults/Data?blob=20161108/VotesRaceByPrecinct/Votes_53898_01.htm\r\n",
      "\r\n",
      "http://house.louisiana.gov/H_Redistricting2011/default_LouisianaPrecinctShapefiles.htm\r\n"
     ]
    }
   ],
   "source": [
    "! cat /media/jsaxon/brobdingnag/data/el_dv/la_site/sources.txt"
   ]
  },
  {
   "cell_type": "code",
   "execution_count": 4,
   "metadata": {
    "collapsed": false
   },
   "outputs": [],
   "source": [
    "addr12 = \"https://voterportal.sos.la.gov/ElectionResults/ElectionResults/Data?blob=20121106/VotesRaceByPrecinct/Votes_46257_{:02d}.htm\"\n",
    "\n",
    "df12 = []\n",
    "for ci in []: # range(1, 65):\n",
    "\n",
    "    js = requests.get(addr12.format(ci)).json()\n",
    "\n",
    "    data = js[\"Precincts\"][\"Precinct\"]\n",
    "    for precinct in data:\n",
    "        for choice in precinct[\"Choice\"]:\n",
    "            precinct[int(choice[\"ID\"])] = int(choice[\"VoteTotal\"])\n",
    "\n",
    "    df = pd.DataFrame(data)\n",
    "    df = df.rename(columns = {\"Precinct\" : \"precinct\", 90532 : \"R12\", 90536 : \"D12\"})\n",
    "    df = df[[\"precinct\", \"D12\", \"R12\"]]\n",
    "    df[\"county\"] = ci*2-1\n",
    "    df12.append(df)\n",
    "    \n",
    "# df12 = pd.concat(df12)\n",
    "# df12.replace({\"precinct\" : {\"Early Voting\" : \"EV\", \"Provisional Votes\" : \"PR\"}}, inplace = True)\n",
    "# df12[[\"county\", \"precinct\", \"D12\", \"R12\"]].to_csv(laf + \"la_votes_2012.csv\", index = False)"
   ]
  },
  {
   "cell_type": "code",
   "execution_count": 5,
   "metadata": {
    "collapsed": false
   },
   "outputs": [],
   "source": [
    "addr16 = \"https://voterportal.sos.la.gov/ElectionResults/ElectionResults/Data?blob=20161108/VotesRaceByPrecinct/Votes_53898_{:02d}.htm\"\n",
    "\n",
    "df16 = []\n",
    "for ci in []: # range(1, 65):\n",
    "\n",
    "    js = requests.get(addr16.format(ci)).json()\n",
    "\n",
    "    data = js[\"Precincts\"][\"Precinct\"]\n",
    "    for precinct in data:\n",
    "        for choice in precinct[\"Choice\"]:\n",
    "            # print(choice)\n",
    "            precinct[int(choice[\"ID\"])] = int(choice[\"VoteTotal\"])\n",
    "\n",
    "    df = pd.DataFrame(data)\n",
    "    df = df.rename(columns = {\"Precinct\" : \"precinct\", 101869 : \"R16\", 101870 : \"D16\"})\n",
    "    df = df[[\"precinct\", \"D16\", \"R16\"]]\n",
    "    df[\"county\"] = ci*2-1\n",
    "    df16.append(df)\n",
    "    \n",
    "# df16 = pd.concat(df16)\n",
    "# df16.replace({\"precinct\" : {\"Early Voting\" : \"EV\", \"Provisional Votes\" : \"PR\"}}, inplace = True)\n",
    "# df16[[\"county\", \"precinct\", \"D16\", \"R16\"]].to_csv(laf + \"la_votes_2016.csv\", index = False)"
   ]
  },
  {
   "cell_type": "code",
   "execution_count": 6,
   "metadata": {
    "collapsed": false
   },
   "outputs": [],
   "source": [
    "votes_12 = pd.read_csv(laf + \"la_votes_2012.csv\")\n",
    "votes_16 = pd.read_csv(laf + \"la_votes_2016.csv\")"
   ]
  },
  {
   "cell_type": "code",
   "execution_count": 7,
   "metadata": {
    "collapsed": true
   },
   "outputs": [],
   "source": [
    "def allocate_prov_abs_votes(votes, yr):\n",
    "    \n",
    "    D, R = \"D{}\".format(yr%100), \"R{}\".format(yr%100)\n",
    "\n",
    "    poll_mask = ~votes.precinct.str.contains(\"EV\") & ~votes.precinct.str.contains(\"PR\")\n",
    "    \n",
    "    poll_totals = votes[poll_mask].groupby(\"county\").sum()[[D, R]].reset_index()\\\n",
    "                                  .rename(columns = {D : D + \"_poll_tot\", R : R + \"_poll_tot\"})\\\n",
    "\n",
    "    alt_totals = votes[~poll_mask].groupby(\"county\").sum()[[D, R]].reset_index()\\\n",
    "                                  .rename(columns = {D : D + \"_alt_tot\", R : R + \"_alt_tot\"})\\\n",
    "                                          \n",
    "    votes = pd.merge(votes, poll_totals, on = \"county\", how = \"outer\")\n",
    "    votes = pd.merge(votes, alt_totals,  on = \"county\", how = \"outer\")\n",
    "    votes.fillna(0, inplace = True)\n",
    "\n",
    "    votes[D + \"_poll_frac\"], votes[R + \"_poll_frac\"] = 0, 0\n",
    "    votes.loc[poll_mask, D + \"_poll_frac\"] = 1. * votes.loc[poll_mask, D] / votes.loc[poll_mask, D + \"_poll_tot\"]\n",
    "    votes.loc[poll_mask, R + \"_poll_frac\"] = 1. * votes.loc[poll_mask, R] / votes.loc[poll_mask, R + \"_poll_tot\"]\n",
    "\n",
    "    votes.loc[poll_mask, D] += votes.loc[poll_mask, D + \"_alt_tot\"] * votes.loc[poll_mask, D + \"_poll_frac\"]\n",
    "    votes.loc[poll_mask, R] += votes.loc[poll_mask, R + \"_alt_tot\"] * votes.loc[poll_mask, R + \"_poll_frac\"]\n",
    "        \n",
    "    votes = votes.loc[poll_mask, [\"county\", \"precinct\", D, R]]\n",
    "            \n",
    "    return votes\n"
   ]
  },
  {
   "cell_type": "markdown",
   "metadata": {},
   "source": [
    "### Gruesome merging for 2012"
   ]
  },
  {
   "cell_type": "code",
   "execution_count": 8,
   "metadata": {
    "collapsed": false
   },
   "outputs": [],
   "source": [
    "votes_12 = pd.read_csv(laf + \"la_votes_2012.csv\")\n",
    "\n",
    "votes_12.loc[votes_12.county.isin([5, 7, 17, 33, 55, 57, 87, 89, 97, 109]), \"precinct\"] = votes_12.loc[votes_12.county.isin([5, 7, 17, 33, 55, 57, 87, 89, 97, 109]), \"precinct\"].str.replace(r\" [ABCYZJKLM]\", \"\")\n",
    "votes_12.loc[votes_12.county.isin([15]), \"precinct\"] = votes_12.loc[votes_12.county.isin([15]), \"precinct\"].str.replace(r\" -*[1-2]$\", r\"\")\n",
    "votes_12.loc[votes_12.county.isin([25, 43, 75, 89, 91, 99, 127]), \"precinct\"] = votes_12.loc[votes_12.county.isin([25, 43, 75, 89, 91, 99, 127]), \"precinct\"].str.replace(r\"/\", r\"/0\")\n",
    "votes_12.loc[votes_12.county.isin([29]), \"precinct\"] = votes_12.loc[votes_12.county.isin([29]), \"precinct\"].str.replace(r\"00/\", r\"0\").str.replace(r\"-\", r\"/0\").str.replace(r\"[24][AB]\", \"2\")\n",
    "votes_12.loc[votes_12.county.isin([67]), \"precinct\"] = votes_12.loc[votes_12.county.isin([67]), \"precinct\"].str.replace(r\"00/([0-9]{2})-([12])\", r\"\\1/0\\2\")\n",
    "votes_12.loc[votes_12.county.isin([79]), \"precinct\"] = votes_12.loc[votes_12.county.isin([79]), \"precinct\"].str.replace(r\" [AL][KZ]\", \"\")\n",
    "\n",
    "votes_12.loc[(votes_12.county == 3)   & (votes_12.precinct == \"02/02A\"), \"precinct\"] = \"02/02-A\"\n",
    "votes_12.loc[(votes_12.county == 113) & (votes_12.precinct == \"00/49B-2\"), \"precinct\"] = \"00/49B-1\"\n",
    "votes_12.loc[(votes_12.county == 121) & (votes_12.precinct == \"00/02A\"), \"precinct\"] = \"00/02B\"\n",
    "votes_12.loc[(votes_12.county == 121) & (votes_12.precinct == \"00/11B\"), \"precinct\"] = \"00/11A\"\n",
    "\n",
    "# votes_12.loc[votes_12.county == 105, \"precinct\"] = votes_12.loc[votes_12.county == 105, \"precinct\"].str.replace(r\"0(28|40|42|45|70|72)A\", r\"0\\1\")\n",
    "\n",
    "\n",
    "votes_12 = allocate_prov_abs_votes(votes_12, 2012)\n",
    "votes_12 = votes_12.groupby(by = [\"county\", \"precinct\"]).sum().reset_index()"
   ]
  },
  {
   "cell_type": "code",
   "execution_count": 9,
   "metadata": {
    "collapsed": false
   },
   "outputs": [],
   "source": [
    "geo_12 = gpd.read_file(laf + \"2012_LA_Precincts.shp\") # Had to re-save on the Mac to get field data.\n",
    "geo_12[\"county\"] = geo_12.COUNTY.astype(int)\n",
    "geo_12 = geo_12[[\"county\", \"UNIT_NAME\", \"VTD\", \"VTDI10\", \"UNITNUM\", \"geometry\"]].sort_values(by = \"VTD\")"
   ]
  },
  {
   "cell_type": "code",
   "execution_count": 10,
   "metadata": {
    "collapsed": false
   },
   "outputs": [],
   "source": [
    "geo_12[\"precinct\"] = geo_12[\"VTD\"].str.replace(r'^([0-9]{,3}[A-FNSW]{,1})$', r'0-\\1')\\\n",
    "                                  .str.replace(r'^([0-9]*)-([0-9]*)', r'0\\1/0\\2')\\\n",
    "                                  .str.replace(r'0([0-9]{2})', r'\\1')\n",
    "\n",
    "geo_12.loc[geo_12.county.isin([17, 33, 51, 55, 105, 109]), \"precinct\"] = geo_12.loc[geo_12.county.isin([17, 33, 51, 55, 105, 109]), \"precinct\"].str.replace(r'(0[0-5])/([0-9]{2}[AB]*)$', r'\\1/0\\2')\n",
    "geo_12.loc[geo_12.county.isin([23]), \"precinct\"] = geo_12.loc[geo_12.county.isin([23]), \"precinct\"].str.replace(r\"[EW]\", \"\")\n",
    "geo_12.loc[geo_12.county.isin([23]), \"precinct\"] = geo_12.loc[geo_12.county.isin([23]), \"precinct\"].str.replace(r\"12[NS]\", \"12\")\n",
    "\n",
    "\n",
    "geo_12.loc[geo_12.county == 39, \"precinct\"] = geo_12.loc[geo_12.county == 39, \"UNIT_NAME\"].str.replace(r\"Precinct ([0-9]{2})-([0-9]{4})\", r\"\\1/\\2\")\n",
    "geo_12.loc[geo_12.UNIT_NAME == \"Precinct 2010A\", \"precinct\"] = \"02/2010A\"\n",
    "geo_12.loc[geo_12.UNIT_NAME == \"Precinct 5010A\", \"precinct\"] = \"05/5010A\"\n",
    "\n",
    "geo_12.loc[geo_12.precinct.str.contains(r\"1{,1}[89][AB]I\"), \"precinct\"] = (\"00/0\" + geo_12.loc[geo_12.precinct.str.contains(r\"1{,1}[89][AB]I\"), \"precinct\"]).str.replace(r\"/0([0-9]{2}[AB])\", r\"/\\1\")\n",
    "geo_12.loc[(geo_12.county == 51) & geo_12.VTD.str.contains(r'[GHKLW]'), \"precinct\"] = geo_12.loc[(geo_12.county == 51) & geo_12.VTD.str.contains(r'[GHKLW]'), \"VTD\"].str.replace(r\"^([0-9])\", r\"00\\1\").str.replace(r\"^0*([0-9]{3})-([GIHKLW]{,2})\", r\"00/\\2\\1\")\n",
    "geo_12.loc[geo_12.county == 79, \"precinct\"] = geo_12.loc[geo_12.county == 79, \"VTD\"].str.replace(r\"^([CNS])\", r\"00/\\g<1>00\").str.replace(r\"^(00/[CNS])0*([0-9]{2})\", r\"\\1\\2\")\n",
    "geo_12.loc[geo_12.county == 85, \"precinct\"] = \"00/\" + geo_12.loc[geo_12.county == 85, \"VTD\"]\n",
    "\n",
    "geo_12.loc[(geo_12.county == 3)   & geo_12.precinct.str.contains(\"05/01-A\"), \"precinct\"] = \"05/01A\"\n",
    "geo_12.loc[(geo_12.county == 15)  & geo_12.precinct.str.contains(\"02/05B\"), \"precinct\"] = \"02/05\"\n",
    "geo_12.loc[(geo_12.county == 103) & geo_12.precinct.str.contains(r'[ACFMPS]'), \"precinct\"] = \"00/\" + geo_12.loc[(geo_12.county == 103) & geo_12.precinct.str.contains(r'[ACFMPS]'), \"precinct\"]\n",
    "geo_12.loc[(geo_12.county == 113) & geo_12.precinct.str.contains(r'-'), \"precinct\"] = (\"00/\" + geo_12.loc[(geo_12.county == 113) & geo_12.precinct.str.contains(r'-'), \"precinct\"]).str.replace(\"00/7A-1\", \"00/07A-1\")\n",
    "geo_12.loc[(geo_12.county == 113) & geo_12.precinct.str.contains(\"00/5A-1\"), \"precinct\"] = \"00/05A-1\"\n",
    "geo_12.loc[(geo_12.county == 119) & geo_12.precinct.str.contains(r'33I'), \"precinct\"] = \"00/\" + geo_12.loc[(geo_12.county == 119) & geo_12.precinct.str.contains(r'33I'), \"precinct\"]\n",
    "\n",
    "geo_12.sort_values(by = [\"county\", \"precinct\"], inplace = True)"
   ]
  },
  {
   "cell_type": "code",
   "execution_count": 11,
   "metadata": {
    "collapsed": false,
    "scrolled": false
   },
   "outputs": [
    {
     "data": {
      "text/html": [
       "<div>\n",
       "<table border=\"1\" class=\"dataframe\">\n",
       "  <thead>\n",
       "    <tr style=\"text-align: right;\">\n",
       "      <th></th>\n",
       "      <th>county</th>\n",
       "      <th>precinct</th>\n",
       "      <th>D12</th>\n",
       "      <th>R12</th>\n",
       "      <th>geometry</th>\n",
       "    </tr>\n",
       "  </thead>\n",
       "  <tbody>\n",
       "  </tbody>\n",
       "</table>\n",
       "</div>"
      ],
      "text/plain": [
       "Empty GeoDataFrame\n",
       "Columns: [county, precinct, D12, R12, geometry]\n",
       "Index: []"
      ]
     },
     "metadata": {},
     "output_type": "display_data"
    }
   ],
   "source": [
    "geo_votes_12 = geo_12.merge(votes_12, on = [\"county\", \"precinct\"], how = \"right\")[[\"county\", \"precinct\", \"D12\", \"R12\", \"geometry\"]]\n",
    "display(geo_votes_12.loc[(geo_votes_12.D12.isnull() | geo_votes_12.geometry.isnull()) & ~geo_votes_12.precinct.str.contains(\"Z\")])\n",
    "geo_votes_12.to_file(laf + \"la_geo_votes_12.shp\")"
   ]
  },
  {
   "cell_type": "markdown",
   "metadata": {},
   "source": [
    "### Gruesome merging for 2016"
   ]
  },
  {
   "cell_type": "code",
   "execution_count": 13,
   "metadata": {
    "collapsed": false
   },
   "outputs": [],
   "source": [
    "votes_16 = pd.read_csv(laf + \"la_votes_2016.csv\")\n",
    "\n",
    "votes_16.loc[votes_16.county.isin([5, 7, 17, 33, 55, 57, 89, 97, 109]), \"precinct\"] = votes_16.loc[votes_16.county.isin([5, 7, 17, 33, 55, 57, 89, 97, 109]), \"precinct\"].str.replace(r\" [ABCYZJKLM]\", \"\")\n",
    "votes_16.loc[votes_16.county.isin([15]), \"precinct\"] = votes_16.loc[votes_16.county.isin([15]), \"precinct\"].str.replace(r\" -[1-2]$\", r\"\")\n",
    "votes_16.loc[votes_16.county.isin([25, 43, 75, 89, 91, 127]), \"precinct\"] = votes_16.loc[votes_16.county.isin([25, 43, 75, 89, 91, 127]), \"precinct\"].str.replace(r\"/\", r\"/0\")\n",
    "votes_16.loc[votes_16.county.isin([29]), \"precinct\"] = votes_16.loc[votes_16.county.isin([29]), \"precinct\"].str.replace(r\"00/\", r\"0\").str.replace(r\"-\", r\"/0\")\n",
    "votes_16.loc[votes_16.county.isin([67]), \"precinct\"] = votes_16.loc[votes_16.county.isin([67]), \"precinct\"].str.replace(r\"00/([0-9]{2})-([12])\", r\"\\1/0\\2\")\n",
    "votes_16.loc[votes_16.county.isin([79]), \"precinct\"] = votes_16.loc[votes_16.county.isin([79]), \"precinct\"].str.replace(r\" [AL][KZ]\", \"\")\n",
    "\n",
    "votes_16.loc[(votes_16.county == 3)   & (votes_16.precinct == \"02/02A\"), \"precinct\"] = \"02/02-A\"\n",
    "votes_16.loc[(votes_16.county == 113) & (votes_16.precinct == \"00/49B-2\"), \"precinct\"] = \"00/49B-1\"\n",
    "votes_16.loc[(votes_16.county == 121) & (votes_16.precinct == \"00/02A\"), \"precinct\"] = \"00/02B\"\n",
    "votes_16.loc[(votes_16.county == 121) & (votes_16.precinct == \"00/11B\"), \"precinct\"] = \"00/11A\"\n",
    "\n",
    "# votes_16.loc[votes_16.county == 105, \"precinct\"] = votes_16.loc[votes_16.county == 105, \"precinct\"].str.replace(r\"0(28|40|42|45|70|72)A\", r\"0\\1\")\n",
    "\n",
    "\n",
    "votes_16 = allocate_prov_abs_votes(votes_16, 2016)\n",
    "votes_16 = votes_16.groupby(by = [\"county\", \"precinct\"]).sum().reset_index()"
   ]
  },
  {
   "cell_type": "code",
   "execution_count": 14,
   "metadata": {
    "collapsed": true
   },
   "outputs": [],
   "source": [
    "geo_16 = gpd.read_file(laf + \"LA_2016.shp\") # Had to re-save on the Mac to get field data.\n",
    "geo_16[\"county\"] = geo_16.COUNTY.astype(int)\n",
    "geo_16 = geo_16[[\"county\", \"ID\", \"UNIT_NAME\", \"VTD\", \"VTDI10\", \"UNITNUM\", \"geometry\"]].sort_values(by = \"VTD\")\n",
    "geo_16[\"precinct\"] = \"\""
   ]
  },
  {
   "cell_type": "code",
   "execution_count": 15,
   "metadata": {
    "collapsed": false
   },
   "outputs": [],
   "source": [
    "geo_16[\"precinct\"] = geo_16[\"VTD\"].str.replace(r'^([0-9]{,3}[A-FNSW]{,1})$', r'0-\\1')\\\n",
    "                                  .str.replace(r'^([0-9]*)-([0-9]*)', r'0\\1/0\\2')\\\n",
    "                                  .str.replace(r'0([0-9]{2})', r'\\1')\n",
    "\n",
    "geo_16.loc[geo_16.county.isin([17, 33, 51, 55, 105, 109]), \"precinct\"] = geo_16.loc[geo_16.county.isin([17, 33, 51, 55, 105, 109]), \"precinct\"].str.replace(r'(0[0-5])/([0-9]{2}[A]*)$', r'\\1/0\\2')\n",
    "\n",
    "geo_16.loc[geo_16.county == 39, \"precinct\"] = geo_16.loc[geo_16.county == 39, \"UNIT_NAME\"].str.replace(r\"Precinct ([0-9]{2})-([0-9]{4})\", r\"\\1/\\2\")\n",
    "geo_16.loc[geo_16.UNIT_NAME == \"Precinct 2010A\", \"precinct\"] = \"02/2010A\"\n",
    "\n",
    "geo_16.loc[(geo_16.county == 49) & (geo_16.precinct == \"19AI\"), \"precinct\"] = \"00/19AI\"\n",
    "geo_16.loc[(geo_16.county == 51) & geo_16.VTD.str.contains(r'[GHKLW]'), \"precinct\"] = geo_16.loc[(geo_16.county == 51) & geo_16.VTD.str.contains(r'[GHKLW]'), \"VTD\"].str.replace(r\"^([0-9])\", r\"00\\1\").str.replace(r\"^0*([0-9]{3})-([GIHKLW]{,2})\", r\"00/\\2\\1\")\n",
    "geo_16.loc[geo_16.county == 79, \"precinct\"] = geo_16.loc[geo_16.county == 79, \"VTD\"].str.replace(r\"^([CNS])\", r\"00/\\g<1>00\").str.replace(r\"^(00/[CNS])0*([0-9]{2})\", r\"\\1\\2\")\n",
    "geo_16.loc[geo_16.county == 85, \"precinct\"] = \"00/\" + geo_16.loc[geo_16.county == 85, \"VTD\"]\n",
    "geo_16.loc[(geo_16.county == 87) & (geo_16.precinct == \"00/58\"), \"precinct\"] = \"00/51\" # This the sole non-match.\n",
    "geo_16.loc[(geo_16.county == 103) & geo_16.precinct.str.contains(r'[ACFMPS]'), \"precinct\"] = \"00/\" + geo_16.loc[(geo_16.county == 103) & geo_16.precinct.str.contains(r'[ACFMPS]'), \"precinct\"]\n",
    "geo_16.loc[(geo_16.county == 113) & geo_16.precinct.str.contains(r'-'), \"precinct\"] = (\"00/\" + geo_16.loc[(geo_16.county == 113) & geo_16.precinct.str.contains(r'-'), \"precinct\"]).str.replace(\"00/7A-1\", \"00/07A-1\")\n",
    "\n",
    "geo_16.sort_values(by = [\"county\", \"precinct\"], inplace = True)"
   ]
  },
  {
   "cell_type": "code",
   "execution_count": 16,
   "metadata": {
    "collapsed": false,
    "scrolled": false
   },
   "outputs": [],
   "source": [
    "geo_votes_16 = geo_16.merge(votes_16, on = [\"county\", \"precinct\"], how = \"outer\")[[\"county\", \"precinct\", \"D16\", \"R16\", \"geometry\"]]\n",
    "geo_votes_16.to_file(laf + \"la_geo_votes_16.shp\")"
   ]
  },
  {
   "cell_type": "markdown",
   "metadata": {},
   "source": [
    "### For sanity, output these as pannable maps..."
   ]
  },
  {
   "cell_type": "code",
   "execution_count": 17,
   "metadata": {
    "collapsed": false
   },
   "outputs": [],
   "source": [
    "import matplotlib.pyplot as plt\n",
    "\n",
    "def output_geojson(df, var, fname):\n",
    "\n",
    "    fill = {}\n",
    "    for ri, row in df.iterrows():\n",
    "        color = [int(v*255) for v in plt.get_cmap(\"RdBu\")(row[var])][:3]\n",
    "        fill[ri] = \"#{0:02X}{1:02X}{2:02X}\".format(*color)\n",
    "\n",
    "    df[\"fill\"] = pd.Series(fill)\n",
    "    df[\"stroke-width\"] = 0\n",
    "    df[\"fill-opacity\"] = 0.15\n",
    "\n",
    "    with open(fname, \"w\") as out: out.write(df.to_json())\n",
    "\n",
    "geo_votes_12[\"DFr\"] = geo_votes_12.D12 / (geo_votes_12.D12 + geo_votes_12.R12)\n",
    "geo_votes_16[\"DFr\"] = geo_votes_16.D16 / (geo_votes_16.D16 + geo_votes_16.R16)\n",
    "\n",
    "# output_geojson(geo_votes_12, \"DFr\", \"la_2012.geojson\")\n",
    "# output_geojson(geo_votes_16, \"DFr\", \"la_2016.geojson\")"
   ]
  },
  {
   "cell_type": "markdown",
   "metadata": {},
   "source": [
    "### Now merge them to census tracts."
   ]
  },
  {
   "cell_type": "code",
   "execution_count": 19,
   "metadata": {
    "collapsed": false
   },
   "outputs": [],
   "source": [
    "geo_votes_2012 = gpd.read_file(laf + \"la_geo_votes_12.shp\").to_crs(epsg = epsg)\n",
    "geo_votes_2016 = gpd.read_file(laf + \"la_geo_votes_16.shp\").to_crs(epsg = epsg)"
   ]
  },
  {
   "cell_type": "code",
   "execution_count": 20,
   "metadata": {
    "collapsed": false
   },
   "outputs": [
    {
     "data": {
      "text/html": [
       "<div>\n",
       "<table border=\"1\" class=\"dataframe\">\n",
       "  <thead>\n",
       "    <tr style=\"text-align: right;\">\n",
       "      <th></th>\n",
       "      <th>D12</th>\n",
       "      <th>R12</th>\n",
       "      <th>county</th>\n",
       "      <th>geometry</th>\n",
       "      <th>precinct</th>\n",
       "    </tr>\n",
       "  </thead>\n",
       "  <tbody>\n",
       "    <tr>\n",
       "      <th>0</th>\n",
       "      <td>100.189980</td>\n",
       "      <td>836.088559</td>\n",
       "      <td>1</td>\n",
       "      <td>POLYGON ((913441.9005797947 199815.6807249119,...</td>\n",
       "      <td>01/01</td>\n",
       "    </tr>\n",
       "    <tr>\n",
       "      <th>1</th>\n",
       "      <td>133.179363</td>\n",
       "      <td>211.133475</td>\n",
       "      <td>1</td>\n",
       "      <td>POLYGON ((910938.5424205648 192758.0687076475,...</td>\n",
       "      <td>01/02A</td>\n",
       "    </tr>\n",
       "    <tr>\n",
       "      <th>2</th>\n",
       "      <td>57.425964</td>\n",
       "      <td>336.607082</td>\n",
       "      <td>1</td>\n",
       "      <td>POLYGON ((910699.4770064028 192761.775441711, ...</td>\n",
       "      <td>01/02B</td>\n",
       "    </tr>\n",
       "    <tr>\n",
       "      <th>3</th>\n",
       "      <td>37.876700</td>\n",
       "      <td>486.210230</td>\n",
       "      <td>1</td>\n",
       "      <td>POLYGON ((910781.9804304764 193548.7171660828,...</td>\n",
       "      <td>01/03A</td>\n",
       "    </tr>\n",
       "    <tr>\n",
       "      <th>4</th>\n",
       "      <td>133.179363</td>\n",
       "      <td>231.643584</td>\n",
       "      <td>1</td>\n",
       "      <td>POLYGON ((911929.1940590792 192999.6427604714,...</td>\n",
       "      <td>01/03B</td>\n",
       "    </tr>\n",
       "  </tbody>\n",
       "</table>\n",
       "</div>"
      ],
      "text/plain": [
       "          D12         R12  county  \\\n",
       "0  100.189980  836.088559       1   \n",
       "1  133.179363  211.133475       1   \n",
       "2   57.425964  336.607082       1   \n",
       "3   37.876700  486.210230       1   \n",
       "4  133.179363  231.643584       1   \n",
       "\n",
       "                                            geometry precinct  \n",
       "0  POLYGON ((913441.9005797947 199815.6807249119,...    01/01  \n",
       "1  POLYGON ((910938.5424205648 192758.0687076475,...   01/02A  \n",
       "2  POLYGON ((910699.4770064028 192761.775441711, ...   01/02B  \n",
       "3  POLYGON ((910781.9804304764 193548.7171660828,...   01/03A  \n",
       "4  POLYGON ((911929.1940590792 192999.6427604714,...   01/03B  "
      ]
     },
     "execution_count": 20,
     "metadata": {},
     "output_type": "execute_result"
    }
   ],
   "source": [
    "geo_votes_2012.head()"
   ]
  },
  {
   "cell_type": "code",
   "execution_count": 21,
   "metadata": {
    "collapsed": false
   },
   "outputs": [],
   "source": [
    "query = \"\"\"SELECT rn, ST_Centroid(ST_Transform(tr.geom, epsg)) geometry\n",
    "           FROM census_tracts_2015 AS tr\n",
    "           JOIN (SELECT state, county, tract, row_number() over \n",
    "                          (PARTITION BY state ORDER BY county, tract NULLS LAST) - 1 as rn\n",
    "                 FROM census_tracts_2015) rn ON\n",
    "                   tr.state  = rn.state  AND\n",
    "                   tr.county = rn.county AND\n",
    "                   tr.tract  = rn.tract\n",
    "           JOIN states AS st ON st.fips = tr.state\n",
    "           WHERE tr.state = {} ORDER BY rn;\n",
    "           \"\"\"\n",
    "\n",
    "con = psycopg2.connect(database = \"census\", user = user, password = passwd,\n",
    "                       host = \"saxon.harris.uchicago.edu\", port = 5432)\n",
    "\n",
    "tr_rn = gpd.GeoDataFrame.from_postgis(query.format(fips), con, index_col = \"rn\",\n",
    "                                      geom_col = \"geometry\", crs = from_epsg(epsg))"
   ]
  },
  {
   "cell_type": "code",
   "execution_count": 22,
   "metadata": {
    "collapsed": false
   },
   "outputs": [
    {
     "name": "stdout",
     "output_type": "stream",
     "text": [
      "0 100 200 300 400 500 600 700 800 900 1000 1100 1200 1300 1400 1500 1600 1700 1800 1900 2000 2100 2200 2300 2400 2500 2600 2700 2800 2900 3000 3100 3200 3300 3400 3500 3600 3700 3800 3900 4000 \n",
      "0 100 200 300 400 500 600 700 800 900 1000 1100 1200 1300 1400 1500 1600 1700 1800 1900 2000 2100 2200 2300 2400 2500 2600 2700 2800 2900 3000 3100 3200 3300 3400 3500 3600 3700 "
     ]
    }
   ],
   "source": [
    "geo_votes_2012[\"rn\"] = float('nan')\n",
    "for pri, row in geo_votes_2012.iterrows():\n",
    "    ctr = row.geometry.centroid\n",
    "    distances = [(xi, pt.distance(ctr)) for xi, pt in enumerate(tr_rn.geometry)]\n",
    "    match = min(distances, key=lambda item:item[1])\n",
    "    geo_votes_2012.loc[pri, \"rn\"] = match[0]\n",
    "    if (pri % 100) == 0: print(pri, end = \" \")\n",
    "print()\n",
    "        \n",
    "geo_votes_2016[\"rn\"] = float('nan')\n",
    "for pri, row in geo_votes_2016.iterrows():\n",
    "    ctr = row.geometry.centroid\n",
    "    distances = [(xi, pt.distance(ctr)) for xi, pt in enumerate(tr_rn.geometry)]\n",
    "    match = min(distances, key=lambda item:item[1])\n",
    "    geo_votes_2016.loc[pri, \"rn\"] = match[0]\n",
    "    if (pri % 100) == 0: print(pri, end = \" \")\n",
    "        \n",
    "geo_votes_2012.rn = geo_votes_2012.rn.astype(int)\n",
    "geo_votes_2016.rn = geo_votes_2016.rn.astype(int)"
   ]
  },
  {
   "cell_type": "code",
   "execution_count": 38,
   "metadata": {
    "collapsed": false
   },
   "outputs": [
    {
     "data": {
      "text/html": [
       "<div>\n",
       "<table border=\"1\" class=\"dataframe\">\n",
       "  <thead>\n",
       "    <tr style=\"text-align: right;\">\n",
       "      <th></th>\n",
       "      <th>D12</th>\n",
       "      <th>R12</th>\n",
       "      <th>D16</th>\n",
       "      <th>R16</th>\n",
       "    </tr>\n",
       "    <tr>\n",
       "      <th>rn</th>\n",
       "      <th></th>\n",
       "      <th></th>\n",
       "      <th></th>\n",
       "      <th></th>\n",
       "    </tr>\n",
       "  </thead>\n",
       "  <tbody>\n",
       "    <tr>\n",
       "      <th>0</th>\n",
       "      <td>7434</td>\n",
       "      <td>13986</td>\n",
       "      <td>7161</td>\n",
       "      <td>17619</td>\n",
       "    </tr>\n",
       "    <tr>\n",
       "      <th>1</th>\n",
       "      <td>315</td>\n",
       "      <td>4902</td>\n",
       "      <td>261</td>\n",
       "      <td>5565</td>\n",
       "    </tr>\n",
       "    <tr>\n",
       "      <th>2</th>\n",
       "      <td>244</td>\n",
       "      <td>1686</td>\n",
       "      <td>230</td>\n",
       "      <td>1956</td>\n",
       "    </tr>\n",
       "    <tr>\n",
       "      <th>3</th>\n",
       "      <td>928</td>\n",
       "      <td>9180</td>\n",
       "      <td>1624</td>\n",
       "      <td>17066</td>\n",
       "    </tr>\n",
       "    <tr>\n",
       "      <th>4</th>\n",
       "      <td>936</td>\n",
       "      <td>5571</td>\n",
       "      <td>849</td>\n",
       "      <td>6285</td>\n",
       "    </tr>\n",
       "    <tr>\n",
       "      <th>5</th>\n",
       "      <td>1539</td>\n",
       "      <td>2877</td>\n",
       "      <td>1374</td>\n",
       "      <td>3303</td>\n",
       "    </tr>\n",
       "    <tr>\n",
       "      <th>6</th>\n",
       "      <td>14440</td>\n",
       "      <td>31350</td>\n",
       "      <td>14014</td>\n",
       "      <td>29315</td>\n",
       "    </tr>\n",
       "    <tr>\n",
       "      <th>7</th>\n",
       "      <td>940</td>\n",
       "      <td>6190</td>\n",
       "      <td>828</td>\n",
       "      <td>7044</td>\n",
       "    </tr>\n",
       "    <tr>\n",
       "      <th>8</th>\n",
       "      <td>3468</td>\n",
       "      <td>4272</td>\n",
       "      <td>5187</td>\n",
       "      <td>6048</td>\n",
       "    </tr>\n",
       "    <tr>\n",
       "      <th>9</th>\n",
       "      <td>9156</td>\n",
       "      <td>10493</td>\n",
       "      <td>8608</td>\n",
       "      <td>11528</td>\n",
       "    </tr>\n",
       "  </tbody>\n",
       "</table>\n",
       "</div>"
      ],
      "text/plain": [
       "      D12    R12    D16    R16\n",
       "rn                            \n",
       "0    7434  13986   7161  17619\n",
       "1     315   4902    261   5565\n",
       "2     244   1686    230   1956\n",
       "3     928   9180   1624  17066\n",
       "4     936   5571    849   6285\n",
       "5    1539   2877   1374   3303\n",
       "6   14440  31350  14014  29315\n",
       "7     940   6190    828   7044\n",
       "8    3468   4272   5187   6048\n",
       "9    9156  10493   8608  11528"
      ]
     },
     "execution_count": 38,
     "metadata": {},
     "output_type": "execute_result"
    }
   ],
   "source": [
    "la_votes = pd.merge(geo_votes_2012[[\"rn\", \"D12\", \"R12\"]], geo_votes_2016[[\"rn\", \"D16\", \"R16\"]], \n",
    "                    on = \"rn\", how = \"outer\").fillna(0).groupby(\"rn\").sum()\n",
    "la_votes.to_csv(\"la_votes.csv\")\n",
    "la_votes.head(10)"
   ]
  },
  {
   "cell_type": "code",
   "execution_count": null,
   "metadata": {
    "collapsed": true
   },
   "outputs": [],
   "source": []
  }
 ],
 "metadata": {
  "anaconda-cloud": {},
  "kernelspec": {
   "display_name": "Python [conda root]",
   "language": "python",
   "name": "conda-root-py"
  },
  "language_info": {
   "codemirror_mode": {
    "name": "ipython",
    "version": 3
   },
   "file_extension": ".py",
   "mimetype": "text/x-python",
   "name": "python",
   "nbconvert_exporter": "python",
   "pygments_lexer": "ipython3",
   "version": "3.5.2"
  }
 },
 "nbformat": 4,
 "nbformat_minor": 2
}
