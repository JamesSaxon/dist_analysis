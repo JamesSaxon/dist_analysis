{
 "cells": [
  {
   "cell_type": "code",
   "execution_count": 1,
   "metadata": {
    "collapsed": false,
    "deletable": true,
    "editable": true
   },
   "outputs": [
    {
     "name": "stderr",
     "output_type": "stream",
     "text": [
      "/home/jsaxon/anaconda3/lib/python3.5/site-packages/statsmodels/compat/pandas.py:56: FutureWarning: The pandas.core.datetools module is deprecated and will be removed in a future version. Please use the pandas.tseries module instead.\n",
      "  from pandas.core import datetools\n"
     ]
    }
   ],
   "source": [
    "import sys; sys.path.insert(0,'../')\n",
    "from dist_tools import *\n",
    "\n",
    "from IPython.display import display\n",
    "pd.options.display.max_columns = 1000\n",
    "pd.options.display.max_rows = 10000\n",
    "%matplotlib inline"
   ]
  },
  {
   "cell_type": "code",
   "execution_count": 2,
   "metadata": {
    "collapsed": true
   },
   "outputs": [],
   "source": [
    "usps, seats, fips, epsg = \"VA\", 11, 51, 3687"
   ]
  },
  {
   "cell_type": "code",
   "execution_count": 3,
   "metadata": {
    "collapsed": true
   },
   "outputs": [],
   "source": [
    "vaf = \"/media/jsaxon/brobdingnag/data/el_dv/va_site/\""
   ]
  },
  {
   "cell_type": "code",
   "execution_count": 4,
   "metadata": {
    "collapsed": false,
    "deletable": true,
    "editable": true
   },
   "outputs": [],
   "source": [
    "geo_16 = gpd.read_file(vaf + \"shp/vaprecincts2016.shp\").to_crs(epsg = epsg)\n",
    "geo_16.rename(columns = {\"Number\" : \"number\"}, inplace = True)\n",
    "geo_16 = geo_16.sort_values(by = [\"locality\", \"number\"])[[\"locality\", \"precinct\", \"number\", \"geometry\"]]\n",
    "geo_16[\"precinct\"] = geo_16[\"precinct\"].str.upper().str.replace(\"  \", \" \").str.replace(\"  \", \" \")\n",
    "geo_16[\"locality\"] = geo_16[\"locality\"].str.upper()\n",
    "\n",
    "lunenburg_num = {\"PLYMOUTH\" : 101, \"BROWNS STORE\" : 201, \"ROSEBUD\" : 301, \"FLAT ROCK\" : 302, \n",
    "                 \"ARROWHEAD GUN CLUB\" : 401, \"PLEASANT GROVE\" : 402, \"REEDY CREEK\" : 501, \"PEOPLES COMMUNITY CENTER\" : 502,\n",
    "                 \"HOUNDS CREEK\" : 601, \"MEHERRIN FIRE DEPARTMENT\" : 701, \"VICTORIA PUBLIC LIBRARY\" : 702}\n",
    "\n",
    "for k, v in lunenburg_num.items():\n",
    "    geo_16.loc[geo_16.locality.str.contains(\"LUNENBURG\") & (geo_16.precinct == k), \"number\"] = v\n",
    "    \n",
    "geo_16.loc[geo_16.locality.str.contains(\"ROANOKE COUNTY\") & geo_16.precinct.str.contains(\"MASONS\"), \"precinct\"] = \"MASON VALLEY\"\n",
    "geo_16.loc[geo_16.locality.str.contains(\"WASHINGTON COUNTY\") & geo_16.precinct.str.contains(\"ODLAND HILLS\"), \"precinct\"] = \"WOODLAND HILLS\"\n",
    "\n",
    "geo_16[\"number\"] = geo_16.number.astype(int)\n",
    "geo_16.drop_duplicates(subset = [\"locality\", \"precinct\", \"number\"], keep = \"first\", inplace = True)"
   ]
  },
  {
   "cell_type": "code",
   "execution_count": 5,
   "metadata": {
    "collapsed": false
   },
   "outputs": [],
   "source": [
    "roanoke_city = gpd.read_file(vaf + \"roanoke_city_precincts/voting_precincts.shp\").to_crs(epsg = epsg)\n",
    "roanoke_city[\"precinct\"] = roanoke_city.NAME.str.replace(\"LEE-HI\", \"LEE HI\").str.upper()\n",
    "roanoke_city[\"locality\"] = \"ROANOKE CITY\"\n",
    "roanoke_city[\"number\"] = roanoke_city.VOTER_PREC.astype(int)\n",
    "# roanoke_city.plot().set_axis_off()"
   ]
  },
  {
   "cell_type": "code",
   "execution_count": 6,
   "metadata": {
    "collapsed": false
   },
   "outputs": [],
   "source": [
    "# These are the only other two missing values.\n",
    "# ESSEX VILLAGE 3901 Pilots Ln, Richmond, VA 23222          -->> -77.4295075, 37.586846\n",
    "# ROTONDA CONDOMINUMS 8352 Greensboro Dr, McLean, VA 22102  -->> -77.2351243, 38.928249\n",
    " \n",
    "special = gpd.GeoDataFrame(data = {\"locality\" : [\"HENRICO COUNTY\", \"FAIRFAX COUNTY\"], \n",
    "                                   \"precinct\" : [\"ESSEX VILLAGE\", \"ROTONDA\"], \"number\" : [224, 735]},\n",
    "                           geometry = [Point([-77.4295075, 37.5868458]), Point([-77.2328882, 38.9282495])],\n",
    "                           crs = from_epsg(4269)).to_crs(epsg = epsg)\n",
    "special.set_geometry(special.geometry.buffer(0.001), inplace = True)"
   ]
  },
  {
   "cell_type": "code",
   "execution_count": 7,
   "metadata": {
    "collapsed": false
   },
   "outputs": [],
   "source": [
    "geo_16 = pd.concat([geo_16[geo_16.locality != \"ROANOKE CITY\"], roanoke_city, special])\\\n",
    "           .sort_values(by = [\"locality\", \"precinct\", \"number\"]).reset_index()\\\n",
    "           [[\"locality\", \"precinct\", \"number\", \"geometry\"]]"
   ]
  },
  {
   "cell_type": "code",
   "execution_count": 8,
   "metadata": {
    "collapsed": false
   },
   "outputs": [],
   "source": [
    "# geo_16.plot(linewidth = 0).set_axis_off()"
   ]
  },
  {
   "cell_type": "code",
   "execution_count": 9,
   "metadata": {
    "collapsed": false
   },
   "outputs": [],
   "source": [
    "votes_16 = pd.read_csv(vaf + \"va_pres_ge_2016.csv\", skiprows = [1], \n",
    "                       usecols = ['County/City', 'Pct', 'Hillary R. Clinton', 'Donald J. Trump'])\n",
    "votes_16.rename(columns = {'County/City' : 'locality', 'Pct' : 'precinct', \n",
    "                           'Hillary R. Clinton' : \"D16\", 'Donald J. Trump' : \"R16\"},\n",
    "                inplace = True)\n",
    "\n",
    "votes_16[\"D16\"] = votes_16[\"D16\"].str.replace(\",\", \"\").astype(int)\n",
    "votes_16[\"R16\"] = votes_16[\"R16\"].str.replace(\",\", \"\").astype(int)\n",
    "votes_16 = votes_16[votes_16.locality != \"TOTALS\"]\n",
    "vote_check = list(votes_16.sum()[[\"D16\", \"R16\"]].astype(int))\n",
    "\n",
    "votes_16['locality'] = votes_16[\"locality\"].str.upper()\n",
    "votes_16['number'] = votes_16[\"precinct\"].str.replace(r'^([0-9]*)[ -].*', r'\\1')\n",
    "votes_16['precinct'] = votes_16[\"precinct\"].str.upper().str.replace(r'^([0-9]*|AB)([ -]+)([A-Za-z ]*)', r'\\3')\n",
    "votes_16['precinct'] = votes_16[\"precinct\"].str.replace(r' *\\(CD[ ]*[0-9]+\\)', r'').str.replace(\"  \", \" \")\n",
    "votes_16['number'] = votes_16[\"number\"].str.replace(r'A[bB].*', \"A\").str.replace(r'Provisional.*', \"P\")\n",
    "\n",
    "# Two Precincts split in Westmoreland County\n",
    "votes_16.loc[votes_16.locality.str.contains(\"WEST\") & (votes_16.number == \"202\"), \"precinct\"] = \"PRECINCT 2-1\"\n",
    "votes_16.loc[votes_16.locality.str.contains(\"WEST\") & (votes_16.number == \"202\"), \"number\"] = \"201\"\n",
    "\n",
    "votes_16.loc[votes_16.locality.str.contains(\"WEST\") & (votes_16.number == \"302\"), \"precinct\"] = \"PRECINCT 3-1\"\n",
    "votes_16.loc[votes_16.locality.str.contains(\"WEST\") & (votes_16.number == \"302\"), \"number\"] = \"301\"\n",
    "\n",
    "votes_16 = votes_16.groupby([\"locality\", \"precinct\", \"number\"]).sum().reset_index() # Dupblicates from CDs, Westmoreland, etc.\n",
    "\n",
    "votes_16 = votes_16[[\"locality\", \"precinct\", \"number\", \"D16\", \"R16\"]]"
   ]
  },
  {
   "cell_type": "code",
   "execution_count": 10,
   "metadata": {
    "collapsed": false
   },
   "outputs": [
    {
     "data": {
      "text/plain": [
       "True"
      ]
     },
     "execution_count": 10,
     "metadata": {},
     "output_type": "execute_result"
    }
   ],
   "source": [
    "vote_check == list(votes_16.sum()[[\"D16\", \"R16\"]].astype(int))"
   ]
  },
  {
   "cell_type": "code",
   "execution_count": 11,
   "metadata": {
    "collapsed": false
   },
   "outputs": [],
   "source": [
    "# votes_16[votes_16.locality == \"CHESAPEAKE CITY\"].sort_values(by = [\"locality\", \"precinct\"])"
   ]
  },
  {
   "cell_type": "code",
   "execution_count": 12,
   "metadata": {
    "collapsed": false
   },
   "outputs": [],
   "source": [
    "def allocate_prov_abs_votes(votes):\n",
    "\n",
    "    poll_mask = ~votes.number.str.contains(\"A\") & ~votes.number.str.contains(\"P\")\n",
    "    \n",
    "    poll_totals = votes[poll_mask].groupby(\"locality\").sum()[[\"D16\", \"R16\"]].reset_index()\\\n",
    "                                  .rename(columns = {\"D16\" : \"D16_poll_tot\", \"R16\" : \"R16_poll_tot\"})\\\n",
    "\n",
    "    alt_totals = votes[~poll_mask].groupby(\"locality\").sum()[[\"D16\", \"R16\"]].reset_index()\\\n",
    "                                  .rename(columns = {\"D16\" : \"D16_alt_tot\", \"R16\" : \"R16_alt_tot\"})\\\n",
    "                                          \n",
    "    votes = pd.merge(votes, poll_totals, on = \"locality\", how = \"outer\")\n",
    "    votes = pd.merge(votes, alt_totals,  on = \"locality\", how = \"outer\")\n",
    "    votes.fillna(0, inplace = True)\n",
    "\n",
    "    votes[\"D16_poll_frac\"], votes[\"R16_poll_frac\"] = 0, 0\n",
    "    votes.loc[poll_mask, \"D16_poll_frac\"] = 1. * votes.loc[poll_mask, \"D16\"] / votes.loc[poll_mask, \"D16_poll_tot\"]\n",
    "    votes.loc[poll_mask, \"R16_poll_frac\"] = 1. * votes.loc[poll_mask, \"R16\"] / votes.loc[poll_mask, \"R16_poll_tot\"]\n",
    "\n",
    "    votes.loc[poll_mask, \"D16\"] += votes.loc[poll_mask, \"D16_alt_tot\"] * votes.loc[poll_mask, \"D16_poll_frac\"]\n",
    "    votes.loc[poll_mask, \"R16\"] += votes.loc[poll_mask, \"R16_alt_tot\"] * votes.loc[poll_mask, \"R16_poll_frac\"]\n",
    "        \n",
    "    votes = votes.loc[poll_mask, [\"locality\", \"precinct\", \"number\", \"D16\", \"R16\"]]\n",
    "        \n",
    "    votes[\"number\"] = votes.number.astype(int)\n",
    "        \n",
    "    return votes\n",
    "    \n",
    "votes_16 = allocate_prov_abs_votes(votes_16)"
   ]
  },
  {
   "cell_type": "code",
   "execution_count": 13,
   "metadata": {
    "collapsed": false
   },
   "outputs": [
    {
     "data": {
      "text/plain": [
       "True"
      ]
     },
     "execution_count": 13,
     "metadata": {},
     "output_type": "execute_result"
    }
   ],
   "source": [
    "vote_check == list(votes_16.sum()[[\"D16\", \"R16\"]].astype(int))"
   ]
  },
  {
   "cell_type": "code",
   "execution_count": 14,
   "metadata": {
    "collapsed": false
   },
   "outputs": [],
   "source": [
    "# The votes just spell out the number, so no help there.\n",
    "geo_16.loc[geo_16.locality == \"PORTSMOUTH CITY\", \"precinct\"] = \"\"\n",
    "votes_16.loc[votes_16.locality == \"PORTSMOUTH CITY\", \"precinct\"] = \"\"\n",
    "\n",
    "geo_16.loc[geo_16.locality.str.contains(\"PITTS\") & geo_16.precinct.str.contains(\"EARSKIN\"), \"precinct\"] = \"BEARSKIN\"\n",
    "geo_16.loc[geo_16.precinct.str.contains(\"GRAHAM-GREENWAY\"), \"precinct\"] = \"GRAHAM - GREENWAY\"\n",
    "geo_16.loc[geo_16.locality.str.contains(\"HARRISONBURG CITY\") & (geo_16.precinct == \"SOUTH EAST\"), \"precinct\"] = \"SOUTHEAST\"\n",
    "\n",
    "geo_16.loc[geo_16.locality.str.contains(\"CHARLOTTE COUNTY\") & (geo_16.precinct == \"CULLEN\"), \"precinct\"] = \"CULLEN/RED HOUSE\"\n",
    "geo_16.loc[geo_16.locality.str.contains(\"CHARLOTTE COUNTY\") & (geo_16.precinct == \"SAXE\"), \"precinct\"] = \"BACON/SAXE\"\n",
    "\n",
    "# Byrd middle school is on Quioccasin Road.\n",
    "geo_16.loc[geo_16.locality.str.contains(\"HENRICO COUNTY\") & (geo_16.precinct == \"BYRD\"), \"precinct\"] = \"QUIOCCASIN\"\n",
    "\n",
    "# Hughes Middle School is adjacent to Terraset Elementary School\n",
    "geo_16.loc[geo_16.locality.str.contains(\"FAIRFAX COUNTY\") & (geo_16.precinct == \"TERRASET\"), \"precinct\"] = \"HUGHES\"\n",
    "\n",
    "# Three miles apart\n",
    "geo_16.loc[geo_16.locality.str.contains(\"ACCOMACK\") & (geo_16.precinct == \"OAK HALL\"), \"precinct\"] = \"NEW CHURCH\"\n",
    "\n",
    "# Nandua is the local high school for Onancock\n",
    "geo_16.loc[geo_16.locality.str.contains(\"ACCOMACK\") & (geo_16.precinct == \"ONANCOCK\"), \"precinct\"] = \"NANDUA\"\n",
    "\n",
    "# Ben Lamond Community Center is 0.8 miles from Ashton Road\n",
    "geo_16.loc[geo_16.locality.str.contains(\"WILLIAM\") & (geo_16.precinct == \"ASHTON\"), \"precinct\"] = \"BEN LOMOND\"\n",
    "\n",
    "# Haymarket is the neighborhood, Tyler is the elementary school\n",
    "geo_16.loc[geo_16.locality.str.contains(\"WILLIAM\") & (geo_16.precinct == \"HAYMARKET\"), \"precinct\"] = \"TYLER\"\n",
    "\n",
    "# This is the one I'm least sure about -- Godwin Drive is 15 miles from Hampton HS\n",
    "geo_16.loc[geo_16.locality.str.contains(\"WILLIAM\") & (geo_16.precinct == \"GODWIN\"), \"precinct\"] = \"HAMPTON\"\n",
    "\n",
    "# Moved from the FD 1.5 miles to the elementary school.\n",
    "geo_16.loc[geo_16.locality.str.contains(\"LOUDOUN\") & (geo_16.number == 317), \"precinct\"] = \"MADISON'S TRUST\"\n",
    "geo_16.loc[geo_16.locality.str.contains(\"LOUDOUN\") & (geo_16.number == 317), \"number\"] = 318\n",
    "\n",
    "# Lee Hi.... remove the dash\n",
    "geo_16.loc[geo_16.locality.str.contains(\"ROANOKE CITY\") & (geo_16.precinct == \"LEE HI\"), \"precinct\"] = \"LEE-HI\"\n",
    "\n",
    "va_votes = pd.merge(geo_16, votes_16, on = [\"locality\", \"precinct\", \"number\"], how = \"outer\")\n",
    "va_votes = va_votes.sort_values(by = [\"locality\", \"number\", \"precinct\"])"
   ]
  },
  {
   "cell_type": "code",
   "execution_count": 15,
   "metadata": {
    "collapsed": false
   },
   "outputs": [
    {
     "name": "stdout",
     "output_type": "stream",
     "text": [
      "Nice work, stud.\n"
     ]
    }
   ],
   "source": [
    "if vote_check == list(va_votes[[\"D16\", \"R16\"]].sum().round().astype(int)): print(\"Nice work, stud.\")\n",
    "else: print(\"Trouble in paradise!!\", vote_check, list(va_votes[[\"D16\", \"R16\"]].sum().round().astype(int)))"
   ]
  },
  {
   "cell_type": "code",
   "execution_count": 16,
   "metadata": {
    "collapsed": false,
    "scrolled": false
   },
   "outputs": [
    {
     "data": {
      "text/html": [
       "<div>\n",
       "<style>\n",
       "    .dataframe thead tr:only-child th {\n",
       "        text-align: right;\n",
       "    }\n",
       "\n",
       "    .dataframe thead th {\n",
       "        text-align: left;\n",
       "    }\n",
       "\n",
       "    .dataframe tbody tr th {\n",
       "        vertical-align: top;\n",
       "    }\n",
       "</style>\n",
       "<table border=\"1\" class=\"dataframe\">\n",
       "  <thead>\n",
       "    <tr style=\"text-align: right;\">\n",
       "      <th></th>\n",
       "      <th>locality</th>\n",
       "      <th>precinct</th>\n",
       "      <th>number</th>\n",
       "      <th>geometry</th>\n",
       "      <th>D16</th>\n",
       "      <th>R16</th>\n",
       "    </tr>\n",
       "  </thead>\n",
       "  <tbody>\n",
       "  </tbody>\n",
       "</table>\n",
       "</div>"
      ],
      "text/plain": [
       "Empty GeoDataFrame\n",
       "Columns: [locality, precinct, number, geometry, D16, R16]\n",
       "Index: []"
      ]
     },
     "execution_count": 16,
     "metadata": {},
     "output_type": "execute_result"
    }
   ],
   "source": [
    "va_votes[va_votes.duplicated(subset = {\"locality\", \"number\"}, keep = False)].sort_values(by = [\"locality\", \"number\"])"
   ]
  },
  {
   "cell_type": "markdown",
   "metadata": {},
   "source": [
    "No lost votes."
   ]
  },
  {
   "cell_type": "code",
   "execution_count": 17,
   "metadata": {
    "collapsed": false,
    "scrolled": false
   },
   "outputs": [
    {
     "data": {
      "text/html": [
       "<div>\n",
       "<style>\n",
       "    .dataframe thead tr:only-child th {\n",
       "        text-align: right;\n",
       "    }\n",
       "\n",
       "    .dataframe thead th {\n",
       "        text-align: left;\n",
       "    }\n",
       "\n",
       "    .dataframe tbody tr th {\n",
       "        vertical-align: top;\n",
       "    }\n",
       "</style>\n",
       "<table border=\"1\" class=\"dataframe\">\n",
       "  <thead>\n",
       "    <tr style=\"text-align: right;\">\n",
       "      <th></th>\n",
       "      <th>locality</th>\n",
       "      <th>precinct</th>\n",
       "      <th>number</th>\n",
       "      <th>geometry</th>\n",
       "      <th>D16</th>\n",
       "      <th>R16</th>\n",
       "    </tr>\n",
       "  </thead>\n",
       "  <tbody>\n",
       "    <tr>\n",
       "      <th>10</th>\n",
       "      <td>ACCOMACK COUNTY</td>\n",
       "      <td>ONLEY</td>\n",
       "      <td>702</td>\n",
       "      <td>POLYGON ((3746684.857552344 1155806.541501651,...</td>\n",
       "      <td>NaN</td>\n",
       "      <td>NaN</td>\n",
       "    </tr>\n",
       "    <tr>\n",
       "      <th>342</th>\n",
       "      <td>CHARLOTTE COUNTY</td>\n",
       "      <td>RED HOUSE</td>\n",
       "      <td>503</td>\n",
       "      <td>POLYGON ((3483787.85239797 1100330.95843827, 3...</td>\n",
       "      <td>NaN</td>\n",
       "      <td>NaN</td>\n",
       "    </tr>\n",
       "    <tr>\n",
       "      <th>336</th>\n",
       "      <td>CHARLOTTE COUNTY</td>\n",
       "      <td>BACON</td>\n",
       "      <td>701</td>\n",
       "      <td>POLYGON ((3480891.43423604 1078997.82137199, 3...</td>\n",
       "      <td>NaN</td>\n",
       "      <td>NaN</td>\n",
       "    </tr>\n",
       "    <tr>\n",
       "      <th>651</th>\n",
       "      <td>FAIRFAX COUNTY</td>\n",
       "      <td>FAIRFAX COURT</td>\n",
       "      <td>700</td>\n",
       "      <td>POLYGON ((3603280.663520052 1279631.213854346,...</td>\n",
       "      <td>NaN</td>\n",
       "      <td>NaN</td>\n",
       "    </tr>\n",
       "  </tbody>\n",
       "</table>\n",
       "</div>"
      ],
      "text/plain": [
       "             locality       precinct  number  \\\n",
       "10    ACCOMACK COUNTY          ONLEY     702   \n",
       "342  CHARLOTTE COUNTY      RED HOUSE     503   \n",
       "336  CHARLOTTE COUNTY          BACON     701   \n",
       "651    FAIRFAX COUNTY  FAIRFAX COURT     700   \n",
       "\n",
       "                                              geometry  D16  R16  \n",
       "10   POLYGON ((3746684.857552344 1155806.541501651,...  NaN  NaN  \n",
       "342  POLYGON ((3483787.85239797 1100330.95843827, 3...  NaN  NaN  \n",
       "336  POLYGON ((3480891.43423604 1078997.82137199, 3...  NaN  NaN  \n",
       "651  POLYGON ((3603280.663520052 1279631.213854346,...  NaN  NaN  "
      ]
     },
     "execution_count": 17,
     "metadata": {},
     "output_type": "execute_result"
    }
   ],
   "source": [
    "va_votes[va_votes.geometry.isnull() | va_votes.D16.isnull()].sort_values(by = [\"locality\", \"number\"])"
   ]
  },
  {
   "cell_type": "code",
   "execution_count": 18,
   "metadata": {
    "collapsed": false
   },
   "outputs": [],
   "source": [
    "va_votes[\"DFrac\"] = va_votes.D16 / (va_votes.D16 + va_votes.R16)\n",
    "output_geojson(va_votes.set_geometry(va_votes.geometry.simplify(10)), \n",
    "               var = \"DFrac\", fname = \"mapped/va_2016.geojson\")\n",
    "\n",
    "va_votes.to_file(vaf + \"va_votes.shp\")"
   ]
  },
  {
   "cell_type": "code",
   "execution_count": 19,
   "metadata": {
    "collapsed": false
   },
   "outputs": [],
   "source": [
    "tr_rn = get_tr_rn(usps, epsg)"
   ]
  },
  {
   "cell_type": "code",
   "execution_count": 20,
   "metadata": {
    "collapsed": true
   },
   "outputs": [],
   "source": [
    "votes_merged = merge_tract_number(tr_rn, va_votes)[[\"D16\", \"R16\"]]\n",
    "votes_merged.to_csv(\"votes/va.csv\", index = True)"
   ]
  },
  {
   "cell_type": "code",
   "execution_count": 29,
   "metadata": {
    "collapsed": false
   },
   "outputs": [
    {
     "data": {
      "text/plain": [
       "<matplotlib.axes._subplots.AxesSubplot at 0x7fec70f1d0b8>"
      ]
     },
     "execution_count": 29,
     "metadata": {},
     "output_type": "execute_result"
    },
    {
     "data": {
      "image/png": "[encoded data removed]",
      "text/plain": [
       "<matplotlib.figure.Figure at 0x7fec70f1db38>"
      ]
     },
     "metadata": {},
     "output_type": "display_data"
    }
   ],
   "source": [
    "df = pd.read_csv(\"votes/va.csv\")\n",
    "df[\"DFrac\"] = df.D16 / (df.D16 + df.R16)\n",
    "pd.merge(tr_rn, df).plot(column = 'DFrac', cmap = \"RdBu\")"
   ]
  },
  {
   "cell_type": "code",
   "execution_count": null,
   "metadata": {
    "collapsed": true
   },
   "outputs": [],
   "source": []
  }
 ],
 "metadata": {
  "anaconda-cloud": {},
  "kernelspec": {
   "display_name": "Python [conda root]",
   "language": "python",
   "name": "conda-root-py"
  },
  "language_info": {
   "codemirror_mode": {
    "name": "ipython",
    "version": 3
   },
   "file_extension": ".py",
   "mimetype": "text/x-python",
   "name": "python",
   "nbconvert_exporter": "python",
   "pygments_lexer": "ipython3",
   "version": "3.5.2"
  }
 },
 "nbformat": 4,
 "nbformat_minor": 2
}
