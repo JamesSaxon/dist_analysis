{
 "cells": [
  {
   "cell_type": "code",
   "execution_count": 11,
   "metadata": {
    "collapsed": false,
    "deletable": true,
    "editable": true
   },
   "outputs": [
    {
     "name": "stderr",
     "output_type": "stream",
     "text": [
      "/home/jsaxon/anaconda3/lib/python3.5/site-packages/statsmodels/compat/pandas.py:56: FutureWarning: The pandas.core.datetools module is deprecated and will be removed in a future version. Please use the pandas.tseries module instead.\n",
      "  from pandas.core import datetools\n"
     ]
    }
   ],
   "source": [
    "import sys; sys.path.insert(0,'../')\n",
    "from dist_tools import *\n",
    "\n",
    "import pandas as pd\n",
    "import geopandas as gpd\n",
    "from IPython.display import display\n",
    "\n",
    "import psycopg2\n",
    "from netrc import netrc\n",
    "from fiona.crs import from_epsg\n",
    "\n",
    "user, acct, passwd = netrc().authenticators(\"harris\")\n",
    "\n",
    "seats, fips, epsg = 8, 27, 3594\n",
    "\n",
    "%matplotlib inline\n",
    "pd.options.display.max_columns = 1000\n",
    "pd.options.display.max_rows = 10000"
   ]
  },
  {
   "cell_type": "code",
   "execution_count": 27,
   "metadata": {
    "collapsed": false
   },
   "outputs": [],
   "source": [
    "mnf = \"/media/jsaxon/brobdingnag/data/el_dv/mn_site/\"\n",
    "map_08 = gpd.read_file(mnf + \"elec2008.shp\")\n",
    "map_08.rename(columns = {\"USPRESDFL\" : \"D08\", \"USPRESR\" : \"R08\"}, inplace = True)\n",
    "map_08 = map_08[[\"D08\", \"R08\", \"geometry\"]]\n",
    "map_08[\"DFrac\"] = map_08.D08 / (map_08.D08 + map_08.R08)\n",
    "map_08 = map_08.to_crs(epsg = epsg)\n",
    "\n",
    "map_12 = gpd.read_file(mnf + \"elec2012.shp\")\n",
    "map_12.rename(columns = {\"USPRSDFL\" : \"D12\", \"USPRSR\" : \"R12\"}, inplace = True)\n",
    "map_12 = map_12[[\"D12\", \"R12\", \"geometry\"]]\n",
    "map_12[\"DFrac\"] = map_12.D12 / (map_12.D12 + map_12.R12)\n",
    "map_12 = map_12.to_crs(epsg = epsg)\n",
    "\n",
    "map_16 = gpd.read_file(mnf + \"elec2016.shp\")\n",
    "map_16.rename(columns = {\"USPRSDFL\" : \"D16\", \"USPRSR\" : \"R16\"}, inplace = True)\n",
    "map_16 = map_16[[\"D16\", \"R16\", \"geometry\"]]\n",
    "map_16[\"DFrac\"] = map_16.D16 / (map_16.D16 + map_16.R16)\n",
    "map_16 = map_16.to_crs(epsg = epsg)"
   ]
  },
  {
   "cell_type": "code",
   "execution_count": 28,
   "metadata": {
    "collapsed": false
   },
   "outputs": [],
   "source": [
    "output_geojson(map_08.set_geometry(map_08.geometry.simplify(10)), var = \"DFrac\", fname = \"mapped/mn_2008.geojson\")\n",
    "output_geojson(map_12.set_geometry(map_12.geometry.simplify(10)), var = \"DFrac\", fname = \"mapped/mn_2012.geojson\")\n",
    "output_geojson(map_16.set_geometry(map_16.geometry.simplify(10)), var = \"DFrac\", fname = \"mapped/mn_2016.geojson\")"
   ]
  },
  {
   "cell_type": "code",
   "execution_count": 5,
   "metadata": {
    "collapsed": false
   },
   "outputs": [],
   "source": [
    "query = \"\"\"SELECT \n",
    "              rn, ST_Transform(tr.geom, epsg) geometry\n",
    "           FROM census_tracts_2015 AS tr\n",
    "           JOIN (SELECT state, county, tract,\n",
    "                        row_number() over \n",
    "                          (PARTITION BY state ORDER BY county, tract NULLS LAST) - 1 as rn\n",
    "                 FROM census_tracts_2015) rn ON\n",
    "                   tr.state  = rn.state  AND\n",
    "                   tr.county = rn.county AND\n",
    "                   tr.tract  = rn.tract\n",
    "           JOIN states AS st ON st.fips = tr.state\n",
    "           WHERE tr.state = {} ORDER BY rn;\n",
    "           \"\"\"\n",
    "\n",
    "con = psycopg2.connect(database = \"census\", user = user, password = passwd,\n",
    "                       host = \"saxon.harris.uchicago.edu\", port = 5432)\n",
    "\n",
    "tr_rn = gpd.GeoDataFrame.from_postgis(query.format(fips), con, geom_col = \"geometry\", crs = from_epsg(epsg))"
   ]
  },
  {
   "cell_type": "code",
   "execution_count": 6,
   "metadata": {
    "collapsed": false
   },
   "outputs": [
    {
     "data": {
      "text/html": [
       "<div>\n",
       "<style>\n",
       "    .dataframe thead tr:only-child th {\n",
       "        text-align: right;\n",
       "    }\n",
       "\n",
       "    .dataframe thead th {\n",
       "        text-align: left;\n",
       "    }\n",
       "\n",
       "    .dataframe tbody tr th {\n",
       "        vertical-align: top;\n",
       "    }\n",
       "</style>\n",
       "<table border=\"1\" class=\"dataframe\">\n",
       "  <thead>\n",
       "    <tr style=\"text-align: right;\">\n",
       "      <th></th>\n",
       "      <th>rn</th>\n",
       "      <th>geometry</th>\n",
       "    </tr>\n",
       "  </thead>\n",
       "  <tbody>\n",
       "    <tr>\n",
       "      <th>0</th>\n",
       "      <td>0</td>\n",
       "      <td>(POLYGON ((841559.2706760777 275179.5267206162...</td>\n",
       "    </tr>\n",
       "    <tr>\n",
       "      <th>1</th>\n",
       "      <td>1</td>\n",
       "      <td>(POLYGON ((836121.8174649179 281250.5153568669...</td>\n",
       "    </tr>\n",
       "    <tr>\n",
       "      <th>2</th>\n",
       "      <td>2</td>\n",
       "      <td>(POLYGON ((833603.7923484842 267296.7002479853...</td>\n",
       "    </tr>\n",
       "    <tr>\n",
       "      <th>3</th>\n",
       "      <td>3</td>\n",
       "      <td>(POLYGON ((859078.8538517348 267617.4044722447...</td>\n",
       "    </tr>\n",
       "    <tr>\n",
       "      <th>4</th>\n",
       "      <td>4</td>\n",
       "      <td>(POLYGON ((853172.4178123451 248488.2945790889...</td>\n",
       "    </tr>\n",
       "  </tbody>\n",
       "</table>\n",
       "</div>"
      ],
      "text/plain": [
       "   rn                                           geometry\n",
       "0   0  (POLYGON ((841559.2706760777 275179.5267206162...\n",
       "1   1  (POLYGON ((836121.8174649179 281250.5153568669...\n",
       "2   2  (POLYGON ((833603.7923484842 267296.7002479853...\n",
       "3   3  (POLYGON ((859078.8538517348 267617.4044722447...\n",
       "4   4  (POLYGON ((853172.4178123451 248488.2945790889..."
      ]
     },
     "execution_count": 6,
     "metadata": {},
     "output_type": "execute_result"
    }
   ],
   "source": [
    "tr_rn.head()"
   ]
  },
  {
   "cell_type": "code",
   "execution_count": 22,
   "metadata": {
    "collapsed": false
   },
   "outputs": [],
   "source": [
    "votes08 = merge_tract_number(tr_rn, map_08)[[\"D08\", \"R08\"]]\n",
    "votes12 = merge_tract_number(tr_rn, map_12)[[\"D12\", \"R12\"]]\n",
    "votes16 = merge_tract_number(tr_rn, map_16)[[\"D16\", \"R16\"]]"
   ]
  },
  {
   "cell_type": "code",
   "execution_count": 24,
   "metadata": {
    "collapsed": false
   },
   "outputs": [],
   "source": [
    "pd.concat([votes08, votes12, votes16], axis = 1).to_csv(\"votes/mn.csv\")"
   ]
  },
  {
   "cell_type": "code",
   "execution_count": 25,
   "metadata": {
    "collapsed": false
   },
   "outputs": [
    {
     "data": {
      "text/html": [
       "<div>\n",
       "<style>\n",
       "    .dataframe thead tr:only-child th {\n",
       "        text-align: right;\n",
       "    }\n",
       "\n",
       "    .dataframe thead th {\n",
       "        text-align: left;\n",
       "    }\n",
       "\n",
       "    .dataframe tbody tr th {\n",
       "        vertical-align: top;\n",
       "    }\n",
       "</style>\n",
       "<table border=\"1\" class=\"dataframe\">\n",
       "  <thead>\n",
       "    <tr style=\"text-align: right;\">\n",
       "      <th></th>\n",
       "      <th>rn</th>\n",
       "      <th>D08</th>\n",
       "      <th>R08</th>\n",
       "      <th>D12</th>\n",
       "      <th>R12</th>\n",
       "      <th>D16</th>\n",
       "      <th>R16</th>\n",
       "    </tr>\n",
       "  </thead>\n",
       "  <tbody>\n",
       "    <tr>\n",
       "      <th>0</th>\n",
       "      <td>0</td>\n",
       "      <td>692.0</td>\n",
       "      <td>769.0</td>\n",
       "      <td>651.0</td>\n",
       "      <td>789.0</td>\n",
       "      <td>474.0</td>\n",
       "      <td>913.0</td>\n",
       "    </tr>\n",
       "    <tr>\n",
       "      <th>1</th>\n",
       "      <td>1</td>\n",
       "      <td>624.0</td>\n",
       "      <td>539.0</td>\n",
       "      <td>614.0</td>\n",
       "      <td>515.0</td>\n",
       "      <td>402.0</td>\n",
       "      <td>746.0</td>\n",
       "    </tr>\n",
       "    <tr>\n",
       "      <th>2</th>\n",
       "      <td>2</td>\n",
       "      <td>706.0</td>\n",
       "      <td>793.0</td>\n",
       "      <td>668.0</td>\n",
       "      <td>777.0</td>\n",
       "      <td>512.0</td>\n",
       "      <td>908.0</td>\n",
       "    </tr>\n",
       "    <tr>\n",
       "      <th>3</th>\n",
       "      <td>3</td>\n",
       "      <td>937.0</td>\n",
       "      <td>839.0</td>\n",
       "      <td>924.0</td>\n",
       "      <td>796.0</td>\n",
       "      <td>644.0</td>\n",
       "      <td>975.0</td>\n",
       "    </tr>\n",
       "    <tr>\n",
       "      <th>4</th>\n",
       "      <td>4</td>\n",
       "      <td>625.0</td>\n",
       "      <td>592.0</td>\n",
       "      <td>534.0</td>\n",
       "      <td>580.0</td>\n",
       "      <td>334.0</td>\n",
       "      <td>686.0</td>\n",
       "    </tr>\n",
       "  </tbody>\n",
       "</table>\n",
       "</div>"
      ],
      "text/plain": [
       "   rn    D08    R08    D12    R12    D16    R16\n",
       "0   0  692.0  769.0  651.0  789.0  474.0  913.0\n",
       "1   1  624.0  539.0  614.0  515.0  402.0  746.0\n",
       "2   2  706.0  793.0  668.0  777.0  512.0  908.0\n",
       "3   3  937.0  839.0  924.0  796.0  644.0  975.0\n",
       "4   4  625.0  592.0  534.0  580.0  334.0  686.0"
      ]
     },
     "execution_count": 25,
     "metadata": {},
     "output_type": "execute_result"
    }
   ],
   "source": [
    "pd.read_csv(\"votes/mn.csv\").head()"
   ]
  },
  {
   "cell_type": "code",
   "execution_count": null,
   "metadata": {
    "collapsed": true
   },
   "outputs": [],
   "source": []
  }
 ],
 "metadata": {
  "anaconda-cloud": {},
  "kernelspec": {
   "display_name": "Python [conda root]",
   "language": "python",
   "name": "conda-root-py"
  },
  "language_info": {
   "codemirror_mode": {
    "name": "ipython",
    "version": 3
   },
   "file_extension": ".py",
   "mimetype": "text/x-python",
   "name": "python",
   "nbconvert_exporter": "python",
   "pygments_lexer": "ipython3",
   "version": "3.5.2"
  }
 },
 "nbformat": 4,
 "nbformat_minor": 2
}
