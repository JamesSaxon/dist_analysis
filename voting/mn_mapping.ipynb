{
 "cells": [
  {
   "cell_type": "code",
   "execution_count": 28,
   "metadata": {
    "collapsed": false,
    "deletable": true,
    "editable": true
   },
   "outputs": [],
   "source": [
    "import pandas as pd\n",
    "import geopandas as gpd\n",
    "from IPython.display import display\n",
    "\n",
    "import psycopg2\n",
    "from netrc import netrc\n",
    "from fiona.crs import from_epsg\n",
    "\n",
    "user, acct, passwd = netrc().authenticators(\"harris\")\n",
    "\n",
    "seats, fips, epsg = 8, 27, 3594\n",
    "\n",
    "%matplotlib inline\n",
    "pd.options.display.max_columns = 1000\n",
    "pd.options.display.max_rows = 10000"
   ]
  },
  {
   "cell_type": "code",
   "execution_count": 42,
   "metadata": {
    "collapsed": false
   },
   "outputs": [],
   "source": [
    "mnf = \"/media/jsaxon/brobdingnag/data/el_dv/mn_site/\"\n",
    "map_08 = gpd.read_file(mnf + \"elec2008.shp\")\n",
    "map_08.rename(columns = {\"USPRESDFL\" : \"D08\", \"USPRESR\" : \"R08\"}, inplace = True)\n",
    "map_08 = map_08[[\"D08\", \"R08\", \"geometry\"]]\n",
    "map_08 = map_08.to_crs(epsg = epsg)\n",
    "\n",
    "map_12 = gpd.read_file(mnf + \"elec2012.shp\")\n",
    "map_12.rename(columns = {\"USPRSDFL\" : \"D12\", \"USPRSR\" : \"R12\"}, inplace = True)\n",
    "map_12 = map_12[[\"D12\", \"R12\", \"geometry\"]]\n",
    "map_12 = map_12.to_crs(epsg = epsg)\n",
    "\n",
    "map_16 = gpd.read_file(mnf + \"elec2016.shp\")\n",
    "map_16.rename(columns = {\"USPRSDFL\" : \"D16\", \"USPRSR\" : \"R16\"}, inplace = True)\n",
    "map_16 = map_16[[\"D16\", \"R16\", \"geometry\"]]\n",
    "map_16 = map_16.to_crs(epsg = epsg)"
   ]
  },
  {
   "cell_type": "code",
   "execution_count": 49,
   "metadata": {
    "collapsed": true
   },
   "outputs": [],
   "source": [
    "query = \"\"\"SELECT \n",
    "              rn, ST_Transform(tr.geom, epsg) geometry\n",
    "           FROM census_tracts_2015 AS tr\n",
    "           JOIN (SELECT state, county, tract,\n",
    "                        row_number() over \n",
    "                          (PARTITION BY state ORDER BY county, tract NULLS LAST) - 1 as rn\n",
    "                 FROM census_tracts_2015) rn ON\n",
    "                   tr.state  = rn.state  AND\n",
    "                   tr.county = rn.county AND\n",
    "                   tr.tract  = rn.tract\n",
    "           JOIN states AS st ON st.fips = tr.state\n",
    "           WHERE tr.state = {} ORDER BY rn;\n",
    "           \"\"\"\n",
    "\n",
    "con = psycopg2.connect(database = \"census\", user = user, password = passwd,\n",
    "                       host = \"saxon.harris.uchicago.edu\", port = 5432)\n",
    "\n",
    "tr_rn = gpd.GeoDataFrame.from_postgis(query.format(fips), con,\n",
    "                                      geom_col = \"geometry\", crs = from_epsg(epsg))"
   ]
  },
  {
   "cell_type": "code",
   "execution_count": 97,
   "metadata": {
    "collapsed": false
   },
   "outputs": [],
   "source": [
    "votes_08 = gpd.sjoin(map_08.set_geometry(map_08.centroid), tr_rn, op = \"within\", how = \"left\")\n",
    "votes_12 = gpd.sjoin(map_12.set_geometry(map_12.centroid), tr_rn, op = \"within\", how = \"left\")\n",
    "votes_16 = gpd.sjoin(map_16.set_geometry(map_16.centroid), tr_rn, op = \"within\", how = \"left\")"
   ]
  },
  {
   "cell_type": "code",
   "execution_count": 102,
   "metadata": {
    "collapsed": false
   },
   "outputs": [],
   "source": [
    "def merge_tract_number(gdf, trdf):\n",
    "\n",
    "    for pri, row in gdf[gdf.rn.isnull()].iterrows():\n",
    "        ctr = row.geometry.centroid\n",
    "        distances = [(xi, pt.distance(ctr)) for xi, pt in enumerate(tr_rn.geometry)]\n",
    "        match = min(distances, key=lambda item:item[1])\n",
    "        gdf.loc[pri, \"rn\"] = match[0]\n",
    "        if (pri % 100) == 0: print(pri, end = \" \")\n",
    "\n",
    "merge_tract_number(votes_08, tr_rn)\n",
    "merge_tract_number(votes_12, tr_rn)\n",
    "merge_tract_number(votes_16, tr_rn)\n",
    "\n",
    "votes_08.rn = votes_08.rn.astype(int)\n",
    "votes_12.rn = votes_12.rn.astype(int)\n",
    "votes_16.rn = votes_16.rn.astype(int)\n",
    "\n",
    "votes_08 = votes_08.groupby(\"rn\").sum().filter(regex = '[RD]08')\n",
    "votes_12 = votes_12.groupby(\"rn\").sum().filter(regex = '[RD]12')\n",
    "votes_16 = votes_16.groupby(\"rn\").sum().filter(regex = '[RD]16')"
   ]
  },
  {
   "cell_type": "code",
   "execution_count": 104,
   "metadata": {
    "collapsed": false,
    "scrolled": false
   },
   "outputs": [
    {
     "data": {
      "text/html": [
       "<div>\n",
       "<style>\n",
       "    .dataframe thead tr:only-child th {\n",
       "        text-align: right;\n",
       "    }\n",
       "\n",
       "    .dataframe thead th {\n",
       "        text-align: left;\n",
       "    }\n",
       "\n",
       "    .dataframe tbody tr th {\n",
       "        vertical-align: top;\n",
       "    }\n",
       "</style>\n",
       "<table border=\"1\" class=\"dataframe\">\n",
       "  <thead>\n",
       "    <tr style=\"text-align: right;\">\n",
       "      <th></th>\n",
       "      <th>D08</th>\n",
       "      <th>R08</th>\n",
       "      <th>D12</th>\n",
       "      <th>R12</th>\n",
       "      <th>D16</th>\n",
       "      <th>R16</th>\n",
       "    </tr>\n",
       "    <tr>\n",
       "      <th>rn</th>\n",
       "      <th></th>\n",
       "      <th></th>\n",
       "      <th></th>\n",
       "      <th></th>\n",
       "      <th></th>\n",
       "      <th></th>\n",
       "    </tr>\n",
       "  </thead>\n",
       "  <tbody>\n",
       "    <tr>\n",
       "      <th>0</th>\n",
       "      <td>692.0</td>\n",
       "      <td>769.0</td>\n",
       "      <td>651.0</td>\n",
       "      <td>789.0</td>\n",
       "      <td>474.0</td>\n",
       "      <td>913.0</td>\n",
       "    </tr>\n",
       "    <tr>\n",
       "      <th>1</th>\n",
       "      <td>624.0</td>\n",
       "      <td>539.0</td>\n",
       "      <td>614.0</td>\n",
       "      <td>515.0</td>\n",
       "      <td>402.0</td>\n",
       "      <td>746.0</td>\n",
       "    </tr>\n",
       "    <tr>\n",
       "      <th>2</th>\n",
       "      <td>706.0</td>\n",
       "      <td>793.0</td>\n",
       "      <td>668.0</td>\n",
       "      <td>777.0</td>\n",
       "      <td>512.0</td>\n",
       "      <td>908.0</td>\n",
       "    </tr>\n",
       "    <tr>\n",
       "      <th>3</th>\n",
       "      <td>937.0</td>\n",
       "      <td>839.0</td>\n",
       "      <td>924.0</td>\n",
       "      <td>796.0</td>\n",
       "      <td>644.0</td>\n",
       "      <td>975.0</td>\n",
       "    </tr>\n",
       "    <tr>\n",
       "      <th>4</th>\n",
       "      <td>625.0</td>\n",
       "      <td>592.0</td>\n",
       "      <td>534.0</td>\n",
       "      <td>580.0</td>\n",
       "      <td>334.0</td>\n",
       "      <td>686.0</td>\n",
       "    </tr>\n",
       "  </tbody>\n",
       "</table>\n",
       "</div>"
      ],
      "text/plain": [
       "      D08    R08    D12    R12    D16    R16\n",
       "rn                                          \n",
       "0   692.0  769.0  651.0  789.0  474.0  913.0\n",
       "1   624.0  539.0  614.0  515.0  402.0  746.0\n",
       "2   706.0  793.0  668.0  777.0  512.0  908.0\n",
       "3   937.0  839.0  924.0  796.0  644.0  975.0\n",
       "4   625.0  592.0  534.0  580.0  334.0  686.0"
      ]
     },
     "execution_count": 104,
     "metadata": {},
     "output_type": "execute_result"
    }
   ],
   "source": [
    "mn_votes = pd.concat([votes_08, votes_12, votes_16], axis = 1).fillna(0)\n",
    "mn_votes.to_csv(\"mn_votes.csv\")\n",
    "mn_votes.head()"
   ]
  },
  {
   "cell_type": "code",
   "execution_count": null,
   "metadata": {
    "collapsed": true
   },
   "outputs": [],
   "source": []
  }
 ],
 "metadata": {
  "anaconda-cloud": {},
  "kernelspec": {
   "display_name": "Python [conda root]",
   "language": "python",
   "name": "conda-root-py"
  },
  "language_info": {
   "codemirror_mode": {
    "name": "ipython",
    "version": 3
   },
   "file_extension": ".py",
   "mimetype": "text/x-python",
   "name": "python",
   "nbconvert_exporter": "python",
   "pygments_lexer": "ipython3",
   "version": "3.5.2"
  }
 },
 "nbformat": 4,
 "nbformat_minor": 2
}
