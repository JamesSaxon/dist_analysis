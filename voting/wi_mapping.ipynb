{
 "cells": [
  {
   "cell_type": "code",
   "execution_count": 1,
   "metadata": {
    "collapsed": false,
    "deletable": true,
    "editable": true
   },
   "outputs": [],
   "source": [
    "import pandas as pd\n",
    "import geopandas as gpd\n",
    "from IPython.display import display\n",
    "\n",
    "import psycopg2\n",
    "from netrc import netrc\n",
    "from fiona.crs import from_epsg\n",
    "\n",
    "user, acct, passwd = netrc().authenticators(\"harris\")\n",
    "\n",
    "seats, fips, epsg = 8, 55, 3695\n",
    "\n",
    "%matplotlib inline\n",
    "pd.options.display.max_columns = 1000\n",
    "pd.options.display.max_rows = 10000"
   ]
  },
  {
   "cell_type": "code",
   "execution_count": 27,
   "metadata": {
    "collapsed": false
   },
   "outputs": [],
   "source": [
    "wif = \"/media/jsaxon/brobdingnag/data/el_dv/wi_site/\"\n",
    "map_04 = gpd.read_file(wif + \"2004/wtm_8391_wards_2004_ed.shp\")\n",
    "map_04.rename(columns = {\"PRES_DEM\" : \"D04\", \"PRES_REP\" : \"R04\"}, inplace = True)\n",
    "map_04 = map_04[[\"D04\", \"R04\", \"geometry\"]]\n",
    "map_04 = map_04.to_crs(epsg = 3695)\n",
    "\n",
    "map_08 = gpd.read_file(wif + \"2008/2008_Election_Data_By_Ward.shp\")\n",
    "map_08.rename(columns = {\"PRESDEM08\" : \"D08\", \"PRESREP08\" : \"R08\"}, inplace = True)\n",
    "map_08 = map_08[[\"D08\", \"R08\", \"geometry\"]]\n",
    "map_08 = map_08.to_crs(epsg = 3695)\n",
    "\n",
    "map_12 = gpd.read_file(wif + \"2012/Wards_111312_ED_110612.shp\")\n",
    "map_12.rename(columns = {\"PRES_DEM12\" : \"D12\", \"PRES_REP12\" : \"R12\"}, inplace = True)\n",
    "map_12 = map_12[[\"D12\", \"R12\", \"geometry\"]]\n",
    "map_12 = map_12.to_crs(epsg = 3695)"
   ]
  },
  {
   "cell_type": "code",
   "execution_count": 28,
   "metadata": {
    "collapsed": true
   },
   "outputs": [],
   "source": [
    "query = \"\"\"SELECT \n",
    "              rn, ST_Centroid(ST_Transform(tr.geom, epsg)) geometry\n",
    "           FROM census_tracts_2015 AS tr\n",
    "           JOIN (SELECT state, county, tract,\n",
    "                        row_number() over \n",
    "                          (PARTITION BY state ORDER BY county, tract NULLS LAST) - 1 as rn\n",
    "                 FROM census_tracts_2015) rn ON\n",
    "                   tr.state  = rn.state  AND\n",
    "                   tr.county = rn.county AND\n",
    "                   tr.tract  = rn.tract\n",
    "           JOIN states AS st ON st.fips = tr.state\n",
    "           WHERE tr.state = {} ORDER BY rn;\n",
    "           \"\"\"\n",
    "\n",
    "con = psycopg2.connect(database = \"census\", user = user, password = passwd,\n",
    "                       host = \"saxon.harris.uchicago.edu\", port = 5432)\n",
    "\n",
    "tr_rn = gpd.GeoDataFrame.from_postgis(query.format(fips), con, index_col = \"rn\",\n",
    "                                      geom_col = \"geometry\", crs = from_epsg(epsg))"
   ]
  },
  {
   "cell_type": "code",
   "execution_count": 34,
   "metadata": {
    "collapsed": false
   },
   "outputs": [],
   "source": [
    "def merge_tract_number(gdf, trdf):\n",
    "\n",
    "    gdf[\"rn\"] = float('nan')\n",
    "\n",
    "    for pri, row in gdf.iterrows():\n",
    "        ctr = row.geometry.centroid\n",
    "        distances = [(xi, pt.distance(ctr)) for xi, pt in enumerate(tr_rn.geometry)]\n",
    "        match = min(distances, key=lambda item:item[1])\n",
    "        gdf.loc[pri, \"rn\"] = match[0]\n",
    "        if (pri % 100) == 0: print(pri, end = \" \")\n",
    "            \n",
    "    print()\n",
    "\n",
    "merge_tract_number(map_04, tr_rn)\n",
    "merge_tract_number(map_08, tr_rn)\n",
    "merge_tract_number(map_12, tr_rn)\n",
    "\n",
    "map_04 = map_04.groupby(\"rn\").sum().filter(regex = '[RD][01][248]')\n",
    "map_08 = map_08.groupby(\"rn\").sum().filter(regex = '[RD][01][248]')\n",
    "map_12 = map_12.groupby(\"rn\").sum().filter(regex = '[RD][01][248]')"
   ]
  },
  {
   "cell_type": "code",
   "execution_count": 41,
   "metadata": {
    "collapsed": false,
    "scrolled": false
   },
   "outputs": [
    {
     "data": {
      "text/html": [
       "<div>\n",
       "<table border=\"1\" class=\"dataframe\">\n",
       "  <thead>\n",
       "    <tr style=\"text-align: right;\">\n",
       "      <th></th>\n",
       "      <th>D04</th>\n",
       "      <th>R04</th>\n",
       "      <th>D08</th>\n",
       "      <th>R08</th>\n",
       "      <th>D12</th>\n",
       "      <th>R12</th>\n",
       "    </tr>\n",
       "    <tr>\n",
       "      <th>rn</th>\n",
       "      <th></th>\n",
       "      <th></th>\n",
       "      <th></th>\n",
       "      <th></th>\n",
       "      <th></th>\n",
       "      <th></th>\n",
       "    </tr>\n",
       "  </thead>\n",
       "  <tbody>\n",
       "    <tr>\n",
       "      <th>0.0</th>\n",
       "      <td>903.0</td>\n",
       "      <td>1102.0</td>\n",
       "      <td>954.0</td>\n",
       "      <td>1015.0</td>\n",
       "      <td>876.0</td>\n",
       "      <td>1127.0</td>\n",
       "    </tr>\n",
       "    <tr>\n",
       "      <th>1.0</th>\n",
       "      <td>962.0</td>\n",
       "      <td>809.0</td>\n",
       "      <td>1037.0</td>\n",
       "      <td>643.0</td>\n",
       "      <td>1022.0</td>\n",
       "      <td>789.0</td>\n",
       "    </tr>\n",
       "    <tr>\n",
       "      <th>2.0</th>\n",
       "      <td>620.0</td>\n",
       "      <td>465.0</td>\n",
       "      <td>655.0</td>\n",
       "      <td>374.0</td>\n",
       "      <td>449.0</td>\n",
       "      <td>342.0</td>\n",
       "    </tr>\n",
       "    <tr>\n",
       "      <th>3.0</th>\n",
       "      <td>830.0</td>\n",
       "      <td>664.0</td>\n",
       "      <td>903.0</td>\n",
       "      <td>462.0</td>\n",
       "      <td>988.0</td>\n",
       "      <td>680.0</td>\n",
       "    </tr>\n",
       "    <tr>\n",
       "      <th>4.0</th>\n",
       "      <td>419.0</td>\n",
       "      <td>287.0</td>\n",
       "      <td>428.0</td>\n",
       "      <td>205.0</td>\n",
       "      <td>497.0</td>\n",
       "      <td>253.0</td>\n",
       "    </tr>\n",
       "  </tbody>\n",
       "</table>\n",
       "</div>"
      ],
      "text/plain": [
       "       D04     R04     D08     R08     D12     R12\n",
       "rn                                                \n",
       "0.0  903.0  1102.0   954.0  1015.0   876.0  1127.0\n",
       "1.0  962.0   809.0  1037.0   643.0  1022.0   789.0\n",
       "2.0  620.0   465.0   655.0   374.0   449.0   342.0\n",
       "3.0  830.0   664.0   903.0   462.0   988.0   680.0\n",
       "4.0  419.0   287.0   428.0   205.0   497.0   253.0"
      ]
     },
     "execution_count": 41,
     "metadata": {},
     "output_type": "execute_result"
    }
   ],
   "source": [
    "wi_votes = pd.concat([map_04, map_08, map_12], axis = 1).fillna(0)\n",
    "wi_votes.to_csv(\"wi_votes.csv\")\n",
    "wi_votes.head()"
   ]
  },
  {
   "cell_type": "code",
   "execution_count": null,
   "metadata": {
    "collapsed": true
   },
   "outputs": [],
   "source": []
  }
 ],
 "metadata": {
  "anaconda-cloud": {},
  "kernelspec": {
   "display_name": "Python [conda root]",
   "language": "python",
   "name": "conda-root-py"
  },
  "language_info": {
   "codemirror_mode": {
    "name": "ipython",
    "version": 3
   },
   "file_extension": ".py",
   "mimetype": "text/x-python",
   "name": "python",
   "nbconvert_exporter": "python",
   "pygments_lexer": "ipython3",
   "version": "3.5.2"
  }
 },
 "nbformat": 4,
 "nbformat_minor": 2
}
