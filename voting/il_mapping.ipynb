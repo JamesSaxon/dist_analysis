{
 "cells": [
  {
   "cell_type": "code",
   "execution_count": 1,
   "metadata": {
    "collapsed": false
   },
   "outputs": [],
   "source": [
    "from dist_tools import *\n",
    "\n",
    "%matplotlib inline"
   ]
  },
  {
   "cell_type": "code",
   "execution_count": 2,
   "metadata": {
    "collapsed": true
   },
   "outputs": [],
   "source": [
    "fips, epsg, seats = 17, 3528, 18"
   ]
  },
  {
   "cell_type": "code",
   "execution_count": 3,
   "metadata": {
    "collapsed": false
   },
   "outputs": [],
   "source": [
    "votes_2008 = gpd.read_file(\"/media/jsaxon/brobdingnag/data/el_dv/il/IL_final.shp\")\n",
    "votes_2008 = votes_2008[votes_2008.ALAND10 != 0]\n",
    "votes_2008.crs = {'init': 'epsg:4269', 'no_defs': True}\n",
    "votes_2008 = votes_2008.to_crs(epsg = epsg)\n",
    "votes_2008.rename(columns = {\"OBAMA\" : \"D08\", \"MCCAIN\" : \"R08\", \"OBAMA_SHAR\" : \"DFR08\"}, inplace = True)\n",
    "\n",
    "votes_2008[\"poly\"] = votes_2008.geometry\n",
    "votes_2008[\"geometry\"] = votes_2008.centroid\n",
    "votes_2008 = votes_2008.set_geometry(\"geometry\")\n",
    "\n",
    "# ax = votes_2008.set_geometry(\"poly\").plot(column = \"DFR08\", cmap = \"RdBu\", alpha = 0.75, linewidth = 0, figsize = (4, 4))\n",
    "# ax.set_axis_off()"
   ]
  },
  {
   "cell_type": "markdown",
   "metadata": {},
   "source": [
    "### Building the 2016 from an assemblage of sources."
   ]
  },
  {
   "cell_type": "code",
   "execution_count": 4,
   "metadata": {
    "collapsed": true
   },
   "outputs": [],
   "source": [
    "con = psycopg2.connect(database = \"census\", user = user, password = passwd,\n",
    "                       host = \"saxon.harris.uchicago.edu\", port = 5432)\n",
    "\n",
    "il_co = pd.read_sql(\"SELECT county cid, UPPER(name) cname FROM counties_2016 WHERE state = 17 ORDER BY name;\", con = con)\n",
    "il_co.rename(columns = {\"cname\" : \"County\"}, inplace = True)"
   ]
  },
  {
   "cell_type": "code",
   "execution_count": 5,
   "metadata": {
    "collapsed": true
   },
   "outputs": [],
   "source": [
    "con = psycopg2.connect(database = \"census\", user = user, password = passwd,\n",
    "                       host = \"saxon.harris.uchicago.edu\", port = 5432)\n",
    "il_xchi = gpd.GeoDataFrame.from_postgis(\"\"\"SELECT UPPER(co.name) cname, pr.county cid, \n",
    "                                                  UPPER(pr.name) AS name, pr.geoid,\n",
    "                                               ST_Centroid(ST_Transform(pr.geom, epsg)) geometry\n",
    "                                           FROM vtd_2010 pr\n",
    "                                           JOIN states st ON pr.state = st.fips \n",
    "                                           JOIN counties_2016 co ON pr.state = co.state AND pr.county = co.county\n",
    "                                           WHERE pr.state = 17 AND pr.county NOT IN (31, 43, 97) AND pr.aland > 0\n",
    "                                           ORDER BY UPPER(co.name), pr.name;\n",
    "                                        \"\"\",\n",
    "                                        con, geom_col = \"geometry\", crs = from_epsg(3528))\n",
    "\n",
    "### MCHENRY COUNTY\n",
    "il_xchi.loc[il_xchi.cname == \"MCHENRY\", 'name'] = \\\n",
    "    il_xchi[il_xchi.cname == \"MCHENRY\"][\"name\"].\\\n",
    "    str.replace(r'([A-Z]{3})[A-Z ]*', r'\\1 ')\n",
    "\n",
    "### PEORIA\n",
    "il_xchi.loc[il_xchi.cname == \"PEORIA\", 'name'] = \\\n",
    "    il_xchi[il_xchi.cname == \"PEORIA\"][\"name\"].\\\n",
    "    str.replace(r'([A-Z]{2})[A-Z ]*', r'\\1 ')\n",
    "    \n",
    "### SANGAMON\n",
    "il_xchi.loc[il_xchi.cname == \"SANGAMON\", 'name'] = \\\n",
    "    il_xchi[il_xchi.cname == \"SANGAMON\"][\"name\"].\\\n",
    "    str.replace(\"SPRINGFIELD CITY \", \"CAPITAL \")\n",
    "\n",
    "il_xchi[\"name\"] = il_xchi[\"name\"].str.replace(\" 0\", \" \").str.replace(\" 0\", \" \")\n",
    "il_xchi.rename(columns = {\"cname\" : \"County\", \"name\" : \"Precinct\"}, inplace = True)\n",
    "il_xchi = il_xchi[[\"County\", \"Precinct\", \"geometry\"]]"
   ]
  },
  {
   "cell_type": "code",
   "execution_count": 6,
   "metadata": {
    "collapsed": true
   },
   "outputs": [],
   "source": [
    "cook = gpd.read_file(\"/media/jsaxon/brobdingnag/data/el_dv/il2016/cook_precincts_2016_mtie-43p4/cook_precincts_2016_mtie-43p4.shp\")\n",
    "cook.geometry = cook.geometry.centroid\n",
    "cook = cook.to_crs(epsg = epsg)\n",
    "cook[\"County\"] = \"COOK\"\n",
    "cook.rename(columns = {\"idpct_txt\" : \"Precinct\"}, inplace = True)\n",
    "cook = cook[[\"County\", \"Precinct\", \"geometry\"]]\n",
    "\n",
    "chicago = gpd.read_file(\"/media/jsaxon/brobdingnag/data/el_dv/il2016/chicago_precincts_2016_uvpq-qeeq/chicago_precincts_2016_uvpq-qeeq.shp\")\n",
    "chicago.geometry = chicago.geometry.centroid\n",
    "chicago = chicago.to_crs(epsg = epsg)\n",
    "chicago[\"County\"] = \"COOK\"\n",
    "chicago[\"Precinct\"] = chicago.full_text.str.replace(r'([0-9]{2})0([0-9]{2})', r'CHICAGO \\1-\\2').str.replace(r'([- ])0', r'\\1')\n",
    "chicago = chicago[[\"County\", \"Precinct\", \"geometry\"]]\n",
    "\n",
    "dupage = gpd.read_file(\"/media/jsaxon/brobdingnag/data/el_dv/il2016/dupage_precincts_2016/dupage_precincts_2016.shp\")\n",
    "dupage.geometry = dupage.geometry.centroid\n",
    "dupage = dupage.to_crs(epsg = epsg)\n",
    "dupage[\"Precinct\"] = dupage[\"PrecinctNa\"].str.upper()\n",
    "dupage[\"Precinct\"] = dupage[\"Precinct\"].str.replace(\"  \", \" \").str.replace(\"  \", \" \").str.replace(\"  \", \" \")\n",
    "dupage[\"County\"]   = dupage[\"COUNTY\"].str.upper()\n",
    "dupage = dupage[[\"County\", \"Precinct\", \"geometry\"]]\n",
    "\n",
    "lake = gpd.read_file(\"/media/jsaxon/brobdingnag/data/el_dv/il2016/lake_precincts_2016/lake_precincts_2016.shp\")\n",
    "lake.drop_duplicates(subset = [\"TWP_PCT\"], keep = \"last\", inplace = True) ## Mulitpolygons in separate rows.\n",
    "lake.geometry = lake.geometry.centroid\n",
    "lake = lake.to_crs(epsg = epsg)\n",
    "lake[\"County\"] = \"LAKE\"\n",
    "lake.rename(columns = {\"TWP_PCT\" : \"Precinct\"}, inplace = True)\n",
    "lake.Precinct = lake.Precinct.str.upper()\n",
    "lake.sort_values(by = \"Precinct\", inplace = True)\n",
    "lake.reset_index(inplace = True)\n",
    "lake = lake[[\"County\", \"Precinct\", \"geometry\"]]\n",
    "\n",
    "il_map = pd.concat([il_xchi, cook, chicago, dupage, lake]).sort_values(by = [\"County\", \"Precinct\"])"
   ]
  },
  {
   "cell_type": "code",
   "execution_count": 7,
   "metadata": {
    "collapsed": false
   },
   "outputs": [
    {
     "data": {
      "text/html": [
       "<div>\n",
       "<table border=\"1\" class=\"dataframe\">\n",
       "  <thead>\n",
       "    <tr style=\"text-align: right;\">\n",
       "      <th></th>\n",
       "      <th>County</th>\n",
       "      <th>Precinct</th>\n",
       "      <th>geometry</th>\n",
       "    </tr>\n",
       "  </thead>\n",
       "  <tbody>\n",
       "    <tr>\n",
       "      <th>0</th>\n",
       "      <td>ADAMS</td>\n",
       "      <td>BEVERLY 1</td>\n",
       "      <td>POINT (73906.06496118479 351237.4743319445)</td>\n",
       "    </tr>\n",
       "    <tr>\n",
       "      <th>1</th>\n",
       "      <td>ADAMS</td>\n",
       "      <td>BURTON 1</td>\n",
       "      <td>POINT (54322.2724241376 361690.4367009809)</td>\n",
       "    </tr>\n",
       "    <tr>\n",
       "      <th>2</th>\n",
       "      <td>ADAMS</td>\n",
       "      <td>CAMP POINT 1</td>\n",
       "      <td>POINT (68276.036512526 380561.1371571573)</td>\n",
       "    </tr>\n",
       "    <tr>\n",
       "      <th>3</th>\n",
       "      <td>ADAMS</td>\n",
       "      <td>CAMP POINT 2</td>\n",
       "      <td>POINT (63267.50489697983 380730.9523742922)</td>\n",
       "    </tr>\n",
       "    <tr>\n",
       "      <th>4</th>\n",
       "      <td>ADAMS</td>\n",
       "      <td>CLAYTON 1</td>\n",
       "      <td>POINT (74856.27947870269 380215.7364344085)</td>\n",
       "    </tr>\n",
       "  </tbody>\n",
       "</table>\n",
       "</div>"
      ],
      "text/plain": [
       "  County      Precinct                                     geometry\n",
       "0  ADAMS     BEVERLY 1  POINT (73906.06496118479 351237.4743319445)\n",
       "1  ADAMS      BURTON 1   POINT (54322.2724241376 361690.4367009809)\n",
       "2  ADAMS  CAMP POINT 1    POINT (68276.036512526 380561.1371571573)\n",
       "3  ADAMS  CAMP POINT 2  POINT (63267.50489697983 380730.9523742922)\n",
       "4  ADAMS     CLAYTON 1  POINT (74856.27947870269 380215.7364344085)"
      ]
     },
     "metadata": {},
     "output_type": "display_data"
    },
    {
     "data": {
      "text/html": [
       "<div>\n",
       "<table border=\"1\" class=\"dataframe\">\n",
       "  <thead>\n",
       "    <tr style=\"text-align: right;\">\n",
       "      <th></th>\n",
       "      <th>County</th>\n",
       "      <th>Precinct</th>\n",
       "      <th>geometry</th>\n",
       "    </tr>\n",
       "  </thead>\n",
       "  <tbody>\n",
       "    <tr>\n",
       "      <th>0</th>\n",
       "      <td>COOK</td>\n",
       "      <td>CHICAGO 39-12</td>\n",
       "      <td>POINT (350453.9592427192 589094.0398031819)</td>\n",
       "    </tr>\n",
       "    <tr>\n",
       "      <th>1</th>\n",
       "      <td>COOK</td>\n",
       "      <td>CHICAGO 39-39</td>\n",
       "      <td>POINT (349797.5885736513 590457.286943934)</td>\n",
       "    </tr>\n",
       "    <tr>\n",
       "      <th>2</th>\n",
       "      <td>COOK</td>\n",
       "      <td>CHICAGO 40-1</td>\n",
       "      <td>POINT (352878.032904998 590057.4713297357)</td>\n",
       "    </tr>\n",
       "    <tr>\n",
       "      <th>3</th>\n",
       "      <td>COOK</td>\n",
       "      <td>CHICAGO 40-2</td>\n",
       "      <td>POINT (352738.247366476 590838.4055039445)</td>\n",
       "    </tr>\n",
       "    <tr>\n",
       "      <th>4</th>\n",
       "      <td>COOK</td>\n",
       "      <td>CHICAGO 40-5</td>\n",
       "      <td>POINT (352793.4775271439 589401.0444795337)</td>\n",
       "    </tr>\n",
       "  </tbody>\n",
       "</table>\n",
       "</div>"
      ],
      "text/plain": [
       "  County       Precinct                                     geometry\n",
       "0   COOK  CHICAGO 39-12  POINT (350453.9592427192 589094.0398031819)\n",
       "1   COOK  CHICAGO 39-39   POINT (349797.5885736513 590457.286943934)\n",
       "2   COOK   CHICAGO 40-1   POINT (352878.032904998 590057.4713297357)\n",
       "3   COOK   CHICAGO 40-2   POINT (352738.247366476 590838.4055039445)\n",
       "4   COOK   CHICAGO 40-5  POINT (352793.4775271439 589401.0444795337)"
      ]
     },
     "metadata": {},
     "output_type": "display_data"
    },
    {
     "data": {
      "text/html": [
       "<div>\n",
       "<table border=\"1\" class=\"dataframe\">\n",
       "  <thead>\n",
       "    <tr style=\"text-align: right;\">\n",
       "      <th></th>\n",
       "      <th>County</th>\n",
       "      <th>Precinct</th>\n",
       "      <th>geometry</th>\n",
       "    </tr>\n",
       "  </thead>\n",
       "  <tbody>\n",
       "    <tr>\n",
       "      <th>0</th>\n",
       "      <td>COOK</td>\n",
       "      <td>7000003</td>\n",
       "      <td>POINT (316456.7823110322 605498.0491239224)</td>\n",
       "    </tr>\n",
       "    <tr>\n",
       "      <th>1</th>\n",
       "      <td>COOK</td>\n",
       "      <td>7000002</td>\n",
       "      <td>POINT (316328.1526855592 609023.5293875724)</td>\n",
       "    </tr>\n",
       "    <tr>\n",
       "      <th>2</th>\n",
       "      <td>COOK</td>\n",
       "      <td>7000006</td>\n",
       "      <td>POINT (316221.3544071526 608628.262448251)</td>\n",
       "    </tr>\n",
       "    <tr>\n",
       "      <th>3</th>\n",
       "      <td>COOK</td>\n",
       "      <td>7000001</td>\n",
       "      <td>POINT (316917.0576310802 607385.9649653181)</td>\n",
       "    </tr>\n",
       "    <tr>\n",
       "      <th>4</th>\n",
       "      <td>COOK</td>\n",
       "      <td>7000010</td>\n",
       "      <td>POINT (316874.9925300149 601174.0320932072)</td>\n",
       "    </tr>\n",
       "  </tbody>\n",
       "</table>\n",
       "</div>"
      ],
      "text/plain": [
       "  County Precinct                                     geometry\n",
       "0   COOK  7000003  POINT (316456.7823110322 605498.0491239224)\n",
       "1   COOK  7000002  POINT (316328.1526855592 609023.5293875724)\n",
       "2   COOK  7000006   POINT (316221.3544071526 608628.262448251)\n",
       "3   COOK  7000001  POINT (316917.0576310802 607385.9649653181)\n",
       "4   COOK  7000010  POINT (316874.9925300149 601174.0320932072)"
      ]
     },
     "metadata": {},
     "output_type": "display_data"
    },
    {
     "data": {
      "text/html": [
       "<div>\n",
       "<table border=\"1\" class=\"dataframe\">\n",
       "  <thead>\n",
       "    <tr style=\"text-align: right;\">\n",
       "      <th></th>\n",
       "      <th>County</th>\n",
       "      <th>Precinct</th>\n",
       "      <th>geometry</th>\n",
       "    </tr>\n",
       "  </thead>\n",
       "  <tbody>\n",
       "    <tr>\n",
       "      <th>0</th>\n",
       "      <td>DUPAGE</td>\n",
       "      <td>MILTON 36</td>\n",
       "      <td>POINT (316133.2273101722 575249.890649972)</td>\n",
       "    </tr>\n",
       "    <tr>\n",
       "      <th>1</th>\n",
       "      <td>DUPAGE</td>\n",
       "      <td>MILTON 50</td>\n",
       "      <td>POINT (323557.1836936582 572505.6394147861)</td>\n",
       "    </tr>\n",
       "    <tr>\n",
       "      <th>2</th>\n",
       "      <td>DUPAGE</td>\n",
       "      <td>MILTON 97</td>\n",
       "      <td>POINT (320965.5381514771 572310.4488267531)</td>\n",
       "    </tr>\n",
       "    <tr>\n",
       "      <th>3</th>\n",
       "      <td>DUPAGE</td>\n",
       "      <td>MILTON 82</td>\n",
       "      <td>POINT (316901.463397111 575261.7274294371)</td>\n",
       "    </tr>\n",
       "    <tr>\n",
       "      <th>4</th>\n",
       "      <td>DUPAGE</td>\n",
       "      <td>ADDISON 32</td>\n",
       "      <td>POINT (329851.0200212101 584772.8066258065)</td>\n",
       "    </tr>\n",
       "  </tbody>\n",
       "</table>\n",
       "</div>"
      ],
      "text/plain": [
       "   County    Precinct                                     geometry\n",
       "0  DUPAGE   MILTON 36   POINT (316133.2273101722 575249.890649972)\n",
       "1  DUPAGE   MILTON 50  POINT (323557.1836936582 572505.6394147861)\n",
       "2  DUPAGE   MILTON 97  POINT (320965.5381514771 572310.4488267531)\n",
       "3  DUPAGE   MILTON 82   POINT (316901.463397111 575261.7274294371)\n",
       "4  DUPAGE  ADDISON 32  POINT (329851.0200212101 584772.8066258065)"
      ]
     },
     "metadata": {},
     "output_type": "display_data"
    },
    {
     "data": {
      "text/html": [
       "<div>\n",
       "<table border=\"1\" class=\"dataframe\">\n",
       "  <thead>\n",
       "    <tr style=\"text-align: right;\">\n",
       "      <th></th>\n",
       "      <th>County</th>\n",
       "      <th>Precinct</th>\n",
       "      <th>geometry</th>\n",
       "    </tr>\n",
       "  </thead>\n",
       "  <tbody>\n",
       "    <tr>\n",
       "      <th>0</th>\n",
       "      <td>LAKE</td>\n",
       "      <td>ANTIOCH 1</td>\n",
       "      <td>POINT (313455.2824450297 644587.6970740876)</td>\n",
       "    </tr>\n",
       "    <tr>\n",
       "      <th>1</th>\n",
       "      <td>LAKE</td>\n",
       "      <td>ANTIOCH 10</td>\n",
       "      <td>POINT (317349.1887767715 643366.333227507)</td>\n",
       "    </tr>\n",
       "    <tr>\n",
       "      <th>2</th>\n",
       "      <td>LAKE</td>\n",
       "      <td>ANTIOCH 11</td>\n",
       "      <td>POINT (319349.1672527422 642662.5099267538)</td>\n",
       "    </tr>\n",
       "    <tr>\n",
       "      <th>3</th>\n",
       "      <td>LAKE</td>\n",
       "      <td>ANTIOCH 12</td>\n",
       "      <td>POINT (321252.4178325051 642650.5837171887)</td>\n",
       "    </tr>\n",
       "    <tr>\n",
       "      <th>4</th>\n",
       "      <td>LAKE</td>\n",
       "      <td>ANTIOCH 13</td>\n",
       "      <td>POINT (324680.16576663 642726.3434016227)</td>\n",
       "    </tr>\n",
       "  </tbody>\n",
       "</table>\n",
       "</div>"
      ],
      "text/plain": [
       "  County    Precinct                                     geometry\n",
       "0   LAKE   ANTIOCH 1  POINT (313455.2824450297 644587.6970740876)\n",
       "1   LAKE  ANTIOCH 10   POINT (317349.1887767715 643366.333227507)\n",
       "2   LAKE  ANTIOCH 11  POINT (319349.1672527422 642662.5099267538)\n",
       "3   LAKE  ANTIOCH 12  POINT (321252.4178325051 642650.5837171887)\n",
       "4   LAKE  ANTIOCH 13    POINT (324680.16576663 642726.3434016227)"
      ]
     },
     "metadata": {},
     "output_type": "display_data"
    }
   ],
   "source": [
    "display(il_xchi.head())\n",
    "display(chicago.head())\n",
    "display(cook   .head())\n",
    "display(dupage .head())\n",
    "display(lake   .head())"
   ]
  },
  {
   "cell_type": "code",
   "execution_count": 8,
   "metadata": {
    "collapsed": false
   },
   "outputs": [
    {
     "data": {
      "image/png": "[encoded data removed]",
      "text/plain": [
       "<matplotlib.figure.Figure at 0x7f9c9136d160>"
      ]
     },
     "metadata": {},
     "output_type": "display_data"
    }
   ],
   "source": [
    "ax = il_xchi.plot(figsize = (4,4), color = \"k\")\n",
    "cook.plot(ax = ax, color = \"r\")\n",
    "chicago.plot(ax = ax, color = \"m\")\n",
    "dupage.plot(ax = ax, color = \"b\")\n",
    "lake.plot(ax = ax, color = \"g\")\n",
    "ax.set_axis_off()"
   ]
  },
  {
   "cell_type": "code",
   "execution_count": 9,
   "metadata": {
    "collapsed": false
   },
   "outputs": [
    {
     "data": {
      "text/html": [
       "<div>\n",
       "<table border=\"1\" class=\"dataframe\">\n",
       "  <thead>\n",
       "    <tr style=\"text-align: right;\">\n",
       "      <th>PartyName</th>\n",
       "      <th>County</th>\n",
       "      <th>Precinct</th>\n",
       "      <th>DEMOCRATIC</th>\n",
       "      <th>REPUBLICAN</th>\n",
       "      <th>GREEN</th>\n",
       "      <th>LIBERTARIAN</th>\n",
       "      <th>NONPARTISAN</th>\n",
       "    </tr>\n",
       "  </thead>\n",
       "  <tbody>\n",
       "    <tr>\n",
       "      <th>0</th>\n",
       "      <td>ADAMS</td>\n",
       "      <td>BEVERLY</td>\n",
       "      <td>18</td>\n",
       "      <td>150</td>\n",
       "      <td>1</td>\n",
       "      <td>2</td>\n",
       "      <td>0</td>\n",
       "    </tr>\n",
       "    <tr>\n",
       "      <th>1</th>\n",
       "      <td>ADAMS</td>\n",
       "      <td>BURTON</td>\n",
       "      <td>60</td>\n",
       "      <td>455</td>\n",
       "      <td>3</td>\n",
       "      <td>9</td>\n",
       "      <td>0</td>\n",
       "    </tr>\n",
       "    <tr>\n",
       "      <th>2</th>\n",
       "      <td>ADAMS</td>\n",
       "      <td>CAMP POINT 1</td>\n",
       "      <td>69</td>\n",
       "      <td>331</td>\n",
       "      <td>3</td>\n",
       "      <td>12</td>\n",
       "      <td>0</td>\n",
       "    </tr>\n",
       "    <tr>\n",
       "      <th>3</th>\n",
       "      <td>ADAMS</td>\n",
       "      <td>CAMP POINT 2</td>\n",
       "      <td>47</td>\n",
       "      <td>376</td>\n",
       "      <td>2</td>\n",
       "      <td>9</td>\n",
       "      <td>0</td>\n",
       "    </tr>\n",
       "    <tr>\n",
       "      <th>4</th>\n",
       "      <td>ADAMS</td>\n",
       "      <td>CLAYTON</td>\n",
       "      <td>76</td>\n",
       "      <td>359</td>\n",
       "      <td>1</td>\n",
       "      <td>10</td>\n",
       "      <td>0</td>\n",
       "    </tr>\n",
       "  </tbody>\n",
       "</table>\n",
       "</div>"
      ],
      "text/plain": [
       "PartyName County      Precinct  DEMOCRATIC  REPUBLICAN  GREEN  LIBERTARIAN  \\\n",
       "0          ADAMS       BEVERLY          18         150      1            2   \n",
       "1          ADAMS        BURTON          60         455      3            9   \n",
       "2          ADAMS  CAMP POINT 1          69         331      3           12   \n",
       "3          ADAMS  CAMP POINT 2          47         376      2            9   \n",
       "4          ADAMS       CLAYTON          76         359      1           10   \n",
       "\n",
       "PartyName  NONPARTISAN  \n",
       "0                    0  \n",
       "1                    0  \n",
       "2                    0  \n",
       "3                    0  \n",
       "4                    0  "
      ]
     },
     "execution_count": 9,
     "metadata": {},
     "output_type": "execute_result"
    }
   ],
   "source": [
    "votes_2016 = pd.read_csv(\"/media/jsaxon/brobdingnag/data/el_dv/il2016/il_2016_president.csv\")\n",
    "votes_2016 = votes_2016[votes_2016.VoteCount > 0]\n",
    "votes_2016['PrecinctName'] = votes_2016[\"PrecinctName\"].str.replace(\" PCT\", \"\").str.upper()\n",
    "votes_2016['PrecinctName'] = votes_2016[\"PrecinctName\"].str.replace(\" PCT\", \"\").str.upper()\n",
    "votes_2016['PrecinctName'] = votes_2016[\"PrecinctName\"].str.replace(\" 0\", \"\").str.replace(\" 0\", \"\")\n",
    "votes_2016['JurisName']    = votes_2016[\"JurisName\"].str.upper()\n",
    "votes_2016['JurisName']    = votes_2016[\"JurisName\"].str.replace(\"DEWITT\", \"DE WITT\")\n",
    "votes_2016['JurisName']    = votes_2016[\"JurisName\"].str.replace(\"JODAVIESS\", \"JO DAVIESS\")\n",
    "votes_2016['PartyName']    = votes_2016[\"PartyName\"].str.upper()\n",
    "votes_2016.loc[votes_2016.PartyName == \"DEMOCRAT\", 'PartyName'] = \"DEMOCRATIC\"\n",
    "for pid, party in [[11, \"DEMOCRATIC\"], [12, \"REPUBLICAN\"], [13, \"GREEN\"], [19, \"LIBERTARIAN\"], [99, \"NONPARTISAN\"]]:\n",
    "    votes_2016.loc[votes_2016.PartyName.isnull() & (votes_2016.EISPartyID == pid), \"PartyName\"] = party\n",
    "\n",
    "votes_2016 = pd.pivot_table(votes_2016, values = \"VoteCount\", index = [\"JurisName\", \"PrecinctName\"], columns = [\"PartyName\"])\n",
    "votes_2016 = votes_2016[[\"DEMOCRATIC\", \"REPUBLICAN\", \"GREEN\", \"LIBERTARIAN\", \"NONPARTISAN\"]]\n",
    "votes_2016 = votes_2016.reset_index()\n",
    "\n",
    "\n",
    "### FIXER UPPERS....\n",
    "\n",
    "### KANE COUNTY\n",
    "for x, y in [[\"AU\", \"AURORA\"], [\"BA\", \"BATAVIA\"], [\"BB\", \"BLACKBERRY\"], [\"BR\", \"BIG ROCK\"], [\"GE\", \"GENEVA\"],\n",
    "             [\"BU\", \"BURLINGTON\"], [\"DU\", \"DUNDEE\"], [\"HA\", \"HAMPSHIRE\"], [\"CA\", \"CAMPTON\"], [\"EL\", \"ELGIN\"],\n",
    "             [\"KA\", \"KANEVILLE\"], [\"RU\", \"RUTLAND\"], [\"SC\", \"ST CHARLES\"], [\"SG\", \"SUGAR GROVE\"]]:\n",
    "    votes_2016.loc[votes_2016.JurisName == \"KANE\", 'PrecinctName'] = \\\n",
    "      votes_2016[votes_2016.JurisName == \"KANE\"][\"PrecinctName\"].str.replace(x, y + \" \")\n",
    "\n",
    "for x in range(3):\n",
    "    votes_2016.loc[votes_2016.JurisName == \"KANE\", 'PrecinctName'] = \\\n",
    "      votes_2016[votes_2016.JurisName == \"KANE\"][\"PrecinctName\"].str.replace(\" 0\", \" \")\n",
    "\n",
    "### KNOX COUNTY\n",
    "\n",
    "## Get rid of a single dem vote through the elections office.\n",
    "votes_2016 = votes_2016[(votes_2016.JurisName != \"KNOX\") | (votes_2016.PrecinctName != \"ELECTIONS OFFICE\")]\n",
    "for x, y in [[\"FIRST\", \"1\"], [\"SECOND\", \"2\"], [\"THIRD\", \"3\"], [\"FOURTH\", \"4\"],\n",
    "             [\"FIFTH\", \"5\"], [\"SIX\", \"6\"], [\"SEVEN\", \"7\"]]:\n",
    "    votes_2016.loc[votes_2016.JurisName == \"KNOX\", 'PrecinctName'] = \\\n",
    "      votes_2016[votes_2016.JurisName == \"KNOX\"][\"PrecinctName\"].str.replace(x, y + \" \")\n",
    "\n",
    "\n",
    "### PEORIA\n",
    "votes_2016.loc[votes_2016.JurisName == \"PEORIA\", 'PrecinctName'] = \\\n",
    "  votes_2016[votes_2016.JurisName == \"PEORIA\"][\"PrecinctName\"].str.replace('([A-Z]{2})', r'\\1 ')\n",
    "for x in range(3):\n",
    "    votes_2016.loc[votes_2016.JurisName == \"PEORIA\", 'PrecinctName'] = \\\n",
    "        votes_2016[votes_2016.JurisName == \"PEORIA\"][\"PrecinctName\"].str.replace(' 0', r' ')\n",
    "\n",
    "### DUPAGE \n",
    "votes_2016.loc[votes_2016.JurisName == \"DUPAGE\", 'PrecinctName'] = \\\n",
    "    votes_2016[votes_2016.JurisName == \"DUPAGE\"][\"PrecinctName\"].str.replace(r'([A-Z]*)([0-9]*)', r'\\1 \\2')\\\n",
    "                                                                .str.replace(\"  \", \" \")\\\n",
    "                                                                .str.replace(\"  \", \" \")\\\n",
    "                                                                .str.replace(\"  \", \" \")\n",
    "\n",
    "                \n",
    "### COOK :: this is the only one missing in the shapefile, in Wheeling.\n",
    "votes_2016.loc[votes_2016.PrecinctName == \"9600088\", \"PrecinctName\"] = \"9600087\" ## This is the only non-match.\n",
    "\n",
    "                \n",
    "### Cities :: \n",
    "\n",
    "## AURORA\n",
    "votes_2016.loc[votes_2016.JurisName == \"CITY OF AURORA\", 'PrecinctName'] = \\\n",
    "    votes_2016[votes_2016.JurisName == \"CITY OF AURORA\"][\"PrecinctName\"].\\\n",
    "    str.replace(\"WARD\", \"AURORA CITY \")\n",
    "votes_2016.loc[votes_2016.JurisName == \"CITY OF AURORA\", 'JurisName'] = \"KANE\"\n",
    "\n",
    "## BLOOMINGTON\n",
    "votes_2016.loc[votes_2016.JurisName == \"CITY OF BLOOMINGTON\", 'PrecinctName'] = \\\n",
    "    votes_2016[votes_2016.JurisName == \"CITY OF BLOOMINGTON\"][\"PrecinctName\"].\\\n",
    "    str.replace(\"PRECINCT\", \"BLOOMINGTON CITY\")\n",
    "votes_2016.loc[votes_2016.JurisName == \"CITY OF BLOOMINGTON\", 'JurisName'] = \"MCLEAN\"\n",
    "\n",
    "## CHICAGO\n",
    "votes_2016.loc[votes_2016.JurisName == \"CITY OF CHICAGO\", \"PrecinctName\"] = \\\n",
    "    votes_2016[votes_2016.JurisName == \"CITY OF CHICAGO\"][\"PrecinctName\"]\\\n",
    "    .str.replace(r'[A-Z ]*([0-9]{,2})[A-Z ]*([0-9]{,2})', r'CHICAGO \\1-\\2')\n",
    "votes_2016.loc[votes_2016.JurisName == \"CITY OF CHICAGO\", \"JurisName\"] = \"COOK\"\n",
    "\n",
    "## DANVILLE\n",
    "votes_2016.loc[votes_2016.JurisName == \"CITY OF DANVILLE\", 'PrecinctName'] = \\\n",
    "    votes_2016[votes_2016.JurisName == \"CITY OF DANVILLE\"][\"PrecinctName\"].str.replace(\"PRECINCT\", \"DANVILLE CITY\")\n",
    "votes_2016.loc[votes_2016.JurisName == \"CITY OF DANVILLE\", 'JurisName'] = \"VERMILION\"\n",
    "\n",
    "## EAST ST LOUIS\n",
    "votes_2016.loc[votes_2016.JurisName == \"CITY OF EAST ST. LOUIS\", 'PrecinctName'] = \\\n",
    "    votes_2016[votes_2016.JurisName == \"CITY OF EAST ST. LOUIS\"][\"PrecinctName\"].\\\n",
    "    str.replace(\"PRECINCT\", \"EAST ST. LOUIS\")\n",
    "votes_2016.loc[votes_2016.JurisName == \"CITY OF EAST ST. LOUIS\", 'JurisName'] = \"ST. CLAIR\"\n",
    "\n",
    "# GALESBURG\n",
    "votes_2016.loc[votes_2016.JurisName == \"CITY OF GALESBURG\", 'PrecinctName'] = \\\n",
    "    votes_2016[votes_2016.JurisName == \"CITY OF GALESBURG\"][\"PrecinctName\"].\\\n",
    "    str.replace(\"PRECINCT\", \"GALESBURG CITY\")\n",
    "votes_2016.loc[votes_2016.JurisName == \"CITY OF GALESBURG\", 'JurisName'] = \"KNOX\"\n",
    "\n",
    "## ROCKFORD\n",
    "votes_2016.loc[votes_2016.JurisName == \"CITY OF ROCKFORD\", 'PrecinctName'] = \\\n",
    "    votes_2016[votes_2016.JurisName == \"CITY OF ROCKFORD\"][\"PrecinctName\"].\\\n",
    "    str.replace(r'WARD ([0-9]*) PRECINCT ([0-9]*)', r'ROCKFORD WD \\1 PCT \\2')\n",
    "votes_2016.loc[votes_2016.JurisName == \"CITY OF ROCKFORD\", 'JurisName'] = \"WINNEBAGO\"\n",
    "\n",
    "\n",
    "votes_2016 = votes_2016.set_index([\"JurisName\", \"PrecinctName\"])[[\"DEMOCRATIC\", \"REPUBLICAN\", \"GREEN\", \"LIBERTARIAN\", \"NONPARTISAN\"]].fillna(0).astype(int)\n",
    "votes_2016.sort_index(inplace = True)\n",
    "votes_2016 = votes_2016.reset_index()\n",
    "\n",
    "votes_2016.rename(columns = {\"JurisName\" : \"County\", \"PrecinctName\" : \"Precinct\"}, inplace = True)\n",
    "votes_2016.head()"
   ]
  },
  {
   "cell_type": "code",
   "execution_count": 10,
   "metadata": {
    "collapsed": true
   },
   "outputs": [],
   "source": [
    "for cname in sorted(list(il_co.County)):\n",
    "    # print(cname, votes_2016.loc[votes_2016.County == cname].shape[0])\n",
    "    if cname in [\"COOK\", \"DUPAGE\", \"LAKE\"]: continue\n",
    "        \n",
    "    votes_2016.loc[votes_2016.County == cname, 'Precinct'] = \\\n",
    "      votes_2016[votes_2016.County == cname]['Precinct'].\\\n",
    "        apply(lambda x: jf_jw_match(x, il_xchi[il_xchi.County == cname][\"Precinct\"])[0])\n",
    "        "
   ]
  },
  {
   "cell_type": "code",
   "execution_count": 11,
   "metadata": {
    "collapsed": true
   },
   "outputs": [],
   "source": [
    "il_vote_map_2016 = pd.merge(il_map, votes_2016, how = \"right\")\n",
    "if il_vote_map_2016[il_vote_map_2016.geometry.isnull()].shape[0]: print(\"WARNING -- UNMATCHED!!\")"
   ]
  },
  {
   "cell_type": "code",
   "execution_count": 12,
   "metadata": {
    "collapsed": false
   },
   "outputs": [
    {
     "data": {
      "text/plain": [
       "<matplotlib.axes._subplots.AxesSubplot at 0x7f9c84868f98>"
      ]
     },
     "execution_count": 12,
     "metadata": {},
     "output_type": "execute_result"
    },
    {
     "data": {
      "image/png": "[encoded data removed]",
      "text/plain": [
       "<matplotlib.figure.Figure at 0x7f9c84869fd0>"
      ]
     },
     "metadata": {},
     "output_type": "display_data"
    }
   ],
   "source": [
    "il_vote_map_2016.plot()"
   ]
  },
  {
   "cell_type": "code",
   "execution_count": 13,
   "metadata": {
    "collapsed": true
   },
   "outputs": [],
   "source": [
    "il_vote_map_2016.to_file(\"/media/jsaxon/brobdingnag/data/el_dv/il2016/il_votes_2016.shp\")"
   ]
  },
  {
   "cell_type": "code",
   "execution_count": 14,
   "metadata": {
    "collapsed": false
   },
   "outputs": [],
   "source": [
    "votes_2016 = gpd.read_file(\"/media/jsaxon/brobdingnag/data/el_dv/il2016/il_votes_2016.shp\")\n",
    "votes_2016.crs = {'init': 'epsg:3528', 'no_defs': True}\n",
    "votes_2016.rename(columns = {\"DEMOCRATIC\" : \"D16\", \"REPUBLICAN\" : \"R16\", \"GREEN\" : \"G16\", \n",
    "                             \"LIBERTARIA\" : 'L16', 'NONPARTISA' : 'N16'}, inplace = True)\n",
    "votes_2016[\"DFR16\"] = votes_2016.D16 / (votes_2016.D16 + votes_2016.R16)\n",
    "\n",
    "# ax = votes_2016.plot(column = \"DFR16\", cmap = \"RdBu\", alpha = 0.75, linewidth = 0, figsize = (4, 4))\n",
    "# ax.set_axis_off()"
   ]
  },
  {
   "cell_type": "code",
   "execution_count": 15,
   "metadata": {
    "collapsed": false
   },
   "outputs": [],
   "source": [
    "con = psycopg2.connect(database = \"census\", user = user, password = passwd,\n",
    "                       host = \"saxon.harris.uchicago.edu\", port = 5432)\n",
    "trdf = gpd.GeoDataFrame.from_postgis(\"\"\"SELECT \n",
    "                                          rn.rn, ST_Transform(geom, 3528) geometry\n",
    "                                        FROM census_tracts_2015 as tr\n",
    "                                        JOIN (SELECT state, county, tract,\n",
    "                                              row_number() over (PARTITION BY state ORDER BY county, tract NULLS LAST) - 1 as rn\n",
    "                                              FROM census_tracts_2015) rn ON\n",
    "                                          tr.state  = rn.state  AND\n",
    "                                          tr.county = rn.county AND\n",
    "                                          tr.tract  = rn.tract\n",
    "                                        WHERE tr.state = 17\n",
    "                                        ORDER BY rn.rn;\n",
    "                                     \"\"\",\n",
    "                                     con, geom_col = \"geometry\", crs = from_epsg(3528))"
   ]
  },
  {
   "cell_type": "code",
   "execution_count": 16,
   "metadata": {
    "collapsed": false
   },
   "outputs": [],
   "source": [
    "tr_votes_2008 = gpd.tools.sjoin(votes_2008, trdf, op = \"within\").groupby(\"rn\").sum()[[\"D08\", \"R08\"]]\n",
    "tr_votes_2016 = gpd.tools.sjoin(votes_2016, trdf, op = \"within\").groupby(\"rn\").sum()[[\"D16\", \"R16\"]]\n",
    "tr_votes = tr_votes_2008.join(tr_votes_2016).fillna(0).astype(int)\n",
    "# tr_votes = tr_votes.reset_index()\n",
    "tr_votes.to_csv(\"il_votes.csv\")"
   ]
  },
  {
   "cell_type": "code",
   "execution_count": 17,
   "metadata": {
    "collapsed": false
   },
   "outputs": [
    {
     "data": {
      "text/html": [
       "<div>\n",
       "<table border=\"1\" class=\"dataframe\">\n",
       "  <thead>\n",
       "    <tr style=\"text-align: right;\">\n",
       "      <th></th>\n",
       "      <th>D08</th>\n",
       "      <th>R08</th>\n",
       "      <th>D16</th>\n",
       "      <th>R16</th>\n",
       "    </tr>\n",
       "    <tr>\n",
       "      <th>rn</th>\n",
       "      <th></th>\n",
       "      <th></th>\n",
       "      <th></th>\n",
       "      <th></th>\n",
       "    </tr>\n",
       "  </thead>\n",
       "  <tbody>\n",
       "    <tr>\n",
       "      <th>0</th>\n",
       "      <td>995</td>\n",
       "      <td>1500</td>\n",
       "      <td>711</td>\n",
       "      <td>1841</td>\n",
       "    </tr>\n",
       "    <tr>\n",
       "      <th>1</th>\n",
       "      <td>499</td>\n",
       "      <td>676</td>\n",
       "      <td>162</td>\n",
       "      <td>436</td>\n",
       "    </tr>\n",
       "    <tr>\n",
       "      <th>2</th>\n",
       "      <td>555</td>\n",
       "      <td>599</td>\n",
       "      <td>399</td>\n",
       "      <td>780</td>\n",
       "    </tr>\n",
       "    <tr>\n",
       "      <th>3</th>\n",
       "      <td>779</td>\n",
       "      <td>699</td>\n",
       "      <td>693</td>\n",
       "      <td>1077</td>\n",
       "    </tr>\n",
       "    <tr>\n",
       "      <th>4</th>\n",
       "      <td>373</td>\n",
       "      <td>281</td>\n",
       "      <td>400</td>\n",
       "      <td>870</td>\n",
       "    </tr>\n",
       "  </tbody>\n",
       "</table>\n",
       "</div>"
      ],
      "text/plain": [
       "    D08   R08  D16   R16\n",
       "rn                      \n",
       "0   995  1500  711  1841\n",
       "1   499   676  162   436\n",
       "2   555   599  399   780\n",
       "3   779   699  693  1077\n",
       "4   373   281  400   870"
      ]
     },
     "execution_count": 17,
     "metadata": {},
     "output_type": "execute_result"
    }
   ],
   "source": [
    "votes = pd.read_csv(\"il_votes.csv\", index_col = \"rn\")\n",
    "votes.head()"
   ]
  }
 ],
 "metadata": {
  "anaconda-cloud": {},
  "kernelspec": {
   "display_name": "Python [conda root]",
   "language": "python",
   "name": "conda-root-py"
  },
  "language_info": {
   "codemirror_mode": {
    "name": "ipython",
    "version": 3
   },
   "file_extension": ".py",
   "mimetype": "text/x-python",
   "name": "python",
   "nbconvert_exporter": "python",
   "pygments_lexer": "ipython3",
   "version": "3.5.2"
  }
 },
 "nbformat": 4,
 "nbformat_minor": 1
}
