{
 "cells": [
  {
   "cell_type": "code",
   "execution_count": 1,
   "metadata": {
    "collapsed": false,
    "deletable": true,
    "editable": true
   },
   "outputs": [
    {
     "name": "stdout",
     "output_type": "stream",
     "text": [
      "Optimization terminated successfully.\n",
      "         Current function value: 0.146857\n",
      "         Iterations 7\n",
      "Optimization terminated successfully.\n",
      "         Current function value: 0.170656\n",
      "         Iterations 7\n"
     ]
    },
    {
     "name": "stderr",
     "output_type": "stream",
     "text": [
      "/home/jsaxon/anaconda3/lib/python3.5/site-packages/statsmodels/compat/pandas.py:56: FutureWarning: The pandas.core.datetools module is deprecated and will be removed in a future version. Please use the pandas.tseries module instead.\n",
      "  from pandas.core import datetools\n"
     ]
    }
   ],
   "source": [
    "from dist_tools import *\n",
    "\n",
    "# import re\n",
    "# import scipy\n",
    "# import math\n",
    "# import shapely\n",
    "# from shapely import wkt\n",
    "# from shapely.geometry import Point\n",
    "\n",
    "# from scipy.spatial import Voronoi, voronoi_plot_2d\n",
    "# from sklearn.decomposition.pca import PCA\n",
    "\n",
    "# from scipy.stats import norm\n",
    "# import statsmodels.api as sm\n",
    "# import statsmodels.discrete.discrete_model as sm_dm\n",
    "\n",
    "# from scc import *  ## Nayuki minimum bounding circle, instead of miniball.\n",
    "\n",
    "%matplotlib inline"
   ]
  },
  {
   "cell_type": "code",
   "execution_count": 12,
   "metadata": {
    "collapsed": false,
    "deletable": true,
    "editable": true
   },
   "outputs": [],
   "source": [
    "def ctr(group, w):\n",
    "    \n",
    "    p = group[w]\n",
    "    xctr = (group[\"x\"] * p).sum() / p.sum()\n",
    "    yctr = (group[\"y\"] * p).sum() / p.sum()\n",
    "    \n",
    "    return Point([xctr, yctr])\n",
    "\n",
    "\n",
    "def avg_interperson_distance(group):\n",
    "\n",
    "    dist2 =  scipy.spatial.distance.cdist(group[[\"x\", \"y\"]].as_matrix(),\n",
    "                                          group[[\"x\", \"y\"]].as_matrix(),\n",
    "                                          metric = 'euclidean')\n",
    "\n",
    "    interp_dist = np.dot(np.dot(group[\"pop\"], dist2), group[\"pop\"]) / \\\n",
    "                  np.dot(group[\"pop\"][:,np.newaxis], group[\"pop\"][np.newaxis,:]).sum()\n",
    "\n",
    "    return interp_dist # * 0.000621371 # meters to miles\n",
    "\n",
    "\n",
    "def normed_inertia(group, d, w):\n",
    "\n",
    "    I = (group[d]**2 * group[w]).sum()\n",
    "    In = group[\"area\"].sum() * group[w].sum() / 2 / math.pi\n",
    "\n",
    "    return In / I \n",
    "\n",
    "\n",
    "def R_circumscribing(group): return make_circle([xy for xy in zip(group[\"x\"], group[\"y\"])])[2]\n",
    "\n",
    "def R_mean(group): return (group[\"area\"] * group[\"dctr\"]).sum() / group[\"area\"].sum()\n",
    "def R_dyn(group):  return np.sqrt((group[\"area\"] * group[\"dctr\"]**2).sum() / group[\"area\"].sum())\n",
    "def R_harm(group): return group[\"area\"].sum() / (group[\"area\"] / group[\"dctr\"]).sum()\n",
    "\n",
    "def get_points(x):\n",
    "    \n",
    "    l = x if type(x) is shapely.geometry.multipolygon.MultiPolygon else [x]\n",
    "    \n",
    "    pts = []\n",
    "    for poly in l:\n",
    "        for pt in poly.exterior.coords:\n",
    "            pts.append(pt)\n",
    "        for ir in poly.interiors:\n",
    "            for pt in ir.coords:\n",
    "                pts.append(pt)\n",
    "\n",
    "    return pts\n",
    "\n",
    "\n",
    "def get_lic(poly):\n",
    "    \n",
    "    # simp = poly.simplify(100)\n",
    "    pts = get_points(poly)\n",
    "\n",
    "    # print(pts)\n",
    "    vor = Voronoi(pts)\n",
    "\n",
    "    max_d2, lic_ctr, lic_r = 0, 0, 0\n",
    "    for vtxi, vtx in enumerate(vor.vertices):\n",
    "\n",
    "        if not poly.contains(Point(vtx)):\n",
    "            continue\n",
    "\n",
    "        region = [ri for ri, r in enumerate(vor.regions) if vtxi in r][0]\n",
    "\n",
    "        source = None\n",
    "        for pti, pt_reg in enumerate(vor.point_region):\n",
    "            if region == pt_reg: \n",
    "                source = vor.points[pti]\n",
    "                break\n",
    "\n",
    "        d2 = (vtx[0] - source[0])**2 + (vtx[1] - source[1])**2\n",
    "\n",
    "        if d2 > max_d2:\n",
    "\n",
    "            max_d2 = d2\n",
    "            lic_ctr, lic_r = tuple(vtx), math.sqrt(d2)\n",
    "\n",
    "    return lic_ctr, lic_r\n",
    "\n",
    "\n",
    "def get_lic_circ(poly):\n",
    "\n",
    "    ctr, R = get_lic(poly)\n",
    "    return Point(ctr).buffer(R)\n",
    "    \n",
    "def R_inscribed(poly): return get_lic(poly)[1]\n",
    "\n",
    "def get_exchange_area(poly):\n",
    "    \n",
    "    R = math.sqrt(poly.area/math.pi)\n",
    "    return poly.intersection(Point(poly.centroid).buffer(R))\n",
    "\n",
    "def exchange(poly):\n",
    "    \n",
    "    R = math.sqrt(poly.area/math.pi)\n",
    "    return poly.intersection(Point(poly.centroid).buffer(R)).area / poly.area\n",
    "\n",
    "def axis_ratio(group):\n",
    "\n",
    "    pca = PCA()\n",
    "    pca.fit(group[[\"x\", \"y\"]])\n",
    "    \n",
    "    return pca.explained_variance_[1]/pca.explained_variance_[0]\n",
    "\n",
    "\n",
    "def rohrbach(group):\n",
    "    \n",
    "    obj = (group[\"dperim\"] * group[\"area\"]).sum()\n",
    "    R3 = math.pow(group[\"area\"].sum()/math.pi, 3/2)\n",
    "                  \n",
    "    return obj / (math.pi * R3/3)\n",
    "\n",
    "def get_state_info(usps):\n",
    "    \n",
    "    st = pd.read_sql(\"select seats, epsg, lower(usps) usps, fips from states where usps = upper('{}');\".format(usps),\n",
    "                     con = psycopg2.connect(database = \"census\", user = user, password = passwd,\n",
    "                                            host = \"saxon.harris.uchicago.edu\", port = 5432)).loc[0].to_dict()\n",
    "\n",
    "    return st[\"epsg\"], st[\"fips\"], st[\"seats\"]\n",
    "\n",
    "\n",
    "def get_state_cd_map(usps, session, year, epsg):\n",
    "\n",
    "    cd_gdf = gpd.GeoDataFrame.from_postgis(\"\"\"SELECT cd, ST_Transform(cd.geom, epsg) geometry\n",
    "                                              FROM cd JOIN states ON cd.state = fips\n",
    "                                              WHERE states.usps = UPPER('{}') and sessn = {};\"\"\".format(usps, session),\n",
    "                                           con = psycopg2.connect(database = \"census\", user = user, password = passwd,\n",
    "                                                                  host = \"saxon.harris.uchicago.edu\", port = 5432),\n",
    "                                           geom_col = \"geometry\", crs = from_epsg(epsg), index_col = \"cd\")\n",
    "    \n",
    "    cd_gdf[\"usps\"] = usps.upper()\n",
    "    cd_gdf[\"congress\"] = session\n",
    "    cd_gdf[\"year\"] = year\n",
    "    \n",
    "    return cd_gdf\n",
    "\n",
    "\n",
    "def get_state_tracts(usps, year = 2015):\n",
    "\n",
    "    tr_gdf = gpd.GeoDataFrame.from_postgis(\"\"\"SELECT rn, pop, \n",
    "                                                     ST_Area(ST_Transform(tr.geom, epsg)) area,\n",
    "                                                     ST_Centroid(ST_Transform(tr.geom, epsg)) geometry,\n",
    "                                                     ST_AsText(ST_Transform(tr.geom, epsg)) shape,\n",
    "                                                     ST_X(ST_Centroid(ST_Transform(tr.geom, epsg))) x, \n",
    "                                                     ST_Y(ST_Centroid(ST_Transform(tr.geom, epsg))) y\n",
    "                                              FROM census_tracts_{} tr, states,\n",
    "                                                   (SELECT\n",
    "                                                      state, county, tract,\n",
    "                                                      row_number() over (PARTITION BY state ORDER BY county, tract NULLS LAST) - 1 AS rn\n",
    "                                                    FROM census_tracts_2015) rn\n",
    "                                              WHERE \n",
    "                                                rn.state = tr.state AND rn.county = tr.county AND rn.tract = tr.tract AND\n",
    "                                                tr.state = fips AND states.usps = UPPER('{}');\"\"\".format(year, usps),\n",
    "                                           con = psycopg2.connect(database = \"census\", user = user, password = passwd,\n",
    "                                                                  host = \"saxon.harris.uchicago.edu\", port = 5432),\n",
    "                                           geom_col = \"geometry\", index_col = \"rn\", crs = from_epsg(epsg))\n",
    "\n",
    "    tr_gdf[\"shape\"] = gpd.GeoSeries(tr_gdf[\"shape\"].apply(wkt.loads))\n",
    "\n",
    "    return tr_gdf\n",
    "\n",
    "\n",
    "def evaluate_state(cd_gdf, tr_gdf):\n",
    "    \n",
    "    tr_gdf = gpd.tools.sjoin(tr_gdf, cd_gdf.reset_index(), op = \"within\")\n",
    "    tr_gdf = tr_gdf.reset_index()[[\"cd\", \"pop\", \"area\", \"x\", \"y\", \"geometry\", \"shape\"]]\n",
    "\n",
    "    tr_gdf = tr_gdf.merge(pd.DataFrame({\"ctr\"  : tr_gdf.groupby(\"cd\").apply(ctr, w = \"area\"),\n",
    "                                        \"pctr\" : tr_gdf.groupby(\"cd\").apply(ctr, w = \"pop\")}).reset_index(), on = \"cd\")\n",
    "\n",
    "    tr_gdf[\"dctr\"] = tr_gdf.distance(tr_gdf.set_geometry(\"ctr\"))\n",
    "    tr_gdf[\"dpctr\"] = tr_gdf.distance(tr_gdf.set_geometry(\"pctr\"))\n",
    "\n",
    "    boundaries = shapely.ops.unary_union(cd_gdf.boundary)\n",
    "    tr_gdf[\"dperim\"] = tr_gdf.distance(boundaries)\n",
    "\n",
    "    tr_cd_group = tr_gdf.groupby(\"cd\")\n",
    "\n",
    "    cd_gdf[\"ctr\"]        = gpd.GeoSeries(tr_cd_group.apply(ctr, w = \"area\"))\n",
    "    cd_gdf[\"pctr\"]       = gpd.GeoSeries(tr_cd_group.apply(ctr, w = \"pop\"))\n",
    "\n",
    "    cd_gdf[\"R_isoa\"]     = np.sqrt(cd_gdf.area / math.pi)\n",
    "    cd_gdf[\"R_isop\"]     = cd_gdf.length / (2 * math.pi)\n",
    "    cd_gdf[\"R_LIC\"]      = cd_gdf.geometry.apply(R_inscribed)\n",
    "    cd_gdf[\"R_SCC\"]      = tr_cd_group.apply(R_circumscribing)\n",
    "    cd_gdf[\"R_mean\"]     = tr_cd_group.apply(R_mean)\n",
    "    cd_gdf[\"R_harm\"]     = tr_cd_group.apply(R_harm)\n",
    "    cd_gdf[\"R_dyn\"]      = tr_cd_group.apply(R_dyn)\n",
    "\n",
    "    dist_pop = gpd.tools.sjoin(cd_gdf, tr_gdf, op = \"contains\")[[\"cd\", \"pop\"]]\n",
    "    hull_pop = gpd.tools.sjoin(cd_gdf.set_geometry(cd_gdf.convex_hull).reset_index(), \n",
    "                               tr_gdf[[\"geometry\", \"pop\"]], op = \"contains\")[[\"cd\", \"pop\"]]\n",
    "    cd_gdf[\"pop\"] = dist_pop.groupby(\"cd\").sum()\n",
    "    cd_gdf[\"pop_hull\"]   = hull_pop.groupby(\"cd\").sum()\n",
    "\n",
    "    state_mp = shapely.ops.unary_union(list(cd_gdf.geometry))\n",
    "    cd_gdf[\"A_hull\"]     = cd_gdf.convex_hull.intersection(state_mp).area\n",
    "\n",
    "    cd_gdf[\"IP_d\"]       = tr_cd_group.apply(avg_interperson_distance)\n",
    "\n",
    "    cd_gdf[\"obj_ip_dist\"]     = (128 * cd_gdf.R_isoa / (45 * math.pi)) / cd_gdf.IP_d\n",
    "    cd_gdf[\"obj_polsby\"]      = 4 * math.pi * cd_gdf.area / cd_gdf.length**2\n",
    "    cd_gdf[\"obj_lic\"]         = (math.pi * cd_gdf[\"R_LIC\"] ** 2) / cd_gdf.area\n",
    "    cd_gdf[\"obj_scc\"]         = cd_gdf.area / (math.pi * cd_gdf[\"R_SCC\"] ** 2)\n",
    "    cd_gdf[\"obj_inertia_a\"]   = tr_cd_group.apply(normed_inertia, w = \"area\", d = \"dctr\")\n",
    "    cd_gdf[\"obj_inertia_p\"]   = tr_cd_group.apply(normed_inertia, w = \"pop\", d = \"dpctr\")\n",
    "    cd_gdf[\"obj_mean_radius\"] = (2 * cd_gdf.R_isoa / 3) / cd_gdf.R_mean\n",
    "    cd_gdf[\"obj_harm_radius\"] = (cd_gdf.R_isoa / 2) / cd_gdf.R_harm\n",
    "    cd_gdf[\"obj_dyn_radius\"]  = (cd_gdf.R_isoa / math.sqrt(2)) / cd_gdf.R_dyn\n",
    "    cd_gdf[\"obj_axis\"]        = tr_gdf.groupby(\"cd\").apply(axis_ratio)\n",
    "    cd_gdf[\"obj_exchange\"]    = cd_gdf.geometry.apply(exchange)\n",
    "    cd_gdf[\"obj_hull_pop\"]    = cd_gdf[\"pop\"] / cd_gdf[\"pop_hull\"]\n",
    "    cd_gdf[\"obj_hull_area\"]   = cd_gdf.area / cd_gdf[\"A_hull\"]\n",
    "    cd_gdf[\"obj_rohrbach\"]    = tr_cd_group.apply(rohrbach)\n"
   ]
  },
  {
   "cell_type": "code",
   "execution_count": 3,
   "metadata": {
    "collapsed": false,
    "deletable": true,
    "editable": true
   },
   "outputs": [],
   "source": [
    "def efficiency_gap_rep(cd_gdf, tr_gdf):\n",
    "    \n",
    "    tr = gpd.tools.sjoin(tr_gdf, cd_gdf[[\"geometry\"]].reset_index(), op = \"within\")\n",
    "    cd = tr.filter(regex = \"cd|^[DR][901][02468]$\").groupby(\"cd\").sum()\n",
    "    \n",
    "    years = [x[1:] for x in list(cd.filter(regex = \"^D\").columns)]\n",
    "    \n",
    "    EG = {}\n",
    "    for y in years:\n",
    "        cd[\"D\" + y + \"_waste\"] = np.where(cd[\"D\" + y] > cd[\"R\" + y], cd[\"D\" + y] - 0.5 * (cd[\"R\" + y] + cd[\"D\" + y]), cd[\"D\" + y])\n",
    "        cd[\"R\" + y + \"_waste\"] = np.where(cd[\"R\" + y] > cd[\"D\" + y], cd[\"R\" + y] - 0.5 * (cd[\"R\" + y] + cd[\"D\" + y]), cd[\"R\" + y])\n",
    "        egy = cd.filter(regex = y + \"_waste\").sum()/(cd[\"D\" + y].sum() + cd[\"R\" + y ].sum())\n",
    "        EG[int(y)] = egy[\"R\" + y + \"_waste\"] - egy[\"D\" + y + \"_waste\"]\n",
    "    \n",
    "    return sum(EG.values()) / len(years)"
   ]
  },
  {
   "cell_type": "code",
   "execution_count": 4,
   "metadata": {
    "collapsed": false,
    "deletable": true,
    "editable": true
   },
   "outputs": [
    {
     "name": "stdout",
     "output_type": "stream",
     "text": [
      "Optimization terminated successfully.\n",
      "         Current function value: 0.146857\n",
      "         Iterations 7\n",
      "Optimization terminated successfully.\n",
      "         Current function value: 0.170656\n",
      "         Iterations 7\n"
     ]
    }
   ],
   "source": [
    "min_rep = pd.read_csv(\"min_rep.csv\")\n",
    "min_rep = min_rep[min_rep.Session == 115].copy(deep = True)\n",
    "min_rep.reset_index(drop = True, inplace = True)\n",
    "\n",
    "probit_b = sm_dm.Probit(min_rep[\"BRep\"], min_rep[[\"BFrac\", \"const\"]]).fit()\n",
    "probit_h = sm_dm.Probit(min_rep[\"HRep\"], min_rep[[\"HFrac\", \"const\"]]).fit()\n",
    "\n",
    "def minority_seats(cd_gdf, tr_gdf):\n",
    "    \n",
    "    tr = gpd.tools.sjoin(tr_gdf, cd_gdf[[\"geometry\"]].reset_index(), op = \"within\")\n",
    "    cd = tr.filter(regex = \"cd|vap\").groupby(\"cd\").sum()\n",
    "    \n",
    "    cd[\"BFrac\"]  = cd[\"black_vap\"]    / cd[\"total_vap\"]\n",
    "    cd[\"BSeats\"] = norm.sf(- (cd[\"BFrac\"] * probit_b.params[\"BFrac\"] + probit_b.params.const))\n",
    "\n",
    "    cd[\"HFrac\"]  = cd[\"hispanic_vap\"] / cd[\"total_vap\"]\n",
    "    cd[\"HSeats\"] = norm.sf(- (cd[\"HFrac\"] * probit_h.params[\"HFrac\"] + probit_h.params.const))\n",
    "\n",
    "    # print(cd[\"BSeats\"].sum(), cd[\"HSeats\"].sum())\n",
    "\n",
    "    return cd[\"BSeats\"].sum() + cd[\"HSeats\"].sum()\n",
    "    "
   ]
  },
  {
   "cell_type": "code",
   "execution_count": 20,
   "metadata": {
    "collapsed": true,
    "deletable": true,
    "editable": true
   },
   "outputs": [],
   "source": [
    "dec = pd.read_csv(\"decennial_compactness.csv\")\n",
    "\n",
    "pca = PCA(n_components = 2)\n",
    "pca.fit(dec.filter(regex = \"^obj\"))\n",
    "cols = list(dec.filter(regex = \"^obj\").columns)"
   ]
  },
  {
   "cell_type": "code",
   "execution_count": 2,
   "metadata": {
    "collapsed": true
   },
   "outputs": [],
   "source": [
    "columns = {'cd': \"ID\", \"pop_ratio\" : \"Pop./Target\", \"a_sq_mi\" : 'Area [sq mi]', \n",
    "           \"obj_dyn_radius\": 'DynamicRadius', \"obj_polsby\" : 'IPQ', \n",
    "           \"obj_axis\" : 'AxisRatio', \"obj_exchange\" : 'Exchange', \"obj_lic\" : 'InscrCircle', \n",
    "           \"obj_harm_radius\" : 'HarmonicRadius', \"obj_inertia_a\" : 'InertiaArea',\n",
    "           \"obj_mean_radius\" : 'MeanRadius', \"obj_scc\" : 'CircCircle', \"obj_hull_pop\" : 'HullPop',\n",
    "           \"obj_inertia_p\" : 'InertiaPop',\n",
    "           \"obj_rohrbach\" : 'DistPerimeter', \"obj_hull_area\" : 'HullArea'}"
   ]
  },
  {
   "cell_type": "code",
   "execution_count": 5,
   "metadata": {
    "collapsed": false
   },
   "outputs": [
    {
     "name": "stdout",
     "output_type": "stream",
     "text": [
      "pa 1990 107 18 3364 42\n",
      "pa 2000 111 18 3364 42\n",
      "pa 2010 114 18 3364 42\n"
     ]
    }
   ],
   "source": [
    "metrics = pd.DataFrame()\n",
    "\n",
    "for year, sessn in [[1990, 107], [2000, 111], [2010, 114]]:\n",
    "    for usps in [\"pa\"]: # us_states[:1]:\n",
    "\n",
    "        epsg, fips, seats = get_state_info(usps)\n",
    "        if seats == 1: continue\n",
    "\n",
    "        print(usps, year, sessn, seats, epsg, fips)\n",
    "\n",
    "        cd_gdf = get_state_cd_map(usps, sessn, year, epsg)\n",
    "        tr_gdf = get_state_tracts(usps, year, epsg)\n",
    "        evaluate_state(cd_gdf, tr_gdf)\n",
    "        metrics = metrics.append(cd_gdf.to_crs(epsg = 2163))\n",
    "        \n",
    "    output_geojson(cd_gdf.reset_index().rename(columns = columns)[list(columns.values()) + [\"geometry\"]],\n",
    "                   \"cd/{}_{}.geojson\".format(usps, sessn))\n",
    "        \n",
    "metrics = metrics.reset_index()\n",
    "# metrics"
   ]
  },
  {
   "cell_type": "code",
   "execution_count": 3,
   "metadata": {
    "collapsed": false
   },
   "outputs": [
    {
     "data": {
      "text/plain": [
       "Index(['geometry', 'usps', 'congress', 'year', 'ctr', 'pctr', 'R_isoa',\n",
       "       'R_isop', 'R_LIC', 'R_SCC', 'R_mean', 'R_harm', 'R_dyn', 'pop',\n",
       "       'pop_hull', 'A_hull', 'IP_d', 'obj_ip_dist', 'obj_polsby', 'obj_lic',\n",
       "       'obj_scc', 'obj_inertia_a', 'obj_inertia_p', 'obj_mean_radius',\n",
       "       'obj_harm_radius', 'obj_dyn_radius', 'obj_axis', 'obj_exchange',\n",
       "       'obj_hull_pop', 'obj_hull_area', 'obj_rohrbach', 'pop_ratio',\n",
       "       'a_sq_mi'],\n",
       "      dtype='object')"
      ]
     },
     "execution_count": 3,
     "metadata": {},
     "output_type": "execute_result"
    }
   ],
   "source": [
    "cd_gdf.columns"
   ]
  },
  {
   "cell_type": "code",
   "execution_count": 4,
   "metadata": {
    "collapsed": false
   },
   "outputs": [],
   "source": []
  },
  {
   "cell_type": "code",
   "execution_count": 12,
   "metadata": {
    "collapsed": false
   },
   "outputs": [],
   "source": []
  },
  {
   "cell_type": "code",
   "execution_count": 3,
   "metadata": {
    "collapsed": false
   },
   "outputs": [],
   "source": [
    "usps, year, sessn, seats, epsg, fips = \"al\", 1990, 107, 7, 3465, 1\n",
    "\n",
    "cd_gdf = get_state_cd_map(usps, sessn, year, epsg)\n",
    "tr_gdf = get_state_tracts(usps, year, epsg)\n",
    "evaluate_state(cd_gdf, tr_gdf)"
   ]
  },
  {
   "cell_type": "code",
   "execution_count": 10,
   "metadata": {
    "collapsed": true,
    "deletable": true,
    "editable": true
   },
   "outputs": [],
   "source": [
    "usps, session, year = \"nc\", 114, 2010\n",
    "epsg, fips, seats = get_state_info(usps)"
   ]
  },
  {
   "cell_type": "code",
   "execution_count": 2,
   "metadata": {
    "collapsed": false
   },
   "outputs": [
    {
     "name": "stdout",
     "output_type": "stream",
     "text": [
      "al 1990 107 7 3465 1\n"
     ]
    },
    {
     "ename": "NameError",
     "evalue": "name 'f' is not defined",
     "output_type": "error",
     "traceback": [
      "\u001b[0;31m---------------------------------------------------------------------------\u001b[0m",
      "\u001b[0;31mNameError\u001b[0m                                 Traceback (most recent call last)",
      "\u001b[0;32m<ipython-input-2-9c1a2c4c1198>\u001b[0m in \u001b[0;36m<module>\u001b[0;34m()\u001b[0m\n\u001b[1;32m     17\u001b[0m         \u001b[0mcd_gdf\u001b[0m\u001b[0;34m[\u001b[0m\u001b[0;34m'obj_pca2'\u001b[0m\u001b[0;34m]\u001b[0m \u001b[0;34m=\u001b[0m \u001b[0mpca\u001b[0m\u001b[0;34m.\u001b[0m\u001b[0mtransform\u001b[0m\u001b[0;34m(\u001b[0m\u001b[0mcd_gdf\u001b[0m\u001b[0;34m[\u001b[0m\u001b[0mcols\u001b[0m\u001b[0;34m]\u001b[0m\u001b[0;34m)\u001b[0m\u001b[0;34m[\u001b[0m\u001b[0;34m:\u001b[0m\u001b[0;34m,\u001b[0m\u001b[0;36m1\u001b[0m\u001b[0;34m]\u001b[0m\u001b[0;34m\u001b[0m\u001b[0m\n\u001b[1;32m     18\u001b[0m \u001b[0;34m\u001b[0m\u001b[0m\n\u001b[0;32m---> 19\u001b[0;31m         \u001b[0minfile\u001b[0m\u001b[0;34m.\u001b[0m\u001b[0mappend\u001b[0m\u001b[0;34m(\u001b[0m\u001b[0mre\u001b[0m\u001b[0;34m.\u001b[0m\u001b[0msub\u001b[0m\u001b[0;34m(\u001b[0m\u001b[0;34mr\".*res/([0-9a-z/_]*)/final.*\"\u001b[0m\u001b[0;34m,\u001b[0m \u001b[0;34mr\"\\1\"\u001b[0m\u001b[0;34m,\u001b[0m \u001b[0mf\u001b[0m\u001b[0;34m)\u001b[0m\u001b[0;34m)\u001b[0m\u001b[0;34m\u001b[0m\u001b[0m\n\u001b[0m\u001b[1;32m     20\u001b[0m         \u001b[0mcomp\u001b[0m\u001b[0;34m.\u001b[0m  \u001b[0mappend\u001b[0m\u001b[0;34m(\u001b[0m\u001b[0mcd_gdf\u001b[0m\u001b[0;34m[\u001b[0m\u001b[0;34m'obj_pca1'\u001b[0m\u001b[0;34m]\u001b[0m\u001b[0;34m.\u001b[0m\u001b[0mmean\u001b[0m\u001b[0;34m(\u001b[0m\u001b[0;34m)\u001b[0m\u001b[0;34m)\u001b[0m\u001b[0;34m\u001b[0m\u001b[0m\n\u001b[1;32m     21\u001b[0m \u001b[0;31m#         eg.    append(efficiency_gap_rep(cd_gdf, tr_gdf))\u001b[0m\u001b[0;34m\u001b[0m\u001b[0;34m\u001b[0m\u001b[0m\n",
      "\u001b[0;31mNameError\u001b[0m: name 'f' is not defined"
     ]
    }
   ],
   "source": [
    "metrics = pd.DataFrame()\n",
    "\n",
    "infile, comp, eg, mseats = [], [], [], []\n",
    "for year, sessn in [[1990, 107], [2000, 111], [2010, 114]]:\n",
    "    for usps in us_states:\n",
    "\n",
    "        epsg, fips, seats = get_state_info(usps)\n",
    "        if seats == 1: continue\n",
    "\n",
    "        print(usps, year, sessn, seats, epsg, fips)\n",
    "\n",
    "        cd_gdf = get_state_cd_map(usps, sessn, year, epsg)\n",
    "        tr_gdf = get_state_tracts(usps, year, epsg)\n",
    "        evaluate_state(cd_gdf, tr_gdf)\n",
    "\n",
    "        cd_gdf['obj_pca1'] = pca.transform(cd_gdf[cols])[:,0]\n",
    "        cd_gdf['obj_pca2'] = pca.transform(cd_gdf[cols])[:,1]\n",
    "\n",
    "        infile.append(re.sub(r\".*res/([0-9a-z/_]*)/final.*\", r\"\\1\", f))\n",
    "        comp.  append(cd_gdf['obj_pca1'].mean())\n",
    "#         eg.    append(efficiency_gap_rep(cd_gdf, tr_gdf))\n",
    "#         mseats.append(minority_seats(cd_gdf, tr_gdf))\n",
    "\n",
    "        metrics = metrics.append(cd_gdf.to_crs(epsg = 2163))\n",
    "    \n",
    "        output_geojson()\n",
    "        \n",
    "metrics = metrics.reset_index()\n",
    "# metrics"
   ]
  },
  {
   "cell_type": "raw",
   "metadata": {
    "collapsed": false,
    "deletable": true,
    "editable": true
   },
   "source": [
    "import os, glob, json\n",
    "\n",
    "vote_file = \"../cluscious/demographic/{}_votes.csv\"\n",
    "race_file = \"../cluscious/demographic/{}_race.csv\"\n",
    "\n",
    "files = sorted(glob.glob(\"../cluscious/res/nc/power/s000/*/*geojson\")) + \\\n",
    "        sorted(glob.glob(\"../cluscious/res/nc/harm_radius/s000/*/*geojson\"))\n",
    "    \n",
    "print(\"Total files:\", len(files))\n",
    "\n",
    "nc_cd_dist = []\n",
    "infile, comp, eg, mseats = [], [], [], []\n",
    "for fidx, f in enumerate(files):\n",
    "    \n",
    "    this_usps = re.sub(r\"\\/.*\", \"\", re.sub(\".*res\\/\", \"\", f))\n",
    "    \n",
    "    if usps != this_usps:\n",
    "        usps = this_usps\n",
    "    \n",
    "        nc_votes = pd.read_csv(vote_file.format(usps), index_col = \"rn\")\n",
    "        nc_demog = pd.read_csv(race_file.format(usps), index_col = \"rn\").rename(columns = {\"pop\" : \"total_pop\"})\n",
    "\n",
    "        nc_tr = get_state_tracts(usps, 114, 2015)\n",
    "        nc_tr = nc_tr.join(nc_votes)\n",
    "        nc_tr = nc_tr.join(nc_demog)\n",
    "    \n",
    "    nc_cd_dist.append(gpd.read_file(f).to_crs(epsg = epsg))\n",
    "    nc_cd_dist[-1][\"cd\"] = nc_cd_dist[-1].id.astype(int)\n",
    "    nc_cd_dist[-1] = nc_cd_dist[-1].set_index(\"cd\")[[\"geometry\"]]\n",
    "    nc_cd_dist[-1][\"map\"] = fidx\n",
    "\n",
    "    evaluate_state(nc_cd_dist[-1], nc_tr)\n",
    "    nc_cd_dist[-1]['obj_pca1'] = pca.transform(nc_cd_dist[-1][cols])[:,0]\n",
    "    nc_cd_dist[-1]['obj_pca2'] = pca.transform(nc_cd_dist[-1][cols])[:,1]\n",
    "\n",
    "    infile.append(re.sub(r\".*res/([0-9a-z/_]*)/final.*\", r\"\\1\", f))\n",
    "    comp.  append(nc_cd_dist[-1]['obj_pca1'].mean())\n",
    "    eg.    append(efficiency_gap_rep(nc_cd_dist[-1], nc_tr))\n",
    "    mseats.append(minority_seats(nc_cd_dist[-1], nc_tr))\n",
    "    print(fidx, end = \" \")\n",
    "    \n",
    "pop = pd.DataFrame({\"File\" : infile, \"Compactness\" : comp, \"EG\" : eg, \"Minority Seats\" : mseats})"
   ]
  },
  {
   "cell_type": "code",
   "execution_count": 21,
   "metadata": {
    "collapsed": false
   },
   "outputs": [
    {
     "data": {
      "text/html": [
       "<div>\n",
       "<table border=\"1\" class=\"dataframe\">\n",
       "  <thead>\n",
       "    <tr style=\"text-align: right;\">\n",
       "      <th></th>\n",
       "      <th>Compactness</th>\n",
       "      <th>EG</th>\n",
       "      <th>File</th>\n",
       "      <th>Seats</th>\n",
       "    </tr>\n",
       "  </thead>\n",
       "  <tbody>\n",
       "    <tr>\n",
       "      <th>0</th>\n",
       "      <td>0.409219</td>\n",
       "      <td>-0.060550</td>\n",
       "      <td>nc/power/s000/c000</td>\n",
       "      <td>2.412620</td>\n",
       "    </tr>\n",
       "    <tr>\n",
       "      <th>1</th>\n",
       "      <td>0.454208</td>\n",
       "      <td>-0.033487</td>\n",
       "      <td>nc/power/s000/c001</td>\n",
       "      <td>2.436888</td>\n",
       "    </tr>\n",
       "    <tr>\n",
       "      <th>2</th>\n",
       "      <td>0.426907</td>\n",
       "      <td>0.013762</td>\n",
       "      <td>nc/power/s000/c002</td>\n",
       "      <td>2.418983</td>\n",
       "    </tr>\n",
       "    <tr>\n",
       "      <th>3</th>\n",
       "      <td>0.459920</td>\n",
       "      <td>-0.038065</td>\n",
       "      <td>nc/power/s000/c003</td>\n",
       "      <td>2.460943</td>\n",
       "    </tr>\n",
       "    <tr>\n",
       "      <th>4</th>\n",
       "      <td>0.468917</td>\n",
       "      <td>-0.071591</td>\n",
       "      <td>nc/power/s000/c004</td>\n",
       "      <td>2.510565</td>\n",
       "    </tr>\n",
       "  </tbody>\n",
       "</table>\n",
       "</div>"
      ],
      "text/plain": [
       "   Compactness        EG                File     Seats\n",
       "0     0.409219 -0.060550  nc/power/s000/c000  2.412620\n",
       "1     0.454208 -0.033487  nc/power/s000/c001  2.436888\n",
       "2     0.426907  0.013762  nc/power/s000/c002  2.418983\n",
       "3     0.459920 -0.038065  nc/power/s000/c003  2.460943\n",
       "4     0.468917 -0.071591  nc/power/s000/c004  2.510565"
      ]
     },
     "execution_count": 21,
     "metadata": {},
     "output_type": "execute_result"
    }
   ],
   "source": [
    "pop.head()"
   ]
  },
  {
   "cell_type": "code",
   "execution_count": 23,
   "metadata": {
    "collapsed": false
   },
   "outputs": [
    {
     "data": {
      "text/plain": [
       "array([[<matplotlib.axes._subplots.AxesSubplot object at 0x121ae7c18>,\n",
       "        <matplotlib.axes._subplots.AxesSubplot object at 0x1221bcb70>],\n",
       "       [<matplotlib.axes._subplots.AxesSubplot object at 0x122175630>,\n",
       "        <matplotlib.axes._subplots.AxesSubplot object at 0x12224ccf8>]], dtype=object)"
      ]
     },
     "execution_count": 23,
     "metadata": {},
     "output_type": "execute_result"
    },
    {
     "data": {
      "image/png": "[encoded data removed]",
      "text/plain": [
       "<matplotlib.figure.Figure at 0x122162d30>"
      ]
     },
     "metadata": {},
     "output_type": "display_data"
    }
   ],
   "source": [
    "pop.hist()"
   ]
  },
  {
   "cell_type": "code",
   "execution_count": 12,
   "metadata": {
    "collapsed": false,
    "deletable": true,
    "editable": true
   },
   "outputs": [],
   "source": [
    "scores = pd.concat(nc_cd_dist).groupby(\"map\").mean()\n",
    "scores.filter(regex = \"^obj_\").to_csv(usps + \"_scores.csv\")"
   ]
  },
  {
   "cell_type": "code",
   "execution_count": 13,
   "metadata": {
    "collapsed": false,
    "deletable": true,
    "editable": true
   },
   "outputs": [],
   "source": [
    "# sns.regplot(x = scores[\"obj_ip_dist\"], y = scores[\"obj_pca1\"])\n",
    "max_score = scores[\"obj_pca1\"].max()"
   ]
  },
  {
   "cell_type": "code",
   "execution_count": 14,
   "metadata": {
    "collapsed": false,
    "deletable": true,
    "editable": true
   },
   "outputs": [],
   "source": [
    "nc_test = gpd.read_file(\"nc_harmonic_radius.geojson\").to_crs(epsg = epsg)\n",
    "nc_test[\"cd\"] = nc_test.id.astype(int)\n",
    "nc_test = nc_test.set_index(\"cd\")[[\"geometry\"]]\n",
    "\n",
    "evaluate_state(nc_test, nc_tr)"
   ]
  },
  {
   "cell_type": "code",
   "execution_count": 15,
   "metadata": {
    "collapsed": false,
    "deletable": true,
    "editable": true
   },
   "outputs": [
    {
     "data": {
      "text/plain": [
       "-0.059294440706446017"
      ]
     },
     "execution_count": 15,
     "metadata": {},
     "output_type": "execute_result"
    }
   ],
   "source": [
    "efficiency_gap_rep(nc_test, nc_tr) "
   ]
  },
  {
   "cell_type": "code",
   "execution_count": 16,
   "metadata": {
    "collapsed": false,
    "deletable": true,
    "editable": true
   },
   "outputs": [
    {
     "data": {
      "text/plain": [
       "2.3922197512308117"
      ]
     },
     "execution_count": 16,
     "metadata": {},
     "output_type": "execute_result"
    }
   ],
   "source": [
    "minority_seats(nc_test, nc_tr)"
   ]
  },
  {
   "cell_type": "code",
   "execution_count": 17,
   "metadata": {
    "collapsed": false,
    "deletable": true,
    "editable": true
   },
   "outputs": [
    {
     "data": {
      "text/plain": [
       "0.2898759713521533"
      ]
     },
     "execution_count": 17,
     "metadata": {},
     "output_type": "execute_result"
    }
   ],
   "source": [
    "nc_test['obj_pca1'] = pca.transform(nc_test[cols])[:,0]\n",
    "nc_test['obj_pca1'].mean()"
   ]
  },
  {
   "cell_type": "code",
   "execution_count": 18,
   "metadata": {
    "collapsed": false,
    "deletable": true,
    "editable": true
   },
   "outputs": [
    {
     "data": {
      "image/png": "[encoded data removed]",
      "text/plain": [
       "<matplotlib.figure.Figure at 0x107246908>"
      ]
     },
     "metadata": {},
     "output_type": "display_data"
    }
   ],
   "source": [
    "nc_test.plot(column = \"obj_pca1\", \n",
    "             cmap = \"Blues\", scheme = \"quantiles\", k = 6, \n",
    "             figsize = (12, 8), legend = True).set_axis_off()"
   ]
  },
  {
   "cell_type": "code",
   "execution_count": null,
   "metadata": {
    "collapsed": true
   },
   "outputs": [],
   "source": []
  }
 ],
 "metadata": {
  "anaconda-cloud": {},
  "kernelspec": {
   "display_name": "Python [conda root]",
   "language": "python",
   "name": "conda-root-py"
  },
  "language_info": {
   "codemirror_mode": {
    "name": "ipython",
    "version": 3
   },
   "file_extension": ".py",
   "mimetype": "text/x-python",
   "name": "python",
   "nbconvert_exporter": "python",
   "pygments_lexer": "ipython3",
   "version": "3.5.2"
  }
 },
 "nbformat": 4,
 "nbformat_minor": 1
}
