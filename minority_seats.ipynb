{
 "cells": [
  {
   "cell_type": "code",
   "execution_count": 1,
   "metadata": {
    "collapsed": false
   },
   "outputs": [
    {
     "name": "stdout",
     "output_type": "stream",
     "text": [
      "Font is now: /usr/share/fonts/truetype/msttcorefonts/Verdana.ttf\n"
     ]
    }
   ],
   "source": [
    "import os, glob, json\n",
    "\n",
    "import re, math\n",
    "\n",
    "import numpy as np\n",
    "import pandas as pd\n",
    "import matplotlib \n",
    "\n",
    "import matplotlib\n",
    "\n",
    "# Here ya go, Political Analysis!\n",
    "matplotlib.rcParams['font.sans-serif'] = ['Verdana', \"Arial\"]\n",
    "matplotlib.rcParams['font.family'] = \"sans-serif\"\n",
    "\n",
    "from matplotlib.font_manager import findfont, FontProperties\n",
    "print(\"Font is now:\", findfont(FontProperties(family=['sans-serif'])))\n",
    "\n",
    "import matplotlib.pyplot as plt\n",
    "%matplotlib inline\n",
    "\n",
    "from scipy.stats import norm\n",
    "import statsmodels.api as sm\n",
    "import statsmodels.discrete.discrete_model as sm_dm\n",
    "\n",
    "from IPython.display import display\n",
    "pd.options.display.max_columns = 1000\n",
    "\n",
    "import seaborn as sns\n",
    "sns.set(rc={\"figure.figsize\" : (8, 6)})\n",
    "sns.set(font_scale = 1.0) \n",
    "sns.set(style=\"white\", color_codes=True)\n",
    "sns.set_context('notebook', font_scale=1.0, rc={'line.linewidth': 2.5, \"figure.figsize\" : (8, 4)})"
   ]
  },
  {
   "cell_type": "markdown",
   "metadata": {},
   "source": [
    "## Prepare and Cache Data for Replication\n",
    "\n",
    "This code saves intermediate results to facilitate replication from the repository, without private resources."
   ]
  },
  {
   "cell_type": "code",
   "execution_count": 2,
   "metadata": {
    "collapsed": true
   },
   "outputs": [],
   "source": [
    "REPLICATION = True\n",
    "\n",
    "try:\n",
    "    \n",
    "    if not REPLICATION:\n",
    "        import requests\n",
    "        import psycopg2\n",
    "\n",
    "        from netrc import netrc    \n",
    "        user, acct, passwd = netrc().authenticators(\"harris\")\n",
    "\n",
    "except:\n",
    "\n",
    "    print(\"Cannot/will not re-recreate intermediate results without DB connection.\")"
   ]
  },
  {
   "cell_type": "markdown",
   "metadata": {},
   "source": [
    "### Load and save the racial/ethnic composition of _actual_ districts, from the Census."
   ]
  },
  {
   "cell_type": "code",
   "execution_count": 3,
   "metadata": {
    "collapsed": true
   },
   "outputs": [],
   "source": [
    "if not REPLICATION:\n",
    "\n",
    "    # Normal Names\n",
    "    columns = [\"Male VAP\", \"Female VAP\", \"Male BVAP\", \"Female BVAP\", \"Male HVAP\", \"Female HVAP\", \"State\", \"CD\"]\n",
    "\n",
    "    # Census API Call Format -- variable names are the same in the 3 years.\n",
    "    api_endpt = \"https://api.census.gov/data/{}/acs/acs5?for=congressional+district:*&get=\" + \\\n",
    "                \"B05003_008E,B05003_019E,B05003B_008E,B05003B_019E,B05003I_008E,B05003I_019E\"\n",
    "\n",
    "    j113 = requests.get(api_endpt.format(2012)).json()\n",
    "    j114 = requests.get(api_endpt.format(2014)).json()\n",
    "    j115 = requests.get(api_endpt.format(2016)).json()\n",
    "\n",
    "    df113 = pd.DataFrame(columns = columns, data = j113[1:]).astype(int)\n",
    "    df113[\"Session\"] = 113\n",
    "\n",
    "    df114 = pd.DataFrame(columns = columns, data = j114[1:]).astype(int)\n",
    "    df114[\"Session\"] = 114\n",
    "\n",
    "    df115 = pd.DataFrame(columns = columns, data = j115[1:]).astype(int)\n",
    "    df115[\"Session\"] = 115\n",
    "\n",
    "    vaps = pd.concat([df113, df114, df115])\n",
    "\n",
    "    vaps.loc[vaps.CD == 0, \"CD\"] = 1\n",
    "    vaps.loc[vaps.CD == 98, \"CD\"] = 1\n",
    "    \n",
    "    # Good-bye DC.\n",
    "    vaps = vaps[(vaps.State != 11) & (vaps.State < 57)]\n",
    "\n",
    "    vaps[\"VAP\"]  = vaps[\"Male VAP\"] + vaps[\"Female VAP\"]\n",
    "    vaps[\"BVAP\"] = vaps[\"Male BVAP\"] + vaps[\"Female BVAP\"]\n",
    "    vaps[\"HVAP\"] = vaps[\"Male HVAP\"] + vaps[\"Female HVAP\"]\n",
    "\n",
    "    vaps[\"black_vap_frac\"]          = vaps[\"BVAP\"] / vaps[\"VAP\"]\n",
    "    vaps[\"hispanic_vap_frac\"]       = vaps[\"HVAP\"] / vaps[\"VAP\"]\n",
    "    vaps[\"total_minority_vap_frac\"] = vaps[\"black_vap_frac\"] + vaps[\"hispanic_vap_frac\"]\n",
    "    vaps[\"max_minority_vap_frac\"]   = vaps[[\"black_vap_frac\", \"hispanic_vap_frac\"]].max(axis = 1)\n",
    "\n",
    "    vaps = vaps[[\"State\", \"CD\", \"Session\",\n",
    "                 \"black_vap_frac\", \"hispanic_vap_frac\", \n",
    "                 \"total_minority_vap_frac\", \"max_minority_vap_frac\"]]\n",
    "\n",
    "    # Cache it.\n",
    "    vaps.to_csv(\"data/census_api_cd_vaps.csv\", index = False)\n",
    "    "
   ]
  },
  {
   "cell_type": "markdown",
   "metadata": {},
   "source": [
    "### Load and save the tract race data for the entire country."
   ]
  },
  {
   "cell_type": "code",
   "execution_count": 4,
   "metadata": {
    "collapsed": true
   },
   "outputs": [],
   "source": [
    "if not REPLICATION:\n",
    "\n",
    "    tract_race = pd.read_sql(\"\"\"SELECT\n",
    "                                  s.usps, rn.rn, \n",
    "                                  d.state, d.county cid, d.tract,\n",
    "                                  b01001_001e pop, b01001a_001e white,\n",
    "                                  b01001b_001e black, b01001i_001e hispanic,\n",
    "                                  total_vap, black_vap, hispanic_vap\n",
    "                                FROM census_tracts_2015 AS g\n",
    "                                JOIN states AS s ON\n",
    "                                  g.state = s.fips\n",
    "                                JOIN acssf5y2015 AS d ON\n",
    "                                  d.state  = g.state  AND\n",
    "                                  d.county = g.county AND\n",
    "                                  d.tract  = g.tract\n",
    "                                JOIN (SELECT state, county, tract,\n",
    "                                      row_number() over (PARTITION BY state ORDER BY \n",
    "                                                         county, tract NULLS LAST) - 1 as rn\n",
    "                                      FROM census_tracts_2015) rn ON\n",
    "                                  g.state  = rn.state  AND\n",
    "                                  g.county = rn.county AND\n",
    "                                  g.tract  = rn.tract\n",
    "                                ORDER BY d.state, d.county, d.tract;\n",
    "                                \"\"\",\n",
    "                                con = cen_con, index_col = [\"usps\", \"rn\"])\n",
    "    \n",
    "    tract_race.to_csv(\"data/tract_race.csv\")"
   ]
  },
  {
   "cell_type": "markdown",
   "metadata": {},
   "source": [
    "## Read in the Cached Data"
   ]
  },
  {
   "cell_type": "code",
   "execution_count": 5,
   "metadata": {
    "collapsed": true
   },
   "outputs": [],
   "source": [
    "vaps = pd.read_csv(\"data/census_api_cd_vaps.csv\")\n",
    "true_minority_shares = vaps.loc[(vaps.Session == 114) & ~vaps.State.isin([11, 72])].copy()\n",
    "\n",
    "tract_race = pd.read_csv(\"data/tract_race.csv\")\n",
    "\n",
    "simulated_seats = pd.read_csv(\"data/c4_redux/power_minority_redux.csv\",\n",
    "                              header = None, names = [\"usps\", \"uid\", \"black_vap_frac\", \"hispanic_vap_frac\"])\n",
    "state_seats = pd.read_csv(\"data/states.csv\", index_col = \"usps\").seats.to_dict()\n",
    "simulated_seats[\"seats\"] = simulated_seats.usps.replace(state_seats).astype(int)"
   ]
  },
  {
   "cell_type": "markdown",
   "metadata": {},
   "source": [
    "### Process the Single Seat States\n",
    "\n",
    "I do not simulate single-district states, so they must be added explicitly.\n",
    "\n",
    "This aggregation/extraction of the single-district state demographics could be done from the VAPS data of 2012, 2014, and 2016 (when the 113th, 114th, and 115th Congresses were elected).  The values are extremely close but not identical: I have used 2015 ACS 5-year data for the bulk of the project."
   ]
  },
  {
   "cell_type": "code",
   "execution_count": 6,
   "metadata": {
    "collapsed": true
   },
   "outputs": [],
   "source": [
    "single_seat_states = [\"AK\", \"DE\", \"MT\", \"ND\", \"SD\", \"VT\", \"WY\"]\n",
    "\n",
    "single_seat_states = tract_race[tract_race.usps.isin(single_seat_states)].groupby(\"usps\").sum()\n",
    "\n",
    "single_seat_states[\"black_vap_frac\"]    = single_seat_states[\"black_vap\"] / single_seat_states[\"total_vap\"]\n",
    "single_seat_states[\"hispanic_vap_frac\"] = single_seat_states[\"hispanic_vap\"] / single_seat_states[\"total_vap\"]\n",
    "single_seat_states[\"total_minority_vap_frac\"] = single_seat_states[\"black_vap_frac\"] + single_seat_states[\"hispanic_vap_frac\"]\n",
    "single_seat_states[\"max_minority_vap_frac\"]   = single_seat_states[[\"black_vap_frac\", \"hispanic_vap_frac\"]].max(axis = 1)\n",
    "\n",
    "single_seat_states = single_seat_states.filter(regex = \"frac$\", axis = 1).reset_index()\n",
    "single_seat_states[\"seats\"] = 1\n",
    "\n",
    "# single_simulated"
   ]
  },
  {
   "cell_type": "markdown",
   "metadata": {},
   "source": [
    "## Minority VAP Share Crossover Plot.\n",
    "\n",
    "### Assemble the simulated and single-districts and calculate the weight of each map."
   ]
  },
  {
   "cell_type": "code",
   "execution_count": 7,
   "metadata": {
    "collapsed": true
   },
   "outputs": [],
   "source": [
    "simulated = simulated_seats.append(single_seat_states, sort = False)\n",
    "\n",
    "simulated.reset_index(drop = True, inplace = True)\n",
    "\n",
    "# Constructed variables -- not used for paper.\n",
    "simulated[\"max_minority_vap_frac\"] = simulated[[\"black_vap_frac\", \"hispanic_vap_frac\"]].max(axis = 1)\n",
    "simulated[\"total_minority_vap_frac\"] = simulated[[\"black_vap_frac\", \"hispanic_vap_frac\"]].sum(axis = 1)\n",
    "\n",
    "# How much is each individual seat/plan worth?\n",
    "nsim = simulated.groupby(\"usps\").count()[[\"seats\"]]\n",
    "nsim.rename(columns = {\"seats\" : \"simulated\"}, inplace = True)\n",
    "nsim[[\"seats\"]] = simulated.groupby(\"usps\").mean()[[\"seats\"]]\n",
    "nsim[\"weight\"] = nsim[\"seats\"] / nsim[\"simulated\"]\n",
    "nsim.reset_index(inplace = True)\n",
    "\n",
    "# Merge the weights back on.\n",
    "simulated = simulated[[\"usps\", \"seats\", \"black_vap_frac\", \"hispanic_vap_frac\", \n",
    "                       \"max_minority_vap_frac\", \"total_minority_vap_frac\"]].merge(nsim[['usps', 'weight']], on = \"usps\")"
   ]
  },
  {
   "cell_type": "markdown",
   "metadata": {},
   "source": [
    "### Plotting Function"
   ]
  },
  {
   "cell_type": "code",
   "execution_count": 8,
   "metadata": {
    "collapsed": true
   },
   "outputs": [],
   "source": [
    "def plot(xvar, xtitle, f, seats, legend = False):\n",
    "\n",
    "    true_minority_shares.sort_values(by = xvar, inplace = True)\n",
    "    true_minority_shares.reset_index(drop = True, inplace = True)\n",
    "    true_minority_shares[\"cum_seats\"] = list(435 - true_minority_shares.index.array)\n",
    "\n",
    "    simulated.sort_values(by = xvar, ascending = False, inplace = True)\n",
    "    simulated.reset_index(drop = True, inplace = True)\n",
    "    simulated[\"cum_seats\"] = simulated[[\"weight\"]].cumsum()\n",
    "\n",
    "    ax = simulated.plot(x = xvar, y = \"cum_seats\", color = \"red\", linewidth = 2,\n",
    "                        label = \"Power Diagrams\", legend = legend)\n",
    "\n",
    "    true_minority_shares.plot(x = xvar, y = \"cum_seats\", color = \"k\", linewidth = 2, linestyle = \"dotted\",\n",
    "                              ax = ax, label = \"114th Congress\")\n",
    "    \n",
    "    \n",
    "    frac = true_minority_shares[true_minority_shares[\"cum_seats\"] <= seats][xvar].min()\n",
    "    ax.plot([0.1, frac], [seats, seats], linewidth = 0.5, linestyle = \"solid\", color = \"k\")\n",
    "    print(xtitle, \"crossing:\", frac)\n",
    "\n",
    "    ax.set_xlabel(xtitle)\n",
    "    ax.set_xlim(0.15, 0.6)\n",
    "\n",
    "    ax.set_ylabel(\"Seats\")\n",
    "    ax.set_yticks([0, 25, 50, 75, 100, 125])\n",
    "    \n",
    "    # The plot y limits stretch between \"corners\" of the simulated seats.\n",
    "    mini = simulated[simulated[xvar] < 0.60][\"cum_seats\"].min()\n",
    "    maxi = simulated[simulated[xvar] > 0.15][\"cum_seats\"].max()\n",
    "    ax.set_ylim(0, 110)\n",
    "\n",
    "    sns.despine()\n",
    "    \n",
    "    plt.legend(loc='upper right')\n",
    "    ax.legend().set_visible(legend)\n",
    "\n",
    "    ax.get_figure().savefig(f, bbox_inches='tight', pad_inches=0.3)\n",
    "    "
   ]
  },
  {
   "cell_type": "markdown",
   "metadata": {},
   "source": [
    "### Make the plots for Blacks and Hispanics, both VAP."
   ]
  },
  {
   "cell_type": "code",
   "execution_count": 9,
   "metadata": {
    "collapsed": false
   },
   "outputs": [
    {
     "name": "stdout",
     "output_type": "stream",
     "text": [
      "Black Share (VAP) crossing: 0.301071319363903\n",
      "Hispanic Share (VAP) crossing: 0.4104245847652565\n"
     ]
    },
    {
     "name": "stderr",
     "output_type": "stream",
     "text": [
      "/home/jsaxon/anaconda3/envs/pa_rep/lib/python3.7/site-packages/ipykernel_launcher.py:38: UserWarning: Creating legend with loc=\"best\" can be slow with large amounts of data.\n",
      "/home/jsaxon/anaconda3/envs/pa_rep/lib/python3.7/site-packages/ipykernel_launcher.py:38: UserWarning: Creating legend with loc=\"best\" can be slow with large amounts of data.\n",
      "/home/jsaxon/anaconda3/envs/pa_rep/lib/python3.7/site-packages/IPython/core/events.py:88: UserWarning: Creating legend with loc=\"best\" can be slow with large amounts of data.\n",
      "  func(*args, **kwargs)\n"
     ]
    },
    {
     "data": {
      "image/png": "[encoded data removed]",
      "text/plain": [
       "<Figure size 432x288 with 1 Axes>"
      ]
     },
     "metadata": {
      "needs_background": "light"
     },
     "output_type": "display_data"
    },
    {
     "name": "stderr",
     "output_type": "stream",
     "text": [
      "/home/jsaxon/anaconda3/envs/pa_rep/lib/python3.7/site-packages/IPython/core/pylabtools.py:128: UserWarning: Creating legend with loc=\"best\" can be slow with large amounts of data.\n",
      "  fig.canvas.print_figure(bytes_io, **kw)\n"
     ]
    },
    {
     "data": {
      "image/png": "[encoded data removed]",
      "text/plain": [
       "<Figure size 432x288 with 1 Axes>"
      ]
     },
     "metadata": {
      "needs_background": "light"
     },
     "output_type": "display_data"
    }
   ],
   "source": [
    "sns.set_context('notebook', font_scale=1.2, rc={'line.linewidth': 2.5, \"figure.figsize\" : (4, 2.5)})\n",
    "\n",
    "plot(\"black_vap_frac\",    \"Black Share (VAP)\",    \"paper_figs/black_vap_representation.pdf\", 46)\n",
    "plot(\"hispanic_vap_frac\", \"Hispanic Share (VAP)\", \"paper_figs/hispanic_vap_representation.pdf\", 40, True)"
   ]
  },
  {
   "cell_type": "markdown",
   "metadata": {},
   "source": [
    "## The Probit Model"
   ]
  },
  {
   "cell_type": "markdown",
   "metadata": {},
   "source": [
    "### Load the actual outcomes.\n",
    "\n",
    "Note that I am rejecting here the delegates -- from DC, VI, MP, and PR -- all of whom are minorities."
   ]
  },
  {
   "cell_type": "code",
   "execution_count": 10,
   "metadata": {
    "collapsed": false
   },
   "outputs": [
    {
     "name": "stdout",
     "output_type": "stream",
     "text": [
      "http://history.house.gov/Exhibitions-and-Publications/BAIC/Historical-Data/Black-American-Representatives-and-Senators-by-Congress/\r\n",
      "http://history.house.gov/Exhibitions-and-Publications/HAIC/Historical-Data/Hispanic-American-Representatives,-Senators,-Delegates,-and-Resident-Commissioners-by-Congress/\r\n",
      "\r\n",
      "https://pressgallery.house.gov/member-data/demographics/african-americans\r\n",
      "https://pressgallery.house.gov/member-data/demographics/hispanic-americans\r\n",
      "\r\n",
      "Discrepancies (in pressgallery but not history -- added):\r\n",
      "Trent Franks R-AZ-8\r\n",
      "John Garamendi D-CA-3\r\n",
      "Brian Mast R-FL-18\r\n",
      "\r\n",
      "https://api.census.gov/data/2012/acs5?for=congressional+district:*&get=NAME,B05003_008E,B05003_019E,B05003B_008E,B05003B_019E,B05003I_008E,B05003I_019E\r\n",
      "https://api.census.gov/data/2014/acs5?for=congressional+district:*&get=NAME,B05003_008E,B05003_019E,B05003B_008E,B05003B_019E,B05003I_008E,B05003I_019E\r\n",
      "\r\n",
      "See also: http://www.pewresearch.org/fact-tank/2017/01/24/115th-congress-sets-new-high-for-racial-ethnic-diversity/\r\n",
      "\r\n"
     ]
    }
   ],
   "source": [
    "! cat min_rep/sources.txt"
   ]
  },
  {
   "cell_type": "markdown",
   "metadata": {},
   "source": [
    "#### Swap USPS for FIPS, make sure we've dropped delegates."
   ]
  },
  {
   "cell_type": "code",
   "execution_count": 11,
   "metadata": {
    "collapsed": true
   },
   "outputs": [],
   "source": [
    "min_rep = pd.read_excel(\"min_rep/minority_representatives.xlsx\")\n",
    "\n",
    "# st = pd.read_sql(\"select usps, fips from states;\", con = cen_con)\n",
    "st = pd.read_csv(\"data/states.csv\", usecols = [\"usps\", \"fips\"])\n",
    "\n",
    "min_rep = pd.merge(min_rep, st, left_on = \"State\", right_on = \"usps\")\n",
    "min_rep = min_rep[(min_rep.Delegate == 0) & ((min_rep.Session == 113) | (min_rep.Session == 114) | (min_rep.Session == 115))]\n",
    "min_rep = min_rep[[\"Session\", \"fips\", \"CD\", \"Ethnicity\", \"Name\", \"Delegate\"]].rename(columns = {\"fips\" : \"State\"})\n",
    "min_rep.sort_values(by = [\"Session\", \"State\", \"CD\"], inplace = True)\n",
    "min_rep.reset_index(drop = True, inplace = True)\n",
    "\n",
    "# min_rep"
   ]
  },
  {
   "cell_type": "markdown",
   "metadata": {},
   "source": [
    "#### Exog."
   ]
  },
  {
   "cell_type": "code",
   "execution_count": 12,
   "metadata": {
    "collapsed": true
   },
   "outputs": [],
   "source": [
    "min_rep_merge = vaps.merge(min_rep, on = [\"Session\", \"State\", \"CD\"], how = \"outer\")\n",
    "min_rep_merge[\"BRep\"] = (min_rep_merge[\"Ethnicity\"] == \"B\").astype(int)\n",
    "min_rep_merge[\"HRep\"] = (min_rep_merge[\"Ethnicity\"] == \"H\").astype(int)\n",
    "min_rep_merge[\"MRep\"] = (~min_rep_merge[\"Ethnicity\"].isnull()).astype(int)\n",
    "min_rep_merge[\"const\"] = 1\n",
    "min_rep_merge.sort_values(by = [\"State\", \"CD\", \"Session\"], inplace = True)"
   ]
  },
  {
   "cell_type": "markdown",
   "metadata": {},
   "source": [
    "#### Keeping only one of Chaka Fattah or Dwight Evans, and Xavier Becerra or Jimmy Gomez, since they were all elected from the same districts."
   ]
  },
  {
   "cell_type": "code",
   "execution_count": 13,
   "metadata": {
    "collapsed": false
   },
   "outputs": [
    {
     "data": {
      "text/html": [
       "<div>\n",
       "<style scoped>\n",
       "    .dataframe tbody tr th:only-of-type {\n",
       "        vertical-align: middle;\n",
       "    }\n",
       "\n",
       "    .dataframe tbody tr th {\n",
       "        vertical-align: top;\n",
       "    }\n",
       "\n",
       "    .dataframe thead th {\n",
       "        text-align: right;\n",
       "    }\n",
       "</style>\n",
       "<table border=\"1\" class=\"dataframe\">\n",
       "  <thead>\n",
       "    <tr style=\"text-align: right;\">\n",
       "      <th></th>\n",
       "      <th>State</th>\n",
       "      <th>CD</th>\n",
       "      <th>Session</th>\n",
       "      <th>black_vap_frac</th>\n",
       "      <th>hispanic_vap_frac</th>\n",
       "      <th>total_minority_vap_frac</th>\n",
       "      <th>max_minority_vap_frac</th>\n",
       "      <th>Ethnicity</th>\n",
       "      <th>Name</th>\n",
       "      <th>Delegate</th>\n",
       "      <th>BRep</th>\n",
       "      <th>HRep</th>\n",
       "      <th>MRep</th>\n",
       "      <th>const</th>\n",
       "    </tr>\n",
       "  </thead>\n",
       "  <tbody>\n",
       "  </tbody>\n",
       "</table>\n",
       "</div>"
      ],
      "text/plain": [
       "Empty DataFrame\n",
       "Columns: [State, CD, Session, black_vap_frac, hispanic_vap_frac, total_minority_vap_frac, max_minority_vap_frac, Ethnicity, Name, Delegate, BRep, HRep, MRep, const]\n",
       "Index: []"
      ]
     },
     "execution_count": 13,
     "metadata": {},
     "output_type": "execute_result"
    }
   ],
   "source": [
    "min_rep_merge.drop_duplicates([\"Session\", \"State\", \"CD\"], inplace = True, keep = \"first\")\n",
    "min_rep_merge[(min_rep_merge.MRep == 1) & (min_rep_merge.duplicated([\"State\", \"CD\", \"Session\"], keep = False))].sort_values(by = [\"Session\", \"State\", \"CD\"])"
   ]
  },
  {
   "cell_type": "code",
   "execution_count": 14,
   "metadata": {
    "collapsed": true
   },
   "outputs": [],
   "source": [
    "min_rep_merge.to_csv(\"data/min_rep.csv\")"
   ]
  },
  {
   "cell_type": "code",
   "execution_count": 15,
   "metadata": {
    "collapsed": false
   },
   "outputs": [
    {
     "data": {
      "text/html": [
       "<div>\n",
       "<style scoped>\n",
       "    .dataframe tbody tr th:only-of-type {\n",
       "        vertical-align: middle;\n",
       "    }\n",
       "\n",
       "    .dataframe tbody tr th {\n",
       "        vertical-align: top;\n",
       "    }\n",
       "\n",
       "    .dataframe thead th {\n",
       "        text-align: right;\n",
       "    }\n",
       "</style>\n",
       "<table border=\"1\" class=\"dataframe\">\n",
       "  <thead>\n",
       "    <tr style=\"text-align: right;\">\n",
       "      <th></th>\n",
       "      <th>BRep</th>\n",
       "      <th>HRep</th>\n",
       "    </tr>\n",
       "    <tr>\n",
       "      <th>Session</th>\n",
       "      <th></th>\n",
       "      <th></th>\n",
       "    </tr>\n",
       "  </thead>\n",
       "  <tbody>\n",
       "    <tr>\n",
       "      <td>113</td>\n",
       "      <td>41</td>\n",
       "      <td>33</td>\n",
       "    </tr>\n",
       "    <tr>\n",
       "      <td>114</td>\n",
       "      <td>44</td>\n",
       "      <td>34</td>\n",
       "    </tr>\n",
       "    <tr>\n",
       "      <td>115</td>\n",
       "      <td>46</td>\n",
       "      <td>40</td>\n",
       "    </tr>\n",
       "  </tbody>\n",
       "</table>\n",
       "</div>"
      ],
      "text/plain": [
       "         BRep  HRep\n",
       "Session            \n",
       "113        41    33\n",
       "114        44    34\n",
       "115        46    40"
      ]
     },
     "execution_count": 15,
     "metadata": {},
     "output_type": "execute_result"
    }
   ],
   "source": [
    "min_rep_merge.groupby(\"Session\")[[\"BRep\", \"HRep\"]].sum()"
   ]
  },
  {
   "cell_type": "markdown",
   "metadata": {},
   "source": [
    "### Probit model function: run probit and sum probabilities over seats."
   ]
  },
  {
   "cell_type": "code",
   "execution_count": 16,
   "metadata": {
    "collapsed": true
   },
   "outputs": [],
   "source": [
    "def run_probit(session, frac, truth, sim_var, label, ax):\n",
    "    \n",
    "    session_slice = min_rep_merge[min_rep_merge.Session == session].copy(deep = True)\n",
    "    session_slice.reset_index(drop = True, inplace = True)\n",
    "\n",
    "    probit = sm_dm.Probit(session_slice[truth], session_slice[[frac, \"const\"]]).fit(disp = False)\n",
    "    \n",
    "    session_slice[\"Probit\"] = norm.sf(- (session_slice[frac] * probit.params[frac] + probit.params.const))\n",
    "\n",
    "    if not ax: fig, ax = plt.subplots(figsize = (2, 2))\n",
    "    session_slice.sort_values(by = frac).plot(x = frac, y = truth,    # label = \"Representatives\", \n",
    "                                              c = 'b', kind = \"scatter\", ax = ax)\n",
    "    session_slice.sort_values(by = frac).plot(x = frac, y = \"Probit\", # label = \"Probit Model\", \n",
    "                                              c = 'r', kind = \"scatter\", ax = ax)\n",
    "\n",
    "    ax.set_ylabel(\"Minority Rep.\")\n",
    "    ax.set_xlabel(label + \" Fraction\")\n",
    "\n",
    "    probit_seats = session_slice.drop_duplicates([\"State\", \"CD\"]).Probit.sum()\n",
    "    simulated_seats = (simulated[\"weight\"] * norm.sf(- (simulated[sim_var] * probit.params[frac] + probit.params.const))).sum()\n",
    "\n",
    "    print(\"{:17s} 0.50 at {:.3f}  probit_seats={:.1f} sim_seats={:.1f}  ratio={:.3f}\"\\\n",
    "          .format(sim_var, - probit.params.const / probit.params[frac], \n",
    "                  probit_seats, simulated_seats, simulated_seats / probit_seats))\n",
    "    "
   ]
  },
  {
   "cell_type": "code",
   "execution_count": 17,
   "metadata": {
    "collapsed": false
   },
   "outputs": [
    {
     "name": "stdout",
     "output_type": "stream",
     "text": [
      "black_vap_frac    0.50 at 0.352  probit_seats=46.0 sim_seats=42.1  ratio=0.916\n",
      "hispanic_vap_frac 0.50 at 0.520  probit_seats=40.0 sim_seats=37.0  ratio=0.927\n"
     ]
    },
    {
     "data": {
      "image/png": "[encoded data removed]",
      "text/plain": [
       "<Figure size 432x144 with 2 Axes>"
      ]
     },
     "metadata": {
      "needs_background": "light"
     },
     "output_type": "display_data"
    }
   ],
   "source": [
    "fig, ax = plt.subplots(1, 2, figsize = (6, 2))\n",
    "\n",
    "run_probit(115, \"black_vap_frac\",    \"BRep\", \"black_vap_frac\",    \"Black\",    ax[0])\n",
    "run_probit(115, \"hispanic_vap_frac\", \"HRep\", \"hispanic_vap_frac\", \"Hispanic\", ax[1])\n",
    "\n",
    "plt.subplots_adjust(wspace = 0.5)"
   ]
  },
  {
   "cell_type": "code",
   "execution_count": 18,
   "metadata": {
    "collapsed": false
   },
   "outputs": [
    {
     "data": {
      "text/plain": [
       "(74, 45)"
      ]
     },
     "execution_count": 18,
     "metadata": {},
     "output_type": "execute_result"
    }
   ],
   "source": [
    "min_rep_merge[(min_rep_merge.Session == 115) & (min_rep_merge.black_vap_frac >=  0.2)].shape[0], \\\n",
    "min_rep_merge[(min_rep_merge.Session == 115) & (min_rep_merge.black_vap_frac >=  0.3)].shape[0]"
   ]
  },
  {
   "cell_type": "code",
   "execution_count": null,
   "metadata": {
    "collapsed": true
   },
   "outputs": [],
   "source": []
  }
 ],
 "metadata": {
  "anaconda-cloud": {},
  "kernelspec": {
   "display_name": "Python [default]",
   "language": "python",
   "name": "python3"
  },
  "language_info": {
   "codemirror_mode": {
    "name": "ipython",
    "version": 3
   },
   "file_extension": ".py",
   "mimetype": "text/x-python",
   "name": "python",
   "nbconvert_exporter": "python",
   "pygments_lexer": "ipython3",
   "version": "3.5.6"
  }
 },
 "nbformat": 4,
 "nbformat_minor": 1
}
