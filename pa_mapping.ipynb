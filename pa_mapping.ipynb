{
 "cells": [
  {
   "cell_type": "markdown",
   "metadata": {},
   "source": [
    "Initial includes and some functions."
   ]
  },
  {
   "cell_type": "code",
   "execution_count": 1,
   "metadata": {
    "collapsed": true
   },
   "outputs": [],
   "source": [
    "from dist_tools import *\n",
    "\n",
    "%matplotlib inline\n",
    "\n",
    "fips, epsg, seats, usps = 42, 3364, 18, \"pa\"\n",
    "years = [2000, 2004, 2008, 2012]"
   ]
  },
  {
   "cell_type": "code",
   "execution_count": 2,
   "metadata": {
    "collapsed": true
   },
   "outputs": [],
   "source": [
    "cols_00_08 = [\"D00\", \"R00\", \"D04\", \"R04\", \"D08\", \"R08\", \"DNorm\", \"RNorm\"]\n",
    "cols_12    = [\"D12\", \"R12\"]\n",
    "cols = cols_00_08 + cols_12"
   ]
  },
  {
   "cell_type": "markdown",
   "metadata": {},
   "source": [
    "The 2000-2008 data is pretty clean -- just load it and change the column names."
   ]
  },
  {
   "cell_type": "code",
   "execution_count": 3,
   "metadata": {
    "collapsed": false
   },
   "outputs": [],
   "source": [
    "votes = pd.read_csv(\"/media/jsaxon/brobdingnag/data/el_dv/pa/pa_final.tab\",\n",
    "                    sep = \"\\t\", low_memory = False)\n",
    "\n",
    "votes.rename(columns = {\"uspdv2000\" : \"D00\", \"uspdv2004\" : \"D04\", \"uspdv2008\" : \"D08\", \"uspdv2012\" : \"D12\",\n",
    "                        \"usprv2000\" : \"R00\", \"usprv2004\" : \"R04\", \"usprv2008\" : \"R08\", \"usprv2012\" : \"R12\",\n",
    "                        \"ndv\" : \"DNorm\", \"nrv\" : \"RNorm\", \"geoid10\" : \"geoid\"}, inplace = True)\n",
    "\n",
    "votes = votes[[\"geoid\"] + cols_00_08]"
   ]
  },
  {
   "cell_type": "markdown",
   "metadata": {},
   "source": [
    "Now we begin on the messy business of PA 2012 -- we have to clean and then fuzzy match the data to the precincts, with a hard match on county."
   ]
  },
  {
   "cell_type": "code",
   "execution_count": 4,
   "metadata": {
    "collapsed": false
   },
   "outputs": [],
   "source": [
    "con = psycopg2.connect(database = \"census\", user = user, password = passwd,\n",
    "                       host = \"saxon.harris.uchicago.edu\", port = 5432)\n",
    "\n",
    "pa_name_query = \"\"\"SELECT vtd.state, co.name cname, vtd.county cid, vtd, vtd.geoid,\n",
    "                     REGEXP_REPLACE(REGEXP_REPLACE(REGEXP_REPLACE(REGEXP_REPLACE(\n",
    "                     REGEXP_REPLACE(REGEXP_REPLACE(REGEXP_REPLACE(REGEXP_REPLACE(\n",
    "                     REGEXP_REPLACE(REGEXP_REPLACE(REGEXP_REPLACE(REGEXP_REPLACE(\n",
    "                     REGEXP_REPLACE(REGEXP_REPLACE(\n",
    "                       UPPER(vtd.name), '\\.', '', 'g'), ' 0', ' ', 'g'), 'VTD ', 'X-'), ' VOTING DISTRICT', ''),\n",
    "                                        ' - ', ' ', 'g'), ' WD ', ' W-', 'g'), ',', ''), ' DIST ', ' D-'),\n",
    "                                        ' PCT ', ' P-'), ' BORO', ''), ' CITY', ''), ' TWP', ''), ' ED ', ' X-'),\n",
    "                                        ' DIST PCT', ' D-')\n",
    "                     vname\n",
    "                   FROM vtd_2010 vtd\n",
    "                   JOIN counties_2016 co ON\n",
    "                     co.state  = vtd.state AND\n",
    "                     co.county = vtd.county\n",
    "                   WHERE\n",
    "                     vtd.state = 42\n",
    "                   ORDER BY cid, vname;\"\"\"\n",
    "\n",
    "prdf = pd.read_sql(pa_name_query, con)\n",
    "\n",
    "pa_co = prdf[[\"cname\", \"cid\"]].drop_duplicates().reset_index()\n",
    "pa_co[\"county\"] = pa_co.cname.str.upper()\n",
    "pa_co = pa_co[[\"cid\", \"county\"]]\n",
    "\n",
    "votes_2012 = pd.read_csv(\"/media/jsaxon/brobdingnag/data/el_dv/precincts/PA_2012.tab\", \n",
    "                         delimiter = \"\\t\", low_memory = False)\n",
    "votes_2012.rename(columns={\"precinct_code\" : \"vtd\", \n",
    "                           \"g2012_USP_dv\"  : \"D12\", \n",
    "                           \"g2012_USP_rv\"  : \"R12\"}, \n",
    "                           inplace = True)\n",
    "votes_2012 = votes_2012.merge(pa_co, on = \"county\")\n",
    "votes_2012 = votes_2012[[\"county\", \"cid\", \"precinct\", \"D12\", \"R12\"]]"
   ]
  },
  {
   "cell_type": "markdown",
   "metadata": {},
   "source": [
    "In order to complete the matches, we also have to do a bit of fixing by hand."
   ]
  },
  {
   "cell_type": "code",
   "execution_count": 5,
   "metadata": {
    "collapsed": true
   },
   "outputs": [],
   "source": [
    "pct = votes_2012.precinct.str.upper()\n",
    "pct = pct.str.replace(\" BORO\", \"\")\n",
    "pct = pct.str.replace(\" CITY\", \"\")\n",
    "pct = pct.str.replace(\" TWP\", \"\")\n",
    "pct = pct.str.replace(\" - \", \" \")\n",
    "pct = pct.str.replace(\".\", \"\")\n",
    "pct = pct.str.replace(\",\", \"\")\n",
    "votes_2012.precinct = pct\n",
    "\n",
    "prdf.loc[prdf.cid == 7,  [\"vname\"]] = prdf.loc[prdf.cid == 7,  [\"vname\"]].replace({\"vname\" : {' [0-9] ' : \" \"}}, regex = True)\n",
    "prdf.loc[prdf.cid == 95, [\"vname\"]] = prdf.loc[prdf.cid == 95, [\"vname\"]].replace({\"vname\" : {r'LOWER SAUCON X-([0-9]) [A-Z ]*' :\n",
    "                                                                                              r'LOWER SAUCON X-\\1'}}, regex = True)\n",
    "prdf.loc[prdf.cid == 37, [\"vname\"]] = prdf.loc[prdf.cid == 37, [\"vname\"]].replace({\"vname\" : {r'BLOOMSBURG [TOWN D-]*([1-4])[STNDH WARD]*([ X\\-1-2]*)' :\n",
    "                                                                                              r'BLOOMSBURG W-\\1 \\2'}}, regex = True)\n",
    "prdf.loc[prdf.cid == 37, [\"vname\"]] = prdf.loc[prdf.cid == 37, [\"vname\"]].replace({\"vname\" : {r'BERWICK ([1-4])[STNDH WARD].*' :\n",
    "                                                                                              r'BERWICK W-\\1'}}, regex = True)\n",
    "\n",
    "prdf.loc[(prdf.cid == 11) & (prdf.vname == \"MOUNT PENN D-1\"), \"vname\"] = \"MT PENN D-1\"\n",
    "\n",
    "prdf.loc[(prdf.cid == 25) & (prdf.vname == \"EAST PENN D-NORTH\"), \"vname\"] = \"EAST PENN X-NORTH\"\n",
    "\n",
    "prdf.loc[(prdf.cid == 107) & (prdf.vname == \"NORTH MANHEIM D-PCT 1\"),       \"vname\"] = \"NORTH MANHEIM P-1\"\n",
    "prdf.loc[(prdf.cid == 107) & (prdf.vname == \"NORTH MANHEIM D-MELLOTS P-2\"), \"vname\"] = \"NORTH MANHEIM P-2\"\n",
    "prdf.loc[(prdf.cid == 107) & (prdf.vname == \"NORTH MANHEIM D-ADAMSDALE\"),   \"vname\"] = \"NORTH MANHEIM P-3\"\n",
    "\n",
    "votes_2012.loc[(votes_2012.cid == 25) & (votes_2012.precinct == \"SUMMIT HILL D-3 X-1\"), \"precinct\"] = \"SUMMIT HILL W-3 D-1\"\n",
    "votes_2012.loc[(votes_2012.cid == 25) & (votes_2012.precinct == \"SUMMIT HILL D-3 X-2\"), \"precinct\"] = \"SUMMIT HILL W-3 D-2\""
   ]
  },
  {
   "cell_type": "markdown",
   "metadata": {},
   "source": [
    "Hurrah for fuzzy matching!!"
   ]
  },
  {
   "cell_type": "code",
   "execution_count": 6,
   "metadata": {
    "collapsed": false
   },
   "outputs": [],
   "source": [
    "votes_2012['vname'] = \"NOMATCH\"\n",
    "for cid in list(pa_co[\"cid\"]):\n",
    "    \n",
    "    # Alternately:  .apply(lambda x: process.extractOne(x, prdf[prdf.cid == cid][\"vname\"])[0])\n",
    "    votes_2012.loc[votes_2012.cid == cid, 'vname'] = votes_2012[votes_2012.cid == cid]['precinct'].apply(lambda x: jf_jw_match(x, prdf[prdf.cid == cid][\"vname\"])[0])\n",
    "    "
   ]
  },
  {
   "cell_type": "code",
   "execution_count": 7,
   "metadata": {
    "collapsed": false
   },
   "outputs": [],
   "source": [
    "votes_2012 = votes_2012.merge(prdf, on = [\"cid\", \"vname\"])[[\"state\", \"cid\", \"cname\", \"precinct\", \"D12\", \"R12\", \"geoid\"]]"
   ]
  },
  {
   "cell_type": "markdown",
   "metadata": {},
   "source": [
    "Get the tract to precinct mapping directly from postgres."
   ]
  },
  {
   "cell_type": "code",
   "execution_count": 8,
   "metadata": {
    "collapsed": false
   },
   "outputs": [],
   "source": [
    "pr_tr_query = \"\"\"SELECT\n",
    "                   rn.rn, tr.state, tr.county cid, UPPER(co.name) county, tr.tract, \n",
    "                   pr.vtd, pr.name, pr.geoid\n",
    "                 FROM census_tracts_2015 AS tr\n",
    "                 JOIN vtd_2010 AS pr ON\n",
    "                   pr.state  = tr.state  AND\n",
    "                   pr.county = tr.county AND\n",
    "                   ST_Covers(tr.geom, ST_Centroid(pr.geom))\n",
    "                 JOIN (SELECT state, county, tract,\n",
    "                              row_number() over (PARTITION BY state ORDER BY county, tract NULLS LAST) - 1 as rn\n",
    "                       FROM census_tracts_2015) rn ON\n",
    "                   tr.state  = rn.state  AND\n",
    "                   tr.county = rn.county AND\n",
    "                   tr.tract  = rn.tract\n",
    "                 JOIN counties_2016 co ON\n",
    "                   tr.state  = co.state AND\n",
    "                   tr.county = co.county\n",
    "                 WHERE tr.state = {}\n",
    "                 ORDER BY tr.state, tr.county, tr.tract, pr.vtd;\"\"\"\n",
    "\n",
    "con = psycopg2.connect(database = \"census\", user = user, password = passwd,\n",
    "                         host = \"saxon.harris.uchicago.edu\", port = 5432)\n",
    "\n",
    "# trprdf = pd.read_sql(pr_tr_query.format(fips), con)\n",
    "# trprdf.to_csv(\"pa_trpr.csv\", index = False)\n",
    "\n",
    "pr_tr = pd.read_csv(\"pa_trpr.csv\")"
   ]
  },
  {
   "cell_type": "markdown",
   "metadata": {},
   "source": [
    "Merge everything together."
   ]
  },
  {
   "cell_type": "code",
   "execution_count": 9,
   "metadata": {
    "collapsed": false
   },
   "outputs": [],
   "source": [
    "tr_votes = pr_tr.merge(votes, on = \"geoid\")\n",
    "tr_votes = tr_votes.merge(votes_2012, on = \"geoid\")\n",
    "tr_votes = tr_votes.groupby(\"rn\")[cols].sum()\n",
    "votes = tr_votes.fillna(0.0).astype(int)"
   ]
  },
  {
   "cell_type": "code",
   "execution_count": 10,
   "metadata": {
    "collapsed": false
   },
   "outputs": [],
   "source": [
    "votes.to_csv(\"pa_votes.csv\")"
   ]
  }
 ],
 "metadata": {
  "anaconda-cloud": {},
  "kernelspec": {
   "display_name": "Python [conda root]",
   "language": "python",
   "name": "conda-root-py"
  },
  "language_info": {
   "codemirror_mode": {
    "name": "ipython",
    "version": 3
   },
   "file_extension": ".py",
   "mimetype": "text/x-python",
   "name": "python",
   "nbconvert_exporter": "python",
   "pygments_lexer": "ipython3",
   "version": "3.5.2"
  }
 },
 "nbformat": 4,
 "nbformat_minor": 1
}
